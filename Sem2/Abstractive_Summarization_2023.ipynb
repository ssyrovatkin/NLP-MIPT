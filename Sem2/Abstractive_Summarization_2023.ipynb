{
  "nbformat": 4,
  "nbformat_minor": 0,
  "metadata": {
    "accelerator": "GPU",
    "colab": {
      "provenance": []
    },
    "kernelspec": {
      "display_name": "Python 3",
      "name": "python3"
    },
    "language_info": {
      "name": "python"
    },
    "gpuClass": "standard",
    "widgets": {
      "application/vnd.jupyter.widget-state+json": {
        "a8ebc767211d4e1fb6bebeb38d5e4fdf": {
          "model_module": "@jupyter-widgets/controls",
          "model_name": "HBoxModel",
          "model_module_version": "1.5.0",
          "state": {
            "_dom_classes": [],
            "_model_module": "@jupyter-widgets/controls",
            "_model_module_version": "1.5.0",
            "_model_name": "HBoxModel",
            "_view_count": null,
            "_view_module": "@jupyter-widgets/controls",
            "_view_module_version": "1.5.0",
            "_view_name": "HBoxView",
            "box_style": "",
            "children": [
              "IPY_MODEL_47a40999ae45410f837bfd3853c42f7a",
              "IPY_MODEL_6c7bb524e6be44eca9a0a16e4f492780",
              "IPY_MODEL_6241f338d4e34f4c86df5a2dd0a56509"
            ],
            "layout": "IPY_MODEL_b626e6e2dd1a4acdae77162cf6f8616b"
          }
        },
        "47a40999ae45410f837bfd3853c42f7a": {
          "model_module": "@jupyter-widgets/controls",
          "model_name": "HTMLModel",
          "model_module_version": "1.5.0",
          "state": {
            "_dom_classes": [],
            "_model_module": "@jupyter-widgets/controls",
            "_model_module_version": "1.5.0",
            "_model_name": "HTMLModel",
            "_view_count": null,
            "_view_module": "@jupyter-widgets/controls",
            "_view_module_version": "1.5.0",
            "_view_name": "HTMLView",
            "description": "",
            "description_tooltip": null,
            "layout": "IPY_MODEL_86a574623ea447838eb3281d291915a1",
            "placeholder": "​",
            "style": "IPY_MODEL_7d91a649a1574ff7b75b186878b8c251",
            "value": "Downloading (…)okenizer_config.json: 100%"
          }
        },
        "6c7bb524e6be44eca9a0a16e4f492780": {
          "model_module": "@jupyter-widgets/controls",
          "model_name": "FloatProgressModel",
          "model_module_version": "1.5.0",
          "state": {
            "_dom_classes": [],
            "_model_module": "@jupyter-widgets/controls",
            "_model_module_version": "1.5.0",
            "_model_name": "FloatProgressModel",
            "_view_count": null,
            "_view_module": "@jupyter-widgets/controls",
            "_view_module_version": "1.5.0",
            "_view_name": "ProgressView",
            "bar_style": "success",
            "description": "",
            "description_tooltip": null,
            "layout": "IPY_MODEL_ae26a124e0c446e98f30d344c4c3e7e1",
            "max": 28,
            "min": 0,
            "orientation": "horizontal",
            "style": "IPY_MODEL_d37a2b645b5f465994d9281480ad2384",
            "value": 28
          }
        },
        "6241f338d4e34f4c86df5a2dd0a56509": {
          "model_module": "@jupyter-widgets/controls",
          "model_name": "HTMLModel",
          "model_module_version": "1.5.0",
          "state": {
            "_dom_classes": [],
            "_model_module": "@jupyter-widgets/controls",
            "_model_module_version": "1.5.0",
            "_model_name": "HTMLModel",
            "_view_count": null,
            "_view_module": "@jupyter-widgets/controls",
            "_view_module_version": "1.5.0",
            "_view_name": "HTMLView",
            "description": "",
            "description_tooltip": null,
            "layout": "IPY_MODEL_28dd9d867b234190a8996178034490c1",
            "placeholder": "​",
            "style": "IPY_MODEL_6cfdb6b99732443896f4fa81f71f5135",
            "value": " 28.0/28.0 [00:00&lt;00:00, 1.04kB/s]"
          }
        },
        "b626e6e2dd1a4acdae77162cf6f8616b": {
          "model_module": "@jupyter-widgets/base",
          "model_name": "LayoutModel",
          "model_module_version": "1.2.0",
          "state": {
            "_model_module": "@jupyter-widgets/base",
            "_model_module_version": "1.2.0",
            "_model_name": "LayoutModel",
            "_view_count": null,
            "_view_module": "@jupyter-widgets/base",
            "_view_module_version": "1.2.0",
            "_view_name": "LayoutView",
            "align_content": null,
            "align_items": null,
            "align_self": null,
            "border": null,
            "bottom": null,
            "display": null,
            "flex": null,
            "flex_flow": null,
            "grid_area": null,
            "grid_auto_columns": null,
            "grid_auto_flow": null,
            "grid_auto_rows": null,
            "grid_column": null,
            "grid_gap": null,
            "grid_row": null,
            "grid_template_areas": null,
            "grid_template_columns": null,
            "grid_template_rows": null,
            "height": null,
            "justify_content": null,
            "justify_items": null,
            "left": null,
            "margin": null,
            "max_height": null,
            "max_width": null,
            "min_height": null,
            "min_width": null,
            "object_fit": null,
            "object_position": null,
            "order": null,
            "overflow": null,
            "overflow_x": null,
            "overflow_y": null,
            "padding": null,
            "right": null,
            "top": null,
            "visibility": null,
            "width": null
          }
        },
        "86a574623ea447838eb3281d291915a1": {
          "model_module": "@jupyter-widgets/base",
          "model_name": "LayoutModel",
          "model_module_version": "1.2.0",
          "state": {
            "_model_module": "@jupyter-widgets/base",
            "_model_module_version": "1.2.0",
            "_model_name": "LayoutModel",
            "_view_count": null,
            "_view_module": "@jupyter-widgets/base",
            "_view_module_version": "1.2.0",
            "_view_name": "LayoutView",
            "align_content": null,
            "align_items": null,
            "align_self": null,
            "border": null,
            "bottom": null,
            "display": null,
            "flex": null,
            "flex_flow": null,
            "grid_area": null,
            "grid_auto_columns": null,
            "grid_auto_flow": null,
            "grid_auto_rows": null,
            "grid_column": null,
            "grid_gap": null,
            "grid_row": null,
            "grid_template_areas": null,
            "grid_template_columns": null,
            "grid_template_rows": null,
            "height": null,
            "justify_content": null,
            "justify_items": null,
            "left": null,
            "margin": null,
            "max_height": null,
            "max_width": null,
            "min_height": null,
            "min_width": null,
            "object_fit": null,
            "object_position": null,
            "order": null,
            "overflow": null,
            "overflow_x": null,
            "overflow_y": null,
            "padding": null,
            "right": null,
            "top": null,
            "visibility": null,
            "width": null
          }
        },
        "7d91a649a1574ff7b75b186878b8c251": {
          "model_module": "@jupyter-widgets/controls",
          "model_name": "DescriptionStyleModel",
          "model_module_version": "1.5.0",
          "state": {
            "_model_module": "@jupyter-widgets/controls",
            "_model_module_version": "1.5.0",
            "_model_name": "DescriptionStyleModel",
            "_view_count": null,
            "_view_module": "@jupyter-widgets/base",
            "_view_module_version": "1.2.0",
            "_view_name": "StyleView",
            "description_width": ""
          }
        },
        "ae26a124e0c446e98f30d344c4c3e7e1": {
          "model_module": "@jupyter-widgets/base",
          "model_name": "LayoutModel",
          "model_module_version": "1.2.0",
          "state": {
            "_model_module": "@jupyter-widgets/base",
            "_model_module_version": "1.2.0",
            "_model_name": "LayoutModel",
            "_view_count": null,
            "_view_module": "@jupyter-widgets/base",
            "_view_module_version": "1.2.0",
            "_view_name": "LayoutView",
            "align_content": null,
            "align_items": null,
            "align_self": null,
            "border": null,
            "bottom": null,
            "display": null,
            "flex": null,
            "flex_flow": null,
            "grid_area": null,
            "grid_auto_columns": null,
            "grid_auto_flow": null,
            "grid_auto_rows": null,
            "grid_column": null,
            "grid_gap": null,
            "grid_row": null,
            "grid_template_areas": null,
            "grid_template_columns": null,
            "grid_template_rows": null,
            "height": null,
            "justify_content": null,
            "justify_items": null,
            "left": null,
            "margin": null,
            "max_height": null,
            "max_width": null,
            "min_height": null,
            "min_width": null,
            "object_fit": null,
            "object_position": null,
            "order": null,
            "overflow": null,
            "overflow_x": null,
            "overflow_y": null,
            "padding": null,
            "right": null,
            "top": null,
            "visibility": null,
            "width": null
          }
        },
        "d37a2b645b5f465994d9281480ad2384": {
          "model_module": "@jupyter-widgets/controls",
          "model_name": "ProgressStyleModel",
          "model_module_version": "1.5.0",
          "state": {
            "_model_module": "@jupyter-widgets/controls",
            "_model_module_version": "1.5.0",
            "_model_name": "ProgressStyleModel",
            "_view_count": null,
            "_view_module": "@jupyter-widgets/base",
            "_view_module_version": "1.2.0",
            "_view_name": "StyleView",
            "bar_color": null,
            "description_width": ""
          }
        },
        "28dd9d867b234190a8996178034490c1": {
          "model_module": "@jupyter-widgets/base",
          "model_name": "LayoutModel",
          "model_module_version": "1.2.0",
          "state": {
            "_model_module": "@jupyter-widgets/base",
            "_model_module_version": "1.2.0",
            "_model_name": "LayoutModel",
            "_view_count": null,
            "_view_module": "@jupyter-widgets/base",
            "_view_module_version": "1.2.0",
            "_view_name": "LayoutView",
            "align_content": null,
            "align_items": null,
            "align_self": null,
            "border": null,
            "bottom": null,
            "display": null,
            "flex": null,
            "flex_flow": null,
            "grid_area": null,
            "grid_auto_columns": null,
            "grid_auto_flow": null,
            "grid_auto_rows": null,
            "grid_column": null,
            "grid_gap": null,
            "grid_row": null,
            "grid_template_areas": null,
            "grid_template_columns": null,
            "grid_template_rows": null,
            "height": null,
            "justify_content": null,
            "justify_items": null,
            "left": null,
            "margin": null,
            "max_height": null,
            "max_width": null,
            "min_height": null,
            "min_width": null,
            "object_fit": null,
            "object_position": null,
            "order": null,
            "overflow": null,
            "overflow_x": null,
            "overflow_y": null,
            "padding": null,
            "right": null,
            "top": null,
            "visibility": null,
            "width": null
          }
        },
        "6cfdb6b99732443896f4fa81f71f5135": {
          "model_module": "@jupyter-widgets/controls",
          "model_name": "DescriptionStyleModel",
          "model_module_version": "1.5.0",
          "state": {
            "_model_module": "@jupyter-widgets/controls",
            "_model_module_version": "1.5.0",
            "_model_name": "DescriptionStyleModel",
            "_view_count": null,
            "_view_module": "@jupyter-widgets/base",
            "_view_module_version": "1.2.0",
            "_view_name": "StyleView",
            "description_width": ""
          }
        },
        "20b0d9f3184645659a3502aaae610240": {
          "model_module": "@jupyter-widgets/controls",
          "model_name": "HBoxModel",
          "model_module_version": "1.5.0",
          "state": {
            "_dom_classes": [],
            "_model_module": "@jupyter-widgets/controls",
            "_model_module_version": "1.5.0",
            "_model_name": "HBoxModel",
            "_view_count": null,
            "_view_module": "@jupyter-widgets/controls",
            "_view_module_version": "1.5.0",
            "_view_name": "HBoxView",
            "box_style": "",
            "children": [
              "IPY_MODEL_b6911a0ad6974dd5b94d2b12cbfb27d0",
              "IPY_MODEL_3b8be9b699b144abac75df77ce02c465",
              "IPY_MODEL_92f364c99e654a09a0e7b0b1722c3a44"
            ],
            "layout": "IPY_MODEL_b473aa5649ea415b980c1262cc1ee94e"
          }
        },
        "b6911a0ad6974dd5b94d2b12cbfb27d0": {
          "model_module": "@jupyter-widgets/controls",
          "model_name": "HTMLModel",
          "model_module_version": "1.5.0",
          "state": {
            "_dom_classes": [],
            "_model_module": "@jupyter-widgets/controls",
            "_model_module_version": "1.5.0",
            "_model_name": "HTMLModel",
            "_view_count": null,
            "_view_module": "@jupyter-widgets/controls",
            "_view_module_version": "1.5.0",
            "_view_name": "HTMLView",
            "description": "",
            "description_tooltip": null,
            "layout": "IPY_MODEL_83ecdb0209344bbbaf65c7e0b081da1f",
            "placeholder": "​",
            "style": "IPY_MODEL_aeb70eb75315490f8519fd5d472b557b",
            "value": "Downloading (…)solve/main/vocab.txt: 100%"
          }
        },
        "3b8be9b699b144abac75df77ce02c465": {
          "model_module": "@jupyter-widgets/controls",
          "model_name": "FloatProgressModel",
          "model_module_version": "1.5.0",
          "state": {
            "_dom_classes": [],
            "_model_module": "@jupyter-widgets/controls",
            "_model_module_version": "1.5.0",
            "_model_name": "FloatProgressModel",
            "_view_count": null,
            "_view_module": "@jupyter-widgets/controls",
            "_view_module_version": "1.5.0",
            "_view_name": "ProgressView",
            "bar_style": "success",
            "description": "",
            "description_tooltip": null,
            "layout": "IPY_MODEL_5c59f340a2184f0c99b1ca9038b318a2",
            "max": 231508,
            "min": 0,
            "orientation": "horizontal",
            "style": "IPY_MODEL_0f8fb8d22fef4abeb524599e4260a904",
            "value": 231508
          }
        },
        "92f364c99e654a09a0e7b0b1722c3a44": {
          "model_module": "@jupyter-widgets/controls",
          "model_name": "HTMLModel",
          "model_module_version": "1.5.0",
          "state": {
            "_dom_classes": [],
            "_model_module": "@jupyter-widgets/controls",
            "_model_module_version": "1.5.0",
            "_model_name": "HTMLModel",
            "_view_count": null,
            "_view_module": "@jupyter-widgets/controls",
            "_view_module_version": "1.5.0",
            "_view_name": "HTMLView",
            "description": "",
            "description_tooltip": null,
            "layout": "IPY_MODEL_25bd275a794d41bfa1094df5d57dde12",
            "placeholder": "​",
            "style": "IPY_MODEL_6c80a2fa1f0b444cad067793d58fd5a9",
            "value": " 232k/232k [00:00&lt;00:00, 4.71MB/s]"
          }
        },
        "b473aa5649ea415b980c1262cc1ee94e": {
          "model_module": "@jupyter-widgets/base",
          "model_name": "LayoutModel",
          "model_module_version": "1.2.0",
          "state": {
            "_model_module": "@jupyter-widgets/base",
            "_model_module_version": "1.2.0",
            "_model_name": "LayoutModel",
            "_view_count": null,
            "_view_module": "@jupyter-widgets/base",
            "_view_module_version": "1.2.0",
            "_view_name": "LayoutView",
            "align_content": null,
            "align_items": null,
            "align_self": null,
            "border": null,
            "bottom": null,
            "display": null,
            "flex": null,
            "flex_flow": null,
            "grid_area": null,
            "grid_auto_columns": null,
            "grid_auto_flow": null,
            "grid_auto_rows": null,
            "grid_column": null,
            "grid_gap": null,
            "grid_row": null,
            "grid_template_areas": null,
            "grid_template_columns": null,
            "grid_template_rows": null,
            "height": null,
            "justify_content": null,
            "justify_items": null,
            "left": null,
            "margin": null,
            "max_height": null,
            "max_width": null,
            "min_height": null,
            "min_width": null,
            "object_fit": null,
            "object_position": null,
            "order": null,
            "overflow": null,
            "overflow_x": null,
            "overflow_y": null,
            "padding": null,
            "right": null,
            "top": null,
            "visibility": null,
            "width": null
          }
        },
        "83ecdb0209344bbbaf65c7e0b081da1f": {
          "model_module": "@jupyter-widgets/base",
          "model_name": "LayoutModel",
          "model_module_version": "1.2.0",
          "state": {
            "_model_module": "@jupyter-widgets/base",
            "_model_module_version": "1.2.0",
            "_model_name": "LayoutModel",
            "_view_count": null,
            "_view_module": "@jupyter-widgets/base",
            "_view_module_version": "1.2.0",
            "_view_name": "LayoutView",
            "align_content": null,
            "align_items": null,
            "align_self": null,
            "border": null,
            "bottom": null,
            "display": null,
            "flex": null,
            "flex_flow": null,
            "grid_area": null,
            "grid_auto_columns": null,
            "grid_auto_flow": null,
            "grid_auto_rows": null,
            "grid_column": null,
            "grid_gap": null,
            "grid_row": null,
            "grid_template_areas": null,
            "grid_template_columns": null,
            "grid_template_rows": null,
            "height": null,
            "justify_content": null,
            "justify_items": null,
            "left": null,
            "margin": null,
            "max_height": null,
            "max_width": null,
            "min_height": null,
            "min_width": null,
            "object_fit": null,
            "object_position": null,
            "order": null,
            "overflow": null,
            "overflow_x": null,
            "overflow_y": null,
            "padding": null,
            "right": null,
            "top": null,
            "visibility": null,
            "width": null
          }
        },
        "aeb70eb75315490f8519fd5d472b557b": {
          "model_module": "@jupyter-widgets/controls",
          "model_name": "DescriptionStyleModel",
          "model_module_version": "1.5.0",
          "state": {
            "_model_module": "@jupyter-widgets/controls",
            "_model_module_version": "1.5.0",
            "_model_name": "DescriptionStyleModel",
            "_view_count": null,
            "_view_module": "@jupyter-widgets/base",
            "_view_module_version": "1.2.0",
            "_view_name": "StyleView",
            "description_width": ""
          }
        },
        "5c59f340a2184f0c99b1ca9038b318a2": {
          "model_module": "@jupyter-widgets/base",
          "model_name": "LayoutModel",
          "model_module_version": "1.2.0",
          "state": {
            "_model_module": "@jupyter-widgets/base",
            "_model_module_version": "1.2.0",
            "_model_name": "LayoutModel",
            "_view_count": null,
            "_view_module": "@jupyter-widgets/base",
            "_view_module_version": "1.2.0",
            "_view_name": "LayoutView",
            "align_content": null,
            "align_items": null,
            "align_self": null,
            "border": null,
            "bottom": null,
            "display": null,
            "flex": null,
            "flex_flow": null,
            "grid_area": null,
            "grid_auto_columns": null,
            "grid_auto_flow": null,
            "grid_auto_rows": null,
            "grid_column": null,
            "grid_gap": null,
            "grid_row": null,
            "grid_template_areas": null,
            "grid_template_columns": null,
            "grid_template_rows": null,
            "height": null,
            "justify_content": null,
            "justify_items": null,
            "left": null,
            "margin": null,
            "max_height": null,
            "max_width": null,
            "min_height": null,
            "min_width": null,
            "object_fit": null,
            "object_position": null,
            "order": null,
            "overflow": null,
            "overflow_x": null,
            "overflow_y": null,
            "padding": null,
            "right": null,
            "top": null,
            "visibility": null,
            "width": null
          }
        },
        "0f8fb8d22fef4abeb524599e4260a904": {
          "model_module": "@jupyter-widgets/controls",
          "model_name": "ProgressStyleModel",
          "model_module_version": "1.5.0",
          "state": {
            "_model_module": "@jupyter-widgets/controls",
            "_model_module_version": "1.5.0",
            "_model_name": "ProgressStyleModel",
            "_view_count": null,
            "_view_module": "@jupyter-widgets/base",
            "_view_module_version": "1.2.0",
            "_view_name": "StyleView",
            "bar_color": null,
            "description_width": ""
          }
        },
        "25bd275a794d41bfa1094df5d57dde12": {
          "model_module": "@jupyter-widgets/base",
          "model_name": "LayoutModel",
          "model_module_version": "1.2.0",
          "state": {
            "_model_module": "@jupyter-widgets/base",
            "_model_module_version": "1.2.0",
            "_model_name": "LayoutModel",
            "_view_count": null,
            "_view_module": "@jupyter-widgets/base",
            "_view_module_version": "1.2.0",
            "_view_name": "LayoutView",
            "align_content": null,
            "align_items": null,
            "align_self": null,
            "border": null,
            "bottom": null,
            "display": null,
            "flex": null,
            "flex_flow": null,
            "grid_area": null,
            "grid_auto_columns": null,
            "grid_auto_flow": null,
            "grid_auto_rows": null,
            "grid_column": null,
            "grid_gap": null,
            "grid_row": null,
            "grid_template_areas": null,
            "grid_template_columns": null,
            "grid_template_rows": null,
            "height": null,
            "justify_content": null,
            "justify_items": null,
            "left": null,
            "margin": null,
            "max_height": null,
            "max_width": null,
            "min_height": null,
            "min_width": null,
            "object_fit": null,
            "object_position": null,
            "order": null,
            "overflow": null,
            "overflow_x": null,
            "overflow_y": null,
            "padding": null,
            "right": null,
            "top": null,
            "visibility": null,
            "width": null
          }
        },
        "6c80a2fa1f0b444cad067793d58fd5a9": {
          "model_module": "@jupyter-widgets/controls",
          "model_name": "DescriptionStyleModel",
          "model_module_version": "1.5.0",
          "state": {
            "_model_module": "@jupyter-widgets/controls",
            "_model_module_version": "1.5.0",
            "_model_name": "DescriptionStyleModel",
            "_view_count": null,
            "_view_module": "@jupyter-widgets/base",
            "_view_module_version": "1.2.0",
            "_view_name": "StyleView",
            "description_width": ""
          }
        },
        "82871e33812b49efb1294074ba7acd1a": {
          "model_module": "@jupyter-widgets/controls",
          "model_name": "HBoxModel",
          "model_module_version": "1.5.0",
          "state": {
            "_dom_classes": [],
            "_model_module": "@jupyter-widgets/controls",
            "_model_module_version": "1.5.0",
            "_model_name": "HBoxModel",
            "_view_count": null,
            "_view_module": "@jupyter-widgets/controls",
            "_view_module_version": "1.5.0",
            "_view_name": "HBoxView",
            "box_style": "",
            "children": [
              "IPY_MODEL_dc663a015fc74bce97cca60310a886e1",
              "IPY_MODEL_fd049cb819b8468d87d54b65c57bac09",
              "IPY_MODEL_dcaddb6f627741899c401728ea4fa66e"
            ],
            "layout": "IPY_MODEL_280c244d66ed454ab67f8fb3a84d5e94"
          }
        },
        "dc663a015fc74bce97cca60310a886e1": {
          "model_module": "@jupyter-widgets/controls",
          "model_name": "HTMLModel",
          "model_module_version": "1.5.0",
          "state": {
            "_dom_classes": [],
            "_model_module": "@jupyter-widgets/controls",
            "_model_module_version": "1.5.0",
            "_model_name": "HTMLModel",
            "_view_count": null,
            "_view_module": "@jupyter-widgets/controls",
            "_view_module_version": "1.5.0",
            "_view_name": "HTMLView",
            "description": "",
            "description_tooltip": null,
            "layout": "IPY_MODEL_7e0bbcb8652f474da544195029f2a6b0",
            "placeholder": "​",
            "style": "IPY_MODEL_9120b04d96674171953c204b384b4ccb",
            "value": "Downloading (…)/main/tokenizer.json: 100%"
          }
        },
        "fd049cb819b8468d87d54b65c57bac09": {
          "model_module": "@jupyter-widgets/controls",
          "model_name": "FloatProgressModel",
          "model_module_version": "1.5.0",
          "state": {
            "_dom_classes": [],
            "_model_module": "@jupyter-widgets/controls",
            "_model_module_version": "1.5.0",
            "_model_name": "FloatProgressModel",
            "_view_count": null,
            "_view_module": "@jupyter-widgets/controls",
            "_view_module_version": "1.5.0",
            "_view_name": "ProgressView",
            "bar_style": "success",
            "description": "",
            "description_tooltip": null,
            "layout": "IPY_MODEL_2037a1d448ec41749535c8d544a6b19a",
            "max": 466062,
            "min": 0,
            "orientation": "horizontal",
            "style": "IPY_MODEL_7b906fe8aff44005961db341330daa18",
            "value": 466062
          }
        },
        "dcaddb6f627741899c401728ea4fa66e": {
          "model_module": "@jupyter-widgets/controls",
          "model_name": "HTMLModel",
          "model_module_version": "1.5.0",
          "state": {
            "_dom_classes": [],
            "_model_module": "@jupyter-widgets/controls",
            "_model_module_version": "1.5.0",
            "_model_name": "HTMLModel",
            "_view_count": null,
            "_view_module": "@jupyter-widgets/controls",
            "_view_module_version": "1.5.0",
            "_view_name": "HTMLView",
            "description": "",
            "description_tooltip": null,
            "layout": "IPY_MODEL_9e15a1a6ecb84f04847c353eeeb8c48b",
            "placeholder": "​",
            "style": "IPY_MODEL_160cd9c5b4624b9f9f9f088e8671bd4c",
            "value": " 466k/466k [00:00&lt;00:00, 20.7MB/s]"
          }
        },
        "280c244d66ed454ab67f8fb3a84d5e94": {
          "model_module": "@jupyter-widgets/base",
          "model_name": "LayoutModel",
          "model_module_version": "1.2.0",
          "state": {
            "_model_module": "@jupyter-widgets/base",
            "_model_module_version": "1.2.0",
            "_model_name": "LayoutModel",
            "_view_count": null,
            "_view_module": "@jupyter-widgets/base",
            "_view_module_version": "1.2.0",
            "_view_name": "LayoutView",
            "align_content": null,
            "align_items": null,
            "align_self": null,
            "border": null,
            "bottom": null,
            "display": null,
            "flex": null,
            "flex_flow": null,
            "grid_area": null,
            "grid_auto_columns": null,
            "grid_auto_flow": null,
            "grid_auto_rows": null,
            "grid_column": null,
            "grid_gap": null,
            "grid_row": null,
            "grid_template_areas": null,
            "grid_template_columns": null,
            "grid_template_rows": null,
            "height": null,
            "justify_content": null,
            "justify_items": null,
            "left": null,
            "margin": null,
            "max_height": null,
            "max_width": null,
            "min_height": null,
            "min_width": null,
            "object_fit": null,
            "object_position": null,
            "order": null,
            "overflow": null,
            "overflow_x": null,
            "overflow_y": null,
            "padding": null,
            "right": null,
            "top": null,
            "visibility": null,
            "width": null
          }
        },
        "7e0bbcb8652f474da544195029f2a6b0": {
          "model_module": "@jupyter-widgets/base",
          "model_name": "LayoutModel",
          "model_module_version": "1.2.0",
          "state": {
            "_model_module": "@jupyter-widgets/base",
            "_model_module_version": "1.2.0",
            "_model_name": "LayoutModel",
            "_view_count": null,
            "_view_module": "@jupyter-widgets/base",
            "_view_module_version": "1.2.0",
            "_view_name": "LayoutView",
            "align_content": null,
            "align_items": null,
            "align_self": null,
            "border": null,
            "bottom": null,
            "display": null,
            "flex": null,
            "flex_flow": null,
            "grid_area": null,
            "grid_auto_columns": null,
            "grid_auto_flow": null,
            "grid_auto_rows": null,
            "grid_column": null,
            "grid_gap": null,
            "grid_row": null,
            "grid_template_areas": null,
            "grid_template_columns": null,
            "grid_template_rows": null,
            "height": null,
            "justify_content": null,
            "justify_items": null,
            "left": null,
            "margin": null,
            "max_height": null,
            "max_width": null,
            "min_height": null,
            "min_width": null,
            "object_fit": null,
            "object_position": null,
            "order": null,
            "overflow": null,
            "overflow_x": null,
            "overflow_y": null,
            "padding": null,
            "right": null,
            "top": null,
            "visibility": null,
            "width": null
          }
        },
        "9120b04d96674171953c204b384b4ccb": {
          "model_module": "@jupyter-widgets/controls",
          "model_name": "DescriptionStyleModel",
          "model_module_version": "1.5.0",
          "state": {
            "_model_module": "@jupyter-widgets/controls",
            "_model_module_version": "1.5.0",
            "_model_name": "DescriptionStyleModel",
            "_view_count": null,
            "_view_module": "@jupyter-widgets/base",
            "_view_module_version": "1.2.0",
            "_view_name": "StyleView",
            "description_width": ""
          }
        },
        "2037a1d448ec41749535c8d544a6b19a": {
          "model_module": "@jupyter-widgets/base",
          "model_name": "LayoutModel",
          "model_module_version": "1.2.0",
          "state": {
            "_model_module": "@jupyter-widgets/base",
            "_model_module_version": "1.2.0",
            "_model_name": "LayoutModel",
            "_view_count": null,
            "_view_module": "@jupyter-widgets/base",
            "_view_module_version": "1.2.0",
            "_view_name": "LayoutView",
            "align_content": null,
            "align_items": null,
            "align_self": null,
            "border": null,
            "bottom": null,
            "display": null,
            "flex": null,
            "flex_flow": null,
            "grid_area": null,
            "grid_auto_columns": null,
            "grid_auto_flow": null,
            "grid_auto_rows": null,
            "grid_column": null,
            "grid_gap": null,
            "grid_row": null,
            "grid_template_areas": null,
            "grid_template_columns": null,
            "grid_template_rows": null,
            "height": null,
            "justify_content": null,
            "justify_items": null,
            "left": null,
            "margin": null,
            "max_height": null,
            "max_width": null,
            "min_height": null,
            "min_width": null,
            "object_fit": null,
            "object_position": null,
            "order": null,
            "overflow": null,
            "overflow_x": null,
            "overflow_y": null,
            "padding": null,
            "right": null,
            "top": null,
            "visibility": null,
            "width": null
          }
        },
        "7b906fe8aff44005961db341330daa18": {
          "model_module": "@jupyter-widgets/controls",
          "model_name": "ProgressStyleModel",
          "model_module_version": "1.5.0",
          "state": {
            "_model_module": "@jupyter-widgets/controls",
            "_model_module_version": "1.5.0",
            "_model_name": "ProgressStyleModel",
            "_view_count": null,
            "_view_module": "@jupyter-widgets/base",
            "_view_module_version": "1.2.0",
            "_view_name": "StyleView",
            "bar_color": null,
            "description_width": ""
          }
        },
        "9e15a1a6ecb84f04847c353eeeb8c48b": {
          "model_module": "@jupyter-widgets/base",
          "model_name": "LayoutModel",
          "model_module_version": "1.2.0",
          "state": {
            "_model_module": "@jupyter-widgets/base",
            "_model_module_version": "1.2.0",
            "_model_name": "LayoutModel",
            "_view_count": null,
            "_view_module": "@jupyter-widgets/base",
            "_view_module_version": "1.2.0",
            "_view_name": "LayoutView",
            "align_content": null,
            "align_items": null,
            "align_self": null,
            "border": null,
            "bottom": null,
            "display": null,
            "flex": null,
            "flex_flow": null,
            "grid_area": null,
            "grid_auto_columns": null,
            "grid_auto_flow": null,
            "grid_auto_rows": null,
            "grid_column": null,
            "grid_gap": null,
            "grid_row": null,
            "grid_template_areas": null,
            "grid_template_columns": null,
            "grid_template_rows": null,
            "height": null,
            "justify_content": null,
            "justify_items": null,
            "left": null,
            "margin": null,
            "max_height": null,
            "max_width": null,
            "min_height": null,
            "min_width": null,
            "object_fit": null,
            "object_position": null,
            "order": null,
            "overflow": null,
            "overflow_x": null,
            "overflow_y": null,
            "padding": null,
            "right": null,
            "top": null,
            "visibility": null,
            "width": null
          }
        },
        "160cd9c5b4624b9f9f9f088e8671bd4c": {
          "model_module": "@jupyter-widgets/controls",
          "model_name": "DescriptionStyleModel",
          "model_module_version": "1.5.0",
          "state": {
            "_model_module": "@jupyter-widgets/controls",
            "_model_module_version": "1.5.0",
            "_model_name": "DescriptionStyleModel",
            "_view_count": null,
            "_view_module": "@jupyter-widgets/base",
            "_view_module_version": "1.2.0",
            "_view_name": "StyleView",
            "description_width": ""
          }
        },
        "ec89459d43dc40819aed7ffb5030314e": {
          "model_module": "@jupyter-widgets/controls",
          "model_name": "HBoxModel",
          "model_module_version": "1.5.0",
          "state": {
            "_dom_classes": [],
            "_model_module": "@jupyter-widgets/controls",
            "_model_module_version": "1.5.0",
            "_model_name": "HBoxModel",
            "_view_count": null,
            "_view_module": "@jupyter-widgets/controls",
            "_view_module_version": "1.5.0",
            "_view_name": "HBoxView",
            "box_style": "",
            "children": [
              "IPY_MODEL_4cff6e0802cc438bbb37b9c40eee3a88",
              "IPY_MODEL_25757df4d8764b8da504891c7d98e4a6",
              "IPY_MODEL_91f045035a3d4121968a1bbabd5d8aea"
            ],
            "layout": "IPY_MODEL_b81c225fc12044dab89bdbe36b4e17fa"
          }
        },
        "4cff6e0802cc438bbb37b9c40eee3a88": {
          "model_module": "@jupyter-widgets/controls",
          "model_name": "HTMLModel",
          "model_module_version": "1.5.0",
          "state": {
            "_dom_classes": [],
            "_model_module": "@jupyter-widgets/controls",
            "_model_module_version": "1.5.0",
            "_model_name": "HTMLModel",
            "_view_count": null,
            "_view_module": "@jupyter-widgets/controls",
            "_view_module_version": "1.5.0",
            "_view_name": "HTMLView",
            "description": "",
            "description_tooltip": null,
            "layout": "IPY_MODEL_6118b7a466c44527b61bf845e93a1c95",
            "placeholder": "​",
            "style": "IPY_MODEL_a612f622e0c84d11a8166aa5362cb2cd",
            "value": "Downloading (…)lve/main/config.json: 100%"
          }
        },
        "25757df4d8764b8da504891c7d98e4a6": {
          "model_module": "@jupyter-widgets/controls",
          "model_name": "FloatProgressModel",
          "model_module_version": "1.5.0",
          "state": {
            "_dom_classes": [],
            "_model_module": "@jupyter-widgets/controls",
            "_model_module_version": "1.5.0",
            "_model_name": "FloatProgressModel",
            "_view_count": null,
            "_view_module": "@jupyter-widgets/controls",
            "_view_module_version": "1.5.0",
            "_view_name": "ProgressView",
            "bar_style": "success",
            "description": "",
            "description_tooltip": null,
            "layout": "IPY_MODEL_1ff232289ba34c998cfa01bd7176f8ff",
            "max": 483,
            "min": 0,
            "orientation": "horizontal",
            "style": "IPY_MODEL_0d2f6d0c756c4e8a99b1796332820ed6",
            "value": 483
          }
        },
        "91f045035a3d4121968a1bbabd5d8aea": {
          "model_module": "@jupyter-widgets/controls",
          "model_name": "HTMLModel",
          "model_module_version": "1.5.0",
          "state": {
            "_dom_classes": [],
            "_model_module": "@jupyter-widgets/controls",
            "_model_module_version": "1.5.0",
            "_model_name": "HTMLModel",
            "_view_count": null,
            "_view_module": "@jupyter-widgets/controls",
            "_view_module_version": "1.5.0",
            "_view_name": "HTMLView",
            "description": "",
            "description_tooltip": null,
            "layout": "IPY_MODEL_f6dc222fc664484d9b27817e2e60db32",
            "placeholder": "​",
            "style": "IPY_MODEL_ad7fc237dab04947a247469691660c6b",
            "value": " 483/483 [00:00&lt;00:00, 29.2kB/s]"
          }
        },
        "b81c225fc12044dab89bdbe36b4e17fa": {
          "model_module": "@jupyter-widgets/base",
          "model_name": "LayoutModel",
          "model_module_version": "1.2.0",
          "state": {
            "_model_module": "@jupyter-widgets/base",
            "_model_module_version": "1.2.0",
            "_model_name": "LayoutModel",
            "_view_count": null,
            "_view_module": "@jupyter-widgets/base",
            "_view_module_version": "1.2.0",
            "_view_name": "LayoutView",
            "align_content": null,
            "align_items": null,
            "align_self": null,
            "border": null,
            "bottom": null,
            "display": null,
            "flex": null,
            "flex_flow": null,
            "grid_area": null,
            "grid_auto_columns": null,
            "grid_auto_flow": null,
            "grid_auto_rows": null,
            "grid_column": null,
            "grid_gap": null,
            "grid_row": null,
            "grid_template_areas": null,
            "grid_template_columns": null,
            "grid_template_rows": null,
            "height": null,
            "justify_content": null,
            "justify_items": null,
            "left": null,
            "margin": null,
            "max_height": null,
            "max_width": null,
            "min_height": null,
            "min_width": null,
            "object_fit": null,
            "object_position": null,
            "order": null,
            "overflow": null,
            "overflow_x": null,
            "overflow_y": null,
            "padding": null,
            "right": null,
            "top": null,
            "visibility": null,
            "width": null
          }
        },
        "6118b7a466c44527b61bf845e93a1c95": {
          "model_module": "@jupyter-widgets/base",
          "model_name": "LayoutModel",
          "model_module_version": "1.2.0",
          "state": {
            "_model_module": "@jupyter-widgets/base",
            "_model_module_version": "1.2.0",
            "_model_name": "LayoutModel",
            "_view_count": null,
            "_view_module": "@jupyter-widgets/base",
            "_view_module_version": "1.2.0",
            "_view_name": "LayoutView",
            "align_content": null,
            "align_items": null,
            "align_self": null,
            "border": null,
            "bottom": null,
            "display": null,
            "flex": null,
            "flex_flow": null,
            "grid_area": null,
            "grid_auto_columns": null,
            "grid_auto_flow": null,
            "grid_auto_rows": null,
            "grid_column": null,
            "grid_gap": null,
            "grid_row": null,
            "grid_template_areas": null,
            "grid_template_columns": null,
            "grid_template_rows": null,
            "height": null,
            "justify_content": null,
            "justify_items": null,
            "left": null,
            "margin": null,
            "max_height": null,
            "max_width": null,
            "min_height": null,
            "min_width": null,
            "object_fit": null,
            "object_position": null,
            "order": null,
            "overflow": null,
            "overflow_x": null,
            "overflow_y": null,
            "padding": null,
            "right": null,
            "top": null,
            "visibility": null,
            "width": null
          }
        },
        "a612f622e0c84d11a8166aa5362cb2cd": {
          "model_module": "@jupyter-widgets/controls",
          "model_name": "DescriptionStyleModel",
          "model_module_version": "1.5.0",
          "state": {
            "_model_module": "@jupyter-widgets/controls",
            "_model_module_version": "1.5.0",
            "_model_name": "DescriptionStyleModel",
            "_view_count": null,
            "_view_module": "@jupyter-widgets/base",
            "_view_module_version": "1.2.0",
            "_view_name": "StyleView",
            "description_width": ""
          }
        },
        "1ff232289ba34c998cfa01bd7176f8ff": {
          "model_module": "@jupyter-widgets/base",
          "model_name": "LayoutModel",
          "model_module_version": "1.2.0",
          "state": {
            "_model_module": "@jupyter-widgets/base",
            "_model_module_version": "1.2.0",
            "_model_name": "LayoutModel",
            "_view_count": null,
            "_view_module": "@jupyter-widgets/base",
            "_view_module_version": "1.2.0",
            "_view_name": "LayoutView",
            "align_content": null,
            "align_items": null,
            "align_self": null,
            "border": null,
            "bottom": null,
            "display": null,
            "flex": null,
            "flex_flow": null,
            "grid_area": null,
            "grid_auto_columns": null,
            "grid_auto_flow": null,
            "grid_auto_rows": null,
            "grid_column": null,
            "grid_gap": null,
            "grid_row": null,
            "grid_template_areas": null,
            "grid_template_columns": null,
            "grid_template_rows": null,
            "height": null,
            "justify_content": null,
            "justify_items": null,
            "left": null,
            "margin": null,
            "max_height": null,
            "max_width": null,
            "min_height": null,
            "min_width": null,
            "object_fit": null,
            "object_position": null,
            "order": null,
            "overflow": null,
            "overflow_x": null,
            "overflow_y": null,
            "padding": null,
            "right": null,
            "top": null,
            "visibility": null,
            "width": null
          }
        },
        "0d2f6d0c756c4e8a99b1796332820ed6": {
          "model_module": "@jupyter-widgets/controls",
          "model_name": "ProgressStyleModel",
          "model_module_version": "1.5.0",
          "state": {
            "_model_module": "@jupyter-widgets/controls",
            "_model_module_version": "1.5.0",
            "_model_name": "ProgressStyleModel",
            "_view_count": null,
            "_view_module": "@jupyter-widgets/base",
            "_view_module_version": "1.2.0",
            "_view_name": "StyleView",
            "bar_color": null,
            "description_width": ""
          }
        },
        "f6dc222fc664484d9b27817e2e60db32": {
          "model_module": "@jupyter-widgets/base",
          "model_name": "LayoutModel",
          "model_module_version": "1.2.0",
          "state": {
            "_model_module": "@jupyter-widgets/base",
            "_model_module_version": "1.2.0",
            "_model_name": "LayoutModel",
            "_view_count": null,
            "_view_module": "@jupyter-widgets/base",
            "_view_module_version": "1.2.0",
            "_view_name": "LayoutView",
            "align_content": null,
            "align_items": null,
            "align_self": null,
            "border": null,
            "bottom": null,
            "display": null,
            "flex": null,
            "flex_flow": null,
            "grid_area": null,
            "grid_auto_columns": null,
            "grid_auto_flow": null,
            "grid_auto_rows": null,
            "grid_column": null,
            "grid_gap": null,
            "grid_row": null,
            "grid_template_areas": null,
            "grid_template_columns": null,
            "grid_template_rows": null,
            "height": null,
            "justify_content": null,
            "justify_items": null,
            "left": null,
            "margin": null,
            "max_height": null,
            "max_width": null,
            "min_height": null,
            "min_width": null,
            "object_fit": null,
            "object_position": null,
            "order": null,
            "overflow": null,
            "overflow_x": null,
            "overflow_y": null,
            "padding": null,
            "right": null,
            "top": null,
            "visibility": null,
            "width": null
          }
        },
        "ad7fc237dab04947a247469691660c6b": {
          "model_module": "@jupyter-widgets/controls",
          "model_name": "DescriptionStyleModel",
          "model_module_version": "1.5.0",
          "state": {
            "_model_module": "@jupyter-widgets/controls",
            "_model_module_version": "1.5.0",
            "_model_name": "DescriptionStyleModel",
            "_view_count": null,
            "_view_module": "@jupyter-widgets/base",
            "_view_module_version": "1.2.0",
            "_view_name": "StyleView",
            "description_width": ""
          }
        }
      }
    }
  },
  "cells": [
    {
      "cell_type": "code",
      "metadata": {
        "colab": {
          "base_uri": "https://localhost:8080/"
        },
        "id": "k_4X5aZ11nLw",
        "outputId": "6fec4df8-3b45-43d5-c2d3-42df1c921d62"
      },
      "source": [
        "! pip install transformers"
      ],
      "execution_count": null,
      "outputs": [
        {
          "output_type": "stream",
          "name": "stdout",
          "text": [
            "Looking in indexes: https://pypi.org/simple, https://us-python.pkg.dev/colab-wheels/public/simple/\n",
            "Collecting transformers\n",
            "  Downloading transformers-4.28.1-py3-none-any.whl (7.0 MB)\n",
            "\u001b[2K     \u001b[90m━━━━━━━━━━━━━━━━━━━━━━━━━━━━━━━━━━━━━━━━\u001b[0m \u001b[32m7.0/7.0 MB\u001b[0m \u001b[31m44.1 MB/s\u001b[0m eta \u001b[36m0:00:00\u001b[0m\n",
            "\u001b[?25hRequirement already satisfied: tqdm>=4.27 in /usr/local/lib/python3.10/dist-packages (from transformers) (4.65.0)\n",
            "Requirement already satisfied: regex!=2019.12.17 in /usr/local/lib/python3.10/dist-packages (from transformers) (2022.10.31)\n",
            "Collecting tokenizers!=0.11.3,<0.14,>=0.11.1\n",
            "  Downloading tokenizers-0.13.3-cp310-cp310-manylinux_2_17_x86_64.manylinux2014_x86_64.whl (7.8 MB)\n",
            "\u001b[2K     \u001b[90m━━━━━━━━━━━━━━━━━━━━━━━━━━━━━━━━━━━━━━━━\u001b[0m \u001b[32m7.8/7.8 MB\u001b[0m \u001b[31m74.8 MB/s\u001b[0m eta \u001b[36m0:00:00\u001b[0m\n",
            "\u001b[?25hRequirement already satisfied: numpy>=1.17 in /usr/local/lib/python3.10/dist-packages (from transformers) (1.22.4)\n",
            "Collecting huggingface-hub<1.0,>=0.11.0\n",
            "  Downloading huggingface_hub-0.14.1-py3-none-any.whl (224 kB)\n",
            "\u001b[2K     \u001b[90m━━━━━━━━━━━━━━━━━━━━━━━━━━━━━━━━━━━━━━\u001b[0m \u001b[32m224.5/224.5 kB\u001b[0m \u001b[31m15.2 MB/s\u001b[0m eta \u001b[36m0:00:00\u001b[0m\n",
            "\u001b[?25hRequirement already satisfied: filelock in /usr/local/lib/python3.10/dist-packages (from transformers) (3.12.0)\n",
            "Requirement already satisfied: pyyaml>=5.1 in /usr/local/lib/python3.10/dist-packages (from transformers) (6.0)\n",
            "Requirement already satisfied: packaging>=20.0 in /usr/local/lib/python3.10/dist-packages (from transformers) (23.1)\n",
            "Requirement already satisfied: requests in /usr/local/lib/python3.10/dist-packages (from transformers) (2.27.1)\n",
            "Requirement already satisfied: fsspec in /usr/local/lib/python3.10/dist-packages (from huggingface-hub<1.0,>=0.11.0->transformers) (2023.4.0)\n",
            "Requirement already satisfied: typing-extensions>=3.7.4.3 in /usr/local/lib/python3.10/dist-packages (from huggingface-hub<1.0,>=0.11.0->transformers) (4.5.0)\n",
            "Requirement already satisfied: certifi>=2017.4.17 in /usr/local/lib/python3.10/dist-packages (from requests->transformers) (2022.12.7)\n",
            "Requirement already satisfied: charset-normalizer~=2.0.0 in /usr/local/lib/python3.10/dist-packages (from requests->transformers) (2.0.12)\n",
            "Requirement already satisfied: urllib3<1.27,>=1.21.1 in /usr/local/lib/python3.10/dist-packages (from requests->transformers) (1.26.15)\n",
            "Requirement already satisfied: idna<4,>=2.5 in /usr/local/lib/python3.10/dist-packages (from requests->transformers) (3.4)\n",
            "Installing collected packages: tokenizers, huggingface-hub, transformers\n",
            "Successfully installed huggingface-hub-0.14.1 tokenizers-0.13.3 transformers-4.28.1\n"
          ]
        }
      ]
    },
    {
      "cell_type": "code",
      "source": [
        "! wget https://data.deepai.org/gigaword.zip"
      ],
      "metadata": {
        "colab": {
          "base_uri": "https://localhost:8080/"
        },
        "id": "UGNLUZaHjYi7",
        "outputId": "bc4b023e-0086-4f93-9148-d09f9794f1eb"
      },
      "execution_count": null,
      "outputs": [
        {
          "output_type": "stream",
          "name": "stdout",
          "text": [
            "--2023-04-30 10:11:32--  https://data.deepai.org/gigaword.zip\n",
            "Resolving data.deepai.org (data.deepai.org)... 185.93.1.250, 2400:52e0:1a00::871:1\n",
            "Connecting to data.deepai.org (data.deepai.org)|185.93.1.250|:443... connected.\n",
            "HTTP request sent, awaiting response... 200 OK\n",
            "Length: 297054860 (283M) [application/zip]\n",
            "Saving to: ‘gigaword.zip’\n",
            "\n",
            "gigaword.zip        100%[===================>] 283.29M  3.95MB/s    in 74s     \n",
            "\n",
            "2023-04-30 10:12:46 (3.84 MB/s) - ‘gigaword.zip’ saved [297054860/297054860]\n",
            "\n"
          ]
        }
      ]
    },
    {
      "cell_type": "code",
      "metadata": {
        "id": "j6A_qUxi3NDz",
        "colab": {
          "base_uri": "https://localhost:8080/"
        },
        "outputId": "834a5298-a446-4320-c000-f3c1c4a4fe59"
      },
      "source": [
        "! unzip gigaword.zip"
      ],
      "execution_count": null,
      "outputs": [
        {
          "output_type": "stream",
          "name": "stdout",
          "text": [
            "Archive:  gigaword.zip\n",
            "  inflating: sumdata/DUC2003/input.txt  \n",
            "  inflating: sumdata/DUC2003/task1_ref0.txt  \n",
            "  inflating: sumdata/DUC2003/task1_ref1.txt  \n",
            "  inflating: sumdata/DUC2003/task1_ref2.txt  \n",
            "  inflating: sumdata/DUC2003/task1_ref3.txt  \n",
            "  inflating: sumdata/DUC2004/input.txt  \n",
            "  inflating: sumdata/DUC2004/task1_ref0.txt  \n",
            "  inflating: sumdata/DUC2004/task1_ref1.txt  \n",
            "  inflating: sumdata/DUC2004/task1_ref2.txt  \n",
            "  inflating: sumdata/DUC2004/task1_ref3.txt  \n",
            "  inflating: sumdata/Giga/input.txt  \n",
            "  inflating: sumdata/Giga/task1_ref0.txt  \n",
            "  inflating: sumdata/train/train.article.txt  \n",
            "  inflating: sumdata/train/train.title.txt  \n",
            "  inflating: sumdata/train/valid.article.filter.txt  \n",
            "  inflating: sumdata/train/valid.title.filter.txt  \n"
          ]
        }
      ]
    },
    {
      "cell_type": "code",
      "metadata": {
        "colab": {
          "base_uri": "https://localhost:8080/"
        },
        "id": "Vk8IXbVOqjFh",
        "outputId": "bdbf4df6-f2e0-40bc-f1f5-bb09ab1839ed"
      },
      "source": [
        "! ls sumdata/train"
      ],
      "execution_count": null,
      "outputs": [
        {
          "output_type": "stream",
          "name": "stdout",
          "text": [
            "train.article.txt  valid.article.filter.txt\n",
            "train.title.txt    valid.title.filter.txt\n"
          ]
        }
      ]
    },
    {
      "cell_type": "code",
      "metadata": {
        "id": "1Iveob-orrSq"
      },
      "source": [
        "src_train_texts = open(\"sumdata/train/train.article.txt\").readlines()\n",
        "tar_train_texts = open(\"sumdata/train/train.title.txt\").readlines()"
      ],
      "execution_count": null,
      "outputs": []
    },
    {
      "cell_type": "code",
      "metadata": {
        "id": "VHjtrbu-s9Zu"
      },
      "source": [
        "src_valid_texts = open(\"sumdata/train/valid.article.filter.txt\").readlines()\n",
        "tar_valid_texts = open(\"sumdata/train/valid.title.filter.txt\").readlines()"
      ],
      "execution_count": null,
      "outputs": []
    },
    {
      "cell_type": "code",
      "metadata": {
        "id": "aBE_o5BSsgiN",
        "colab": {
          "base_uri": "https://localhost:8080/",
          "height": 145,
          "referenced_widgets": [
            "a8ebc767211d4e1fb6bebeb38d5e4fdf",
            "47a40999ae45410f837bfd3853c42f7a",
            "6c7bb524e6be44eca9a0a16e4f492780",
            "6241f338d4e34f4c86df5a2dd0a56509",
            "b626e6e2dd1a4acdae77162cf6f8616b",
            "86a574623ea447838eb3281d291915a1",
            "7d91a649a1574ff7b75b186878b8c251",
            "ae26a124e0c446e98f30d344c4c3e7e1",
            "d37a2b645b5f465994d9281480ad2384",
            "28dd9d867b234190a8996178034490c1",
            "6cfdb6b99732443896f4fa81f71f5135",
            "20b0d9f3184645659a3502aaae610240",
            "b6911a0ad6974dd5b94d2b12cbfb27d0",
            "3b8be9b699b144abac75df77ce02c465",
            "92f364c99e654a09a0e7b0b1722c3a44",
            "b473aa5649ea415b980c1262cc1ee94e",
            "83ecdb0209344bbbaf65c7e0b081da1f",
            "aeb70eb75315490f8519fd5d472b557b",
            "5c59f340a2184f0c99b1ca9038b318a2",
            "0f8fb8d22fef4abeb524599e4260a904",
            "25bd275a794d41bfa1094df5d57dde12",
            "6c80a2fa1f0b444cad067793d58fd5a9",
            "82871e33812b49efb1294074ba7acd1a",
            "dc663a015fc74bce97cca60310a886e1",
            "fd049cb819b8468d87d54b65c57bac09",
            "dcaddb6f627741899c401728ea4fa66e",
            "280c244d66ed454ab67f8fb3a84d5e94",
            "7e0bbcb8652f474da544195029f2a6b0",
            "9120b04d96674171953c204b384b4ccb",
            "2037a1d448ec41749535c8d544a6b19a",
            "7b906fe8aff44005961db341330daa18",
            "9e15a1a6ecb84f04847c353eeeb8c48b",
            "160cd9c5b4624b9f9f9f088e8671bd4c",
            "ec89459d43dc40819aed7ffb5030314e",
            "4cff6e0802cc438bbb37b9c40eee3a88",
            "25757df4d8764b8da504891c7d98e4a6",
            "91f045035a3d4121968a1bbabd5d8aea",
            "b81c225fc12044dab89bdbe36b4e17fa",
            "6118b7a466c44527b61bf845e93a1c95",
            "a612f622e0c84d11a8166aa5362cb2cd",
            "1ff232289ba34c998cfa01bd7176f8ff",
            "0d2f6d0c756c4e8a99b1796332820ed6",
            "f6dc222fc664484d9b27817e2e60db32",
            "ad7fc237dab04947a247469691660c6b"
          ]
        },
        "outputId": "0c0e9924-ac0b-44b8-949c-e9583b03fdca"
      },
      "source": [
        "from transformers import DistilBertTokenizerFast, DistilBertModel\n",
        "\n",
        "tokenizer = DistilBertTokenizerFast.from_pretrained('distilbert-base-uncased')\n",
        "\n",
        "SOS_id = tokenizer.convert_tokens_to_ids(\"[CLS]\")\n",
        "EOS_id = tokenizer.convert_tokens_to_ids(\"[SEP]\")\n",
        "PAD_id = tokenizer.convert_tokens_to_ids(\"[PAD]\")"
      ],
      "execution_count": null,
      "outputs": [
        {
          "output_type": "display_data",
          "data": {
            "text/plain": [
              "Downloading (…)okenizer_config.json:   0%|          | 0.00/28.0 [00:00<?, ?B/s]"
            ],
            "application/vnd.jupyter.widget-view+json": {
              "version_major": 2,
              "version_minor": 0,
              "model_id": "a8ebc767211d4e1fb6bebeb38d5e4fdf"
            }
          },
          "metadata": {}
        },
        {
          "output_type": "display_data",
          "data": {
            "text/plain": [
              "Downloading (…)solve/main/vocab.txt:   0%|          | 0.00/232k [00:00<?, ?B/s]"
            ],
            "application/vnd.jupyter.widget-view+json": {
              "version_major": 2,
              "version_minor": 0,
              "model_id": "20b0d9f3184645659a3502aaae610240"
            }
          },
          "metadata": {}
        },
        {
          "output_type": "display_data",
          "data": {
            "text/plain": [
              "Downloading (…)/main/tokenizer.json:   0%|          | 0.00/466k [00:00<?, ?B/s]"
            ],
            "application/vnd.jupyter.widget-view+json": {
              "version_major": 2,
              "version_minor": 0,
              "model_id": "82871e33812b49efb1294074ba7acd1a"
            }
          },
          "metadata": {}
        },
        {
          "output_type": "display_data",
          "data": {
            "text/plain": [
              "Downloading (…)lve/main/config.json:   0%|          | 0.00/483 [00:00<?, ?B/s]"
            ],
            "application/vnd.jupyter.widget-view+json": {
              "version_major": 2,
              "version_minor": 0,
              "model_id": "ec89459d43dc40819aed7ffb5030314e"
            }
          },
          "metadata": {}
        }
      ]
    },
    {
      "cell_type": "code",
      "metadata": {
        "colab": {
          "base_uri": "https://localhost:8080/",
          "height": 53
        },
        "id": "vLflnHl_zOED",
        "outputId": "fdb8c340-fafb-462f-93f4-073839371874"
      },
      "source": [
        "src_train_texts[0]"
      ],
      "execution_count": null,
      "outputs": [
        {
          "output_type": "execute_result",
          "data": {
            "text/plain": [
              "\"australia 's current account deficit shrunk by a record #.## billion dollars -lrb- #.## billion us -rrb- in the june quarter due to soaring commodity prices , figures released monday showed .\\n\""
            ],
            "application/vnd.google.colaboratory.intrinsic+json": {
              "type": "string"
            }
          },
          "metadata": {},
          "execution_count": 8
        }
      ]
    },
    {
      "cell_type": "code",
      "metadata": {
        "colab": {
          "base_uri": "https://localhost:8080/",
          "height": 35
        },
        "id": "CIZ4SnDGzUxf",
        "outputId": "17cef257-49c0-418c-ef54-88295fbf3593"
      },
      "source": [
        "tar_train_texts[0]"
      ],
      "execution_count": null,
      "outputs": [
        {
          "output_type": "execute_result",
          "data": {
            "text/plain": [
              "'australian current account deficit narrows sharply\\n'"
            ],
            "application/vnd.google.colaboratory.intrinsic+json": {
              "type": "string"
            }
          },
          "metadata": {},
          "execution_count": 9
        }
      ]
    },
    {
      "cell_type": "code",
      "metadata": {
        "colab": {
          "base_uri": "https://localhost:8080/"
        },
        "id": "28QswljB_5Ab",
        "outputId": "a9936e9b-0f82-4c4e-9f32-1cd1503bee17"
      },
      "source": [
        "import re\n",
        "import random\n",
        "\n",
        "from tqdm import tqdm\n",
        "\n",
        "train_src = []\n",
        "train_tar = []\n",
        "\n",
        "val_src = []\n",
        "val_tar = []\n",
        "\n",
        "for src_text, tar_text in zip(tqdm(src_train_texts), tar_train_texts):\n",
        "  if random.random() > 0.2:\n",
        "    continue\n",
        "\n",
        "  src_text = re.sub(\"\\n\", \"\", src_text)\n",
        "  tar_text = re.sub(\"\\n\", \"\", tar_text)\n",
        "  \n",
        "  src_ids = tokenizer.encode(src_text)\n",
        "  tar_ids = tokenizer.encode(tar_text)\n",
        "\n",
        "  if 10 <= len(src_ids) <= 48 and 5 <= len(tar_ids) <= 48:\n",
        "    if random.random() > 0.02:\n",
        "      train_src.append(src_ids)\n",
        "      train_tar.append(tar_ids)\n",
        "    else:\n",
        "      val_src.append(src_ids)\n",
        "      val_tar.append(tar_ids)"
      ],
      "execution_count": null,
      "outputs": [
        {
          "output_type": "stream",
          "name": "stderr",
          "text": [
            "100%|██████████| 3803957/3803957 [03:38<00:00, 17374.95it/s]\n"
          ]
        }
      ]
    },
    {
      "cell_type": "code",
      "metadata": {
        "colab": {
          "base_uri": "https://localhost:8080/"
        },
        "id": "cjRooTVLwKmQ",
        "outputId": "0f6a9280-aa34-4895-841c-a392133acfee"
      },
      "source": [
        "len(train_src), len(val_src)"
      ],
      "execution_count": null,
      "outputs": [
        {
          "output_type": "execute_result",
          "data": {
            "text/plain": [
              "(621065, 12596)"
            ]
          },
          "metadata": {},
          "execution_count": 11
        }
      ]
    },
    {
      "cell_type": "code",
      "metadata": {
        "id": "mCTLbGY7p-YR"
      },
      "source": [
        "import torch\n",
        "\n",
        "class SummarizationDataset(torch.utils.data.Dataset):\n",
        "    def __init__(self, src, tar):\n",
        "        super(SummarizationDataset).__init__()\n",
        "        self.src = src\n",
        "        self.tar = tar\n",
        "\n",
        "    def __len__(self):\n",
        "        return len(self.src)\n",
        "\n",
        "    def __getitem__(self, idx):\n",
        "        return (self.src[idx], self.tar[idx])\n",
        "\n",
        "def collate_fn_cnn(PAD_id, samples):\n",
        "    batch_size = len(samples)\n",
        "    max_src_len = max(len(sample[0]) for sample in samples)\n",
        "    max_tar_len = max(len(sample[1]) for sample in samples)\n",
        "\n",
        "    src_tensor = torch.ones((batch_size, max_src_len), dtype=torch.long) * PAD_id\n",
        "    tar_tensor = torch.ones((batch_size, max_tar_len), dtype=torch.long) * PAD_id\n",
        "\n",
        "    for (batch_id, (s, t)) in enumerate(samples):\n",
        "        src_length = len(s)\n",
        "        tar_length = len(t)\n",
        "\n",
        "        src_tensor[batch_id][:src_length] = torch.tensor(s)\n",
        "        tar_tensor[batch_id][:tar_length] = torch.tensor(t)\n",
        "\n",
        "    return src_tensor, tar_tensor\n"
      ],
      "execution_count": null,
      "outputs": []
    },
    {
      "cell_type": "code",
      "metadata": {
        "id": "kPtOxH2jwn2O"
      },
      "source": [
        "from torch.utils.data import DataLoader\n",
        "from functools import partial\n",
        "\n",
        "train_dataset = SummarizationDataset(train_src, train_tar)\n",
        "val_dataset = SummarizationDataset(val_src, val_tar)"
      ],
      "execution_count": null,
      "outputs": []
    },
    {
      "cell_type": "code",
      "metadata": {
        "id": "ON4kCgXBRg8H"
      },
      "source": [
        "torch.save(train_dataset, \"train_dataset.pt\")\n",
        "torch.save(val_dataset, \"val_dataset.pt\")"
      ],
      "execution_count": null,
      "outputs": []
    },
    {
      "cell_type": "markdown",
      "metadata": {
        "id": "Q4iZ-rXd_5mI"
      },
      "source": [
        "# Seq2Seq"
      ]
    },
    {
      "cell_type": "markdown",
      "source": [
        "https://arxiv.org/pdf/1704.04368.pdf"
      ],
      "metadata": {
        "id": "mMzYD3Sd8DpO"
      }
    },
    {
      "cell_type": "code",
      "metadata": {
        "id": "2ly_JKJzFw2n"
      },
      "source": [
        "from torch import nn\n",
        "import torch.nn.functional as F\n",
        "\n",
        "class Encoder(nn.Module):\n",
        "    def __init__(\n",
        "        self\n",
        "        , vocab_size\n",
        "        , hidden_size\n",
        "    ):\n",
        "        super(Encoder, self).__init__()\n",
        "        self.hidden_size = hidden_size\n",
        "\n",
        "        self.embedding = nn.Embedding(vocab_size, hidden_size)\n",
        "\n",
        "        self.gru = nn.GRU(\n",
        "            hidden_size\n",
        "            , hidden_size\n",
        "            , bidirectional=True\n",
        "        )\n",
        "\n",
        "        self.out_last = nn.Linear(hidden_size * 2, hidden_size)\n",
        "\n",
        "    def forward(self, x):\n",
        "        batch_size = x.size(0)\n",
        "        x = self.embedding(x)\n",
        "\n",
        "        out, h = self.gru(x.transpose(0, 1))\n",
        "        \n",
        "        out = out.transpose(0, 1)\n",
        "\n",
        "        return self.out_last(torch.cat((h[0], h[1]), dim=-1)), out\n",
        "\n",
        "class Decoder(nn.Module):\n",
        "    def __init__(\n",
        "        self\n",
        "        , vocab_size\n",
        "        , hidden_size\n",
        "    ):\n",
        "        super(Decoder, self).__init__()\n",
        "\n",
        "        self.embedding = nn.Embedding(vocab_size, hidden_size)\n",
        "\n",
        "        self.query = nn.Linear(hidden_size * 2, hidden_size)\n",
        "        self.v = nn.Linear(hidden_size, 1)\n",
        "\n",
        "        self.gru_cell = nn.GRUCell(hidden_size * 3, hidden_size)\n",
        "        self.out = nn.Linear(hidden_size, vocab_size)\n",
        "\n",
        "\n",
        "    def forward(\n",
        "        self\n",
        "        , last\n",
        "        , hidden\n",
        "        , keys\n",
        "        , memory # B, L, H\n",
        "    ):\n",
        "        batch_size = last.size(0)\n",
        "\n",
        "        device = torch.device(\"cuda\" if torch.cuda.is_available() else \"cpu\")\n",
        "\n",
        "        last = self.embedding(last).to(device) # B, H\n",
        "\n",
        "        query = self.query(torch.cat((hidden, last), dim=-1)).unsqueeze(1) # B, 1, H\n",
        "\n",
        "        energies = self.v((query + keys).tanh()) # B, L, 1\n",
        "        weights = energies.softmax(dim=1) # B, L, 1\n",
        "\n",
        "        attn = (memory * weights).sum(dim=1).squeeze(-1) # (B, H)\n",
        "\n",
        "        context = torch.cat((last, attn), dim=-1)\n",
        "\n",
        "        hidden = self.gru_cell(context, hidden) # B, H\n",
        "\n",
        "        out = self.out(hidden) # B, H\n",
        "\n",
        "        log_probs = F.log_softmax(out, dim=1) # B, V\n",
        "\n",
        "        return log_probs, hidden\n",
        "\n",
        "class PG(nn.Module):\n",
        "    def __init__(self\n",
        "        , vocab_size\n",
        "        , hidden_size\n",
        "    ):\n",
        "        super(PG, self).__init__()\n",
        "        self.hidden_size = hidden_size\n",
        "\n",
        "        self.encoder = Encoder(vocab_size, hidden_size)\n",
        "\n",
        "        self.decoder = Decoder(vocab_size, hidden_size)\n",
        "\n",
        "        self.criterion = nn.NLLLoss(reduction='none')\n",
        "\n",
        "        self.keys = nn.Linear(hidden_size * 2, hidden_size)\n",
        "\n",
        "    def forward(\n",
        "        self\n",
        "        , src_tensor\n",
        "        , tar_tensor=None # B, L\n",
        "    ):\n",
        "        batch_size = src_tensor.size(0)\n",
        "\n",
        "        device = torch.device(\"cuda\" if torch.cuda.is_available() else \"cpu\")\n",
        "\n",
        "        h, memory = self.encoder(src_tensor)\n",
        "\n",
        "        keys = self.keys(memory)\n",
        "\n",
        "        if self.training:\n",
        "            loss = 0.0\n",
        "\n",
        "            log_probs = []\n",
        "\n",
        "            for iter in range(tar_tensor.size(1)-1):\n",
        "                last = tar_tensor[:, iter]\n",
        "\n",
        "                lp, h = self.decoder(last, h, keys, memory) # B, vocab_size\n",
        "\n",
        "                log_probs.append(lp.unsqueeze(2)) # B, vocab_size, 1\n",
        "\n",
        "            log_probs = torch.cat(log_probs, dim=-1) # B, vocab_size, L\n",
        "\n",
        "            loss = self.criterion(log_probs, tar_tensor[:, 1:])[tar_tensor[:, 1:] != PAD_id].mean()\n",
        "\n",
        "            return loss\n",
        "\n",
        "        else:\n",
        "            with torch.no_grad():\n",
        "                generated = [SOS_id]\n",
        "\n",
        "                for iter in range(100):\n",
        "                    last = torch.tensor([generated[-1]]).to(device)\n",
        "\n",
        "                    lp, h = self.decoder(last, h, keys, memory) # 1, vocab_size\n",
        "\n",
        "                    gen_id = lp[0].argmax().item()\n",
        "\n",
        "                    generated.append(gen_id)\n",
        "\n",
        "                    if gen_id == EOS_id:\n",
        "                      break\n",
        "                \n",
        "                return generated"
      ],
      "execution_count": null,
      "outputs": []
    },
    {
      "cell_type": "code",
      "metadata": {
        "id": "XPEOsKAhxITg"
      },
      "source": [
        "def train(model, train_loader, val_loader, epochs):\n",
        "  device = torch.device(\"cuda\" if torch.cuda.is_available() else \"cpu\")\n",
        "  lr = 1e-3\n",
        "  optimizer = torch.optim.Adam(model.parameters(), lr=lr)\n",
        "  for epoch in range(1, epochs+1):\n",
        "    n = 0\n",
        "    for src, tar in tqdm(train_loader):\n",
        "        src = src.to(device)\n",
        "        tar = tar.to(device)\n",
        "\n",
        "        optimizer.zero_grad()\n",
        "\n",
        "        loss = model(src, tar)\n",
        "\n",
        "        loss.backward()\n",
        "        grad_norm = torch.nn.utils.clip_grad_norm_(model.parameters(), 0.5)\n",
        "\n",
        "        optimizer.step()\n",
        "\n",
        "        if n % 50 == 0 and n !=0: \n",
        "          print(\"Train loss: \", loss.item())\n",
        "\n",
        "          with torch.no_grad():\n",
        "            val_loss_sum = 0.0\n",
        "            for val_src, val_tar in val_loader:\n",
        "              val_src = val_src.to(device)\n",
        "              val_tar = val_tar.to(device)\n",
        "\n",
        "              val_loss_sum += model(val_src, val_tar)\n",
        "\n",
        "            print(\"Val loss: \", val_loss_sum.item() / len(val_loader))\n",
        "\n",
        "        n += 1\n",
        "      \n",
        "  return model"
      ],
      "execution_count": null,
      "outputs": []
    },
    {
      "cell_type": "code",
      "metadata": {
        "colab": {
          "base_uri": "https://localhost:8080/"
        },
        "id": "4wjiS37-2pHX",
        "outputId": "496b3ff4-c6bf-42b8-c610-d019483d5e90"
      },
      "source": [
        "from tqdm import tqdm\n",
        "\n",
        "train_loader = DataLoader(\n",
        "    train_dataset\n",
        "    , batch_size=256\n",
        "    , shuffle=True\n",
        "    , collate_fn=partial(collate_fn_cnn, PAD_id)\n",
        ")\n",
        "\n",
        "val_loader = DataLoader(\n",
        "    val_dataset\n",
        "    , batch_size=256\n",
        "    , shuffle=True\n",
        "    , collate_fn=partial(collate_fn_cnn, PAD_id)\n",
        "    , drop_last=True\n",
        ")\n",
        "\n",
        "vocab_size = tokenizer.vocab_size\n",
        "hidden_size = 384\n",
        "epochs = 1\n",
        "\n",
        "device = torch.device(\"cuda\" if torch.cuda.is_available() else \"cpu\")\n",
        "\n",
        "model = PG(vocab_size, hidden_size).to(device)\n",
        "\n",
        "model = train(model, train_loader, val_loader, epochs)"
      ],
      "execution_count": null,
      "outputs": [
        {
          "output_type": "stream",
          "name": "stderr",
          "text": [
            "  2%|▏         | 50/2424 [00:25<21:51,  1.81it/s]"
          ]
        },
        {
          "output_type": "stream",
          "name": "stdout",
          "text": [
            "Train loss:  6.869752407073975\n"
          ]
        },
        {
          "output_type": "stream",
          "name": "stderr",
          "text": [
            "\r  2%|▏         | 51/2424 [00:37<2:33:47,  3.89s/it]"
          ]
        },
        {
          "output_type": "stream",
          "name": "stdout",
          "text": [
            "Val loss:  6.833644409179687\n"
          ]
        },
        {
          "output_type": "stream",
          "name": "stderr",
          "text": [
            "  4%|▍         | 100/2424 [01:00<18:48,  2.06it/s]"
          ]
        },
        {
          "output_type": "stream",
          "name": "stdout",
          "text": [
            "Train loss:  6.240386962890625\n"
          ]
        },
        {
          "output_type": "stream",
          "name": "stderr",
          "text": [
            "\r  4%|▍         | 101/2424 [01:12<2:30:17,  3.88s/it]"
          ]
        },
        {
          "output_type": "stream",
          "name": "stdout",
          "text": [
            "Val loss:  6.347208862304687\n"
          ]
        },
        {
          "output_type": "stream",
          "name": "stderr",
          "text": [
            "  6%|▌         | 150/2424 [01:38<20:23,  1.86it/s]"
          ]
        },
        {
          "output_type": "stream",
          "name": "stdout",
          "text": [
            "Train loss:  5.897723197937012\n"
          ]
        },
        {
          "output_type": "stream",
          "name": "stderr",
          "text": [
            "\r  6%|▌         | 151/2424 [01:49<2:28:40,  3.92s/it]"
          ]
        },
        {
          "output_type": "stream",
          "name": "stdout",
          "text": [
            "Val loss:  5.9724969482421875\n"
          ]
        },
        {
          "output_type": "stream",
          "name": "stderr",
          "text": [
            "  8%|▊         | 200/2424 [02:13<18:41,  1.98it/s]"
          ]
        },
        {
          "output_type": "stream",
          "name": "stdout",
          "text": [
            "Train loss:  5.6204938888549805\n"
          ]
        },
        {
          "output_type": "stream",
          "name": "stderr",
          "text": [
            "\r  8%|▊         | 201/2424 [02:25<2:25:27,  3.93s/it]"
          ]
        },
        {
          "output_type": "stream",
          "name": "stdout",
          "text": [
            "Val loss:  5.695238647460937\n"
          ]
        },
        {
          "output_type": "stream",
          "name": "stderr",
          "text": [
            " 10%|█         | 250/2424 [02:50<19:21,  1.87it/s]"
          ]
        },
        {
          "output_type": "stream",
          "name": "stdout",
          "text": [
            "Train loss:  5.503762245178223\n"
          ]
        },
        {
          "output_type": "stream",
          "name": "stderr",
          "text": [
            "\r 10%|█         | 251/2424 [03:02<2:21:42,  3.91s/it]"
          ]
        },
        {
          "output_type": "stream",
          "name": "stdout",
          "text": [
            "Val loss:  5.485698852539063\n"
          ]
        },
        {
          "output_type": "stream",
          "name": "stderr",
          "text": [
            " 12%|█▏        | 300/2424 [03:27<18:18,  1.93it/s]"
          ]
        },
        {
          "output_type": "stream",
          "name": "stdout",
          "text": [
            "Train loss:  5.220315456390381\n"
          ]
        },
        {
          "output_type": "stream",
          "name": "stderr",
          "text": [
            "\r 12%|█▏        | 301/2424 [03:38<2:17:31,  3.89s/it]"
          ]
        },
        {
          "output_type": "stream",
          "name": "stdout",
          "text": [
            "Val loss:  5.307871704101562\n"
          ]
        },
        {
          "output_type": "stream",
          "name": "stderr",
          "text": [
            " 14%|█▍        | 350/2424 [04:02<16:41,  2.07it/s]"
          ]
        },
        {
          "output_type": "stream",
          "name": "stdout",
          "text": [
            "Train loss:  5.111617088317871\n"
          ]
        },
        {
          "output_type": "stream",
          "name": "stderr",
          "text": [
            "\r 14%|█▍        | 351/2424 [04:14<2:12:37,  3.84s/it]"
          ]
        },
        {
          "output_type": "stream",
          "name": "stdout",
          "text": [
            "Val loss:  5.1613037109375\n"
          ]
        },
        {
          "output_type": "stream",
          "name": "stderr",
          "text": [
            " 17%|█▋        | 400/2424 [04:39<16:47,  2.01it/s]"
          ]
        },
        {
          "output_type": "stream",
          "name": "stdout",
          "text": [
            "Train loss:  4.912168979644775\n"
          ]
        },
        {
          "output_type": "stream",
          "name": "stderr",
          "text": [
            "\r 17%|█▋        | 401/2424 [04:50<2:11:52,  3.91s/it]"
          ]
        },
        {
          "output_type": "stream",
          "name": "stdout",
          "text": [
            "Val loss:  5.0248104858398435\n"
          ]
        },
        {
          "output_type": "stream",
          "name": "stderr",
          "text": [
            " 19%|█▊        | 450/2424 [05:15<17:10,  1.92it/s]"
          ]
        },
        {
          "output_type": "stream",
          "name": "stdout",
          "text": [
            "Train loss:  5.05025053024292\n"
          ]
        },
        {
          "output_type": "stream",
          "name": "stderr",
          "text": [
            "\r 19%|█▊        | 451/2424 [05:27<2:08:33,  3.91s/it]"
          ]
        },
        {
          "output_type": "stream",
          "name": "stdout",
          "text": [
            "Val loss:  4.914686584472657\n"
          ]
        },
        {
          "output_type": "stream",
          "name": "stderr",
          "text": [
            " 21%|██        | 500/2424 [05:51<15:17,  2.10it/s]"
          ]
        },
        {
          "output_type": "stream",
          "name": "stdout",
          "text": [
            "Train loss:  4.79930305480957\n"
          ]
        },
        {
          "output_type": "stream",
          "name": "stderr",
          "text": [
            "\r 21%|██        | 501/2424 [06:03<2:03:25,  3.85s/it]"
          ]
        },
        {
          "output_type": "stream",
          "name": "stdout",
          "text": [
            "Val loss:  4.802706298828125\n"
          ]
        },
        {
          "output_type": "stream",
          "name": "stderr",
          "text": [
            " 23%|██▎       | 550/2424 [06:28<15:37,  2.00it/s]"
          ]
        },
        {
          "output_type": "stream",
          "name": "stdout",
          "text": [
            "Train loss:  4.642143726348877\n"
          ]
        },
        {
          "output_type": "stream",
          "name": "stderr",
          "text": [
            "\r 23%|██▎       | 551/2424 [06:40<2:02:21,  3.92s/it]"
          ]
        },
        {
          "output_type": "stream",
          "name": "stdout",
          "text": [
            "Val loss:  4.712630004882812\n"
          ]
        },
        {
          "output_type": "stream",
          "name": "stderr",
          "text": [
            " 25%|██▍       | 600/2424 [07:04<14:48,  2.05it/s]"
          ]
        },
        {
          "output_type": "stream",
          "name": "stdout",
          "text": [
            "Train loss:  4.6734089851379395\n"
          ]
        },
        {
          "output_type": "stream",
          "name": "stderr",
          "text": [
            "\r 25%|██▍       | 601/2424 [07:16<1:59:18,  3.93s/it]"
          ]
        },
        {
          "output_type": "stream",
          "name": "stdout",
          "text": [
            "Val loss:  4.622623291015625\n"
          ]
        },
        {
          "output_type": "stream",
          "name": "stderr",
          "text": [
            " 27%|██▋       | 650/2424 [07:41<15:00,  1.97it/s]"
          ]
        },
        {
          "output_type": "stream",
          "name": "stdout",
          "text": [
            "Train loss:  4.5144877433776855\n"
          ]
        },
        {
          "output_type": "stream",
          "name": "stderr",
          "text": [
            "\r 27%|██▋       | 651/2424 [07:53<1:55:46,  3.92s/it]"
          ]
        },
        {
          "output_type": "stream",
          "name": "stdout",
          "text": [
            "Val loss:  4.537357788085938\n"
          ]
        },
        {
          "output_type": "stream",
          "name": "stderr",
          "text": [
            " 29%|██▉       | 700/2424 [08:17<14:30,  1.98it/s]"
          ]
        },
        {
          "output_type": "stream",
          "name": "stdout",
          "text": [
            "Train loss:  4.476078987121582\n"
          ]
        },
        {
          "output_type": "stream",
          "name": "stderr",
          "text": [
            "\r 29%|██▉       | 701/2424 [08:29<1:52:34,  3.92s/it]"
          ]
        },
        {
          "output_type": "stream",
          "name": "stdout",
          "text": [
            "Val loss:  4.469832153320312\n"
          ]
        },
        {
          "output_type": "stream",
          "name": "stderr",
          "text": [
            " 31%|███       | 750/2424 [08:54<16:58,  1.64it/s]"
          ]
        },
        {
          "output_type": "stream",
          "name": "stdout",
          "text": [
            "Train loss:  4.363398551940918\n"
          ]
        },
        {
          "output_type": "stream",
          "name": "stderr",
          "text": [
            "\r 31%|███       | 751/2424 [09:06<1:52:18,  4.03s/it]"
          ]
        },
        {
          "output_type": "stream",
          "name": "stdout",
          "text": [
            "Val loss:  4.393935241699219\n"
          ]
        },
        {
          "output_type": "stream",
          "name": "stderr",
          "text": [
            " 33%|███▎      | 800/2424 [09:30<13:34,  1.99it/s]"
          ]
        },
        {
          "output_type": "stream",
          "name": "stdout",
          "text": [
            "Train loss:  4.2517499923706055\n"
          ]
        },
        {
          "output_type": "stream",
          "name": "stderr",
          "text": [
            "\r 33%|███▎      | 801/2424 [09:42<1:44:55,  3.88s/it]"
          ]
        },
        {
          "output_type": "stream",
          "name": "stdout",
          "text": [
            "Val loss:  4.327997131347656\n"
          ]
        },
        {
          "output_type": "stream",
          "name": "stderr",
          "text": [
            " 35%|███▌      | 850/2424 [10:06<14:20,  1.83it/s]"
          ]
        },
        {
          "output_type": "stream",
          "name": "stdout",
          "text": [
            "Train loss:  4.291883945465088\n"
          ]
        },
        {
          "output_type": "stream",
          "name": "stderr",
          "text": [
            "\r 35%|███▌      | 851/2424 [10:18<1:42:00,  3.89s/it]"
          ]
        },
        {
          "output_type": "stream",
          "name": "stdout",
          "text": [
            "Val loss:  4.272935180664063\n"
          ]
        },
        {
          "output_type": "stream",
          "name": "stderr",
          "text": [
            " 37%|███▋      | 900/2424 [10:42<11:57,  2.12it/s]"
          ]
        },
        {
          "output_type": "stream",
          "name": "stdout",
          "text": [
            "Train loss:  4.262045860290527\n"
          ]
        },
        {
          "output_type": "stream",
          "name": "stderr",
          "text": [
            "\r 37%|███▋      | 901/2424 [10:54<1:39:27,  3.92s/it]"
          ]
        },
        {
          "output_type": "stream",
          "name": "stdout",
          "text": [
            "Val loss:  4.218606567382812\n"
          ]
        },
        {
          "output_type": "stream",
          "name": "stderr",
          "text": [
            " 39%|███▉      | 950/2424 [11:18<12:32,  1.96it/s]"
          ]
        },
        {
          "output_type": "stream",
          "name": "stdout",
          "text": [
            "Train loss:  4.263242721557617\n"
          ]
        },
        {
          "output_type": "stream",
          "name": "stderr",
          "text": [
            "\r 39%|███▉      | 951/2424 [11:30<1:37:06,  3.96s/it]"
          ]
        },
        {
          "output_type": "stream",
          "name": "stdout",
          "text": [
            "Val loss:  4.165098266601563\n"
          ]
        },
        {
          "output_type": "stream",
          "name": "stderr",
          "text": [
            " 41%|████▏     | 1000/2424 [11:54<12:29,  1.90it/s]"
          ]
        },
        {
          "output_type": "stream",
          "name": "stdout",
          "text": [
            "Train loss:  4.218103885650635\n"
          ]
        },
        {
          "output_type": "stream",
          "name": "stderr",
          "text": [
            "\r 41%|████▏     | 1001/2424 [12:06<1:31:33,  3.86s/it]"
          ]
        },
        {
          "output_type": "stream",
          "name": "stdout",
          "text": [
            "Val loss:  4.111736755371094\n"
          ]
        },
        {
          "output_type": "stream",
          "name": "stderr",
          "text": [
            " 43%|████▎     | 1050/2424 [12:30<11:23,  2.01it/s]"
          ]
        },
        {
          "output_type": "stream",
          "name": "stdout",
          "text": [
            "Train loss:  4.012166500091553\n"
          ]
        },
        {
          "output_type": "stream",
          "name": "stderr",
          "text": [
            "\r 43%|████▎     | 1051/2424 [12:42<1:29:01,  3.89s/it]"
          ]
        },
        {
          "output_type": "stream",
          "name": "stdout",
          "text": [
            "Val loss:  4.067514343261719\n"
          ]
        },
        {
          "output_type": "stream",
          "name": "stderr",
          "text": [
            " 45%|████▌     | 1100/2424 [13:06<10:44,  2.05it/s]"
          ]
        },
        {
          "output_type": "stream",
          "name": "stdout",
          "text": [
            "Train loss:  4.0750861167907715\n"
          ]
        },
        {
          "output_type": "stream",
          "name": "stderr",
          "text": [
            "\r 45%|████▌     | 1101/2424 [13:18<1:24:48,  3.85s/it]"
          ]
        },
        {
          "output_type": "stream",
          "name": "stdout",
          "text": [
            "Val loss:  4.025565490722657\n"
          ]
        },
        {
          "output_type": "stream",
          "name": "stderr",
          "text": [
            " 47%|████▋     | 1150/2424 [13:42<10:52,  1.95it/s]"
          ]
        },
        {
          "output_type": "stream",
          "name": "stdout",
          "text": [
            "Train loss:  3.849870204925537\n"
          ]
        },
        {
          "output_type": "stream",
          "name": "stderr",
          "text": [
            "\r 47%|████▋     | 1151/2424 [13:53<1:22:19,  3.88s/it]"
          ]
        },
        {
          "output_type": "stream",
          "name": "stdout",
          "text": [
            "Val loss:  3.987365417480469\n"
          ]
        },
        {
          "output_type": "stream",
          "name": "stderr",
          "text": [
            " 50%|████▉     | 1200/2424 [14:19<09:44,  2.10it/s]"
          ]
        },
        {
          "output_type": "stream",
          "name": "stdout",
          "text": [
            "Train loss:  3.773564338684082\n"
          ]
        },
        {
          "output_type": "stream",
          "name": "stderr",
          "text": [
            "\r 50%|████▉     | 1201/2424 [14:31<1:18:48,  3.87s/it]"
          ]
        },
        {
          "output_type": "stream",
          "name": "stdout",
          "text": [
            "Val loss:  3.9473114013671875\n"
          ]
        },
        {
          "output_type": "stream",
          "name": "stderr",
          "text": [
            " 52%|█████▏    | 1250/2424 [14:56<10:46,  1.81it/s]"
          ]
        },
        {
          "output_type": "stream",
          "name": "stdout",
          "text": [
            "Train loss:  3.806365489959717\n"
          ]
        },
        {
          "output_type": "stream",
          "name": "stderr",
          "text": [
            "\r 52%|█████▏    | 1251/2424 [15:08<1:16:36,  3.92s/it]"
          ]
        },
        {
          "output_type": "stream",
          "name": "stdout",
          "text": [
            "Val loss:  3.90888671875\n"
          ]
        },
        {
          "output_type": "stream",
          "name": "stderr",
          "text": [
            " 54%|█████▎    | 1300/2424 [15:32<09:32,  1.96it/s]"
          ]
        },
        {
          "output_type": "stream",
          "name": "stdout",
          "text": [
            "Train loss:  3.741182565689087\n"
          ]
        },
        {
          "output_type": "stream",
          "name": "stderr",
          "text": [
            "\r 54%|█████▎    | 1301/2424 [15:44<1:13:24,  3.92s/it]"
          ]
        },
        {
          "output_type": "stream",
          "name": "stdout",
          "text": [
            "Val loss:  3.87811279296875\n"
          ]
        },
        {
          "output_type": "stream",
          "name": "stderr",
          "text": [
            " 56%|█████▌    | 1350/2424 [16:09<08:16,  2.16it/s]"
          ]
        },
        {
          "output_type": "stream",
          "name": "stdout",
          "text": [
            "Train loss:  3.6914658546447754\n"
          ]
        },
        {
          "output_type": "stream",
          "name": "stderr",
          "text": [
            "\r 56%|█████▌    | 1351/2424 [16:20<1:09:40,  3.90s/it]"
          ]
        },
        {
          "output_type": "stream",
          "name": "stdout",
          "text": [
            "Val loss:  3.8401150512695312\n"
          ]
        },
        {
          "output_type": "stream",
          "name": "stderr",
          "text": [
            " 58%|█████▊    | 1400/2424 [16:44<07:56,  2.15it/s]"
          ]
        },
        {
          "output_type": "stream",
          "name": "stdout",
          "text": [
            "Train loss:  3.8958797454833984\n"
          ]
        },
        {
          "output_type": "stream",
          "name": "stderr",
          "text": [
            "\r 58%|█████▊    | 1401/2424 [16:56<1:06:31,  3.90s/it]"
          ]
        },
        {
          "output_type": "stream",
          "name": "stdout",
          "text": [
            "Val loss:  3.817386474609375\n"
          ]
        },
        {
          "output_type": "stream",
          "name": "stderr",
          "text": [
            " 60%|█████▉    | 1450/2424 [17:21<08:04,  2.01it/s]"
          ]
        },
        {
          "output_type": "stream",
          "name": "stdout",
          "text": [
            "Train loss:  3.975050210952759\n"
          ]
        },
        {
          "output_type": "stream",
          "name": "stderr",
          "text": [
            "\r 60%|█████▉    | 1451/2424 [17:32<1:02:45,  3.87s/it]"
          ]
        },
        {
          "output_type": "stream",
          "name": "stdout",
          "text": [
            "Val loss:  3.78460205078125\n"
          ]
        },
        {
          "output_type": "stream",
          "name": "stderr",
          "text": [
            " 62%|██████▏   | 1500/2424 [17:57<07:41,  2.00it/s]"
          ]
        },
        {
          "output_type": "stream",
          "name": "stdout",
          "text": [
            "Train loss:  3.6620140075683594\n"
          ]
        },
        {
          "output_type": "stream",
          "name": "stderr",
          "text": [
            "\r 62%|██████▏   | 1501/2424 [18:08<59:14,  3.85s/it]"
          ]
        },
        {
          "output_type": "stream",
          "name": "stdout",
          "text": [
            "Val loss:  3.7587966918945312\n"
          ]
        },
        {
          "output_type": "stream",
          "name": "stderr",
          "text": [
            " 64%|██████▍   | 1550/2424 [18:34<07:31,  1.94it/s]"
          ]
        },
        {
          "output_type": "stream",
          "name": "stdout",
          "text": [
            "Train loss:  3.679671287536621\n"
          ]
        },
        {
          "output_type": "stream",
          "name": "stderr",
          "text": [
            "\r 64%|██████▍   | 1551/2424 [18:45<56:40,  3.90s/it]"
          ]
        },
        {
          "output_type": "stream",
          "name": "stdout",
          "text": [
            "Val loss:  3.732181396484375\n"
          ]
        },
        {
          "output_type": "stream",
          "name": "stderr",
          "text": [
            " 66%|██████▌   | 1600/2424 [19:10<06:42,  2.05it/s]"
          ]
        },
        {
          "output_type": "stream",
          "name": "stdout",
          "text": [
            "Train loss:  3.7256104946136475\n"
          ]
        },
        {
          "output_type": "stream",
          "name": "stderr",
          "text": [
            "\r 66%|██████▌   | 1601/2424 [19:21<52:50,  3.85s/it]"
          ]
        },
        {
          "output_type": "stream",
          "name": "stdout",
          "text": [
            "Val loss:  3.7087408447265626\n"
          ]
        },
        {
          "output_type": "stream",
          "name": "stderr",
          "text": [
            " 68%|██████▊   | 1650/2424 [19:46<06:04,  2.12it/s]"
          ]
        },
        {
          "output_type": "stream",
          "name": "stdout",
          "text": [
            "Train loss:  3.776172161102295\n"
          ]
        },
        {
          "output_type": "stream",
          "name": "stderr",
          "text": [
            "\r 68%|██████▊   | 1651/2424 [19:58<50:24,  3.91s/it]"
          ]
        },
        {
          "output_type": "stream",
          "name": "stdout",
          "text": [
            "Val loss:  3.6852044677734375\n"
          ]
        },
        {
          "output_type": "stream",
          "name": "stderr",
          "text": [
            " 70%|███████   | 1700/2424 [20:23<05:49,  2.07it/s]"
          ]
        },
        {
          "output_type": "stream",
          "name": "stdout",
          "text": [
            "Train loss:  3.5368149280548096\n"
          ]
        },
        {
          "output_type": "stream",
          "name": "stderr",
          "text": [
            "\r 70%|███████   | 1701/2424 [20:34<46:08,  3.83s/it]"
          ]
        },
        {
          "output_type": "stream",
          "name": "stdout",
          "text": [
            "Val loss:  3.6596368408203124\n"
          ]
        },
        {
          "output_type": "stream",
          "name": "stderr",
          "text": [
            " 72%|███████▏  | 1750/2424 [20:58<05:34,  2.02it/s]"
          ]
        },
        {
          "output_type": "stream",
          "name": "stdout",
          "text": [
            "Train loss:  3.7678275108337402\n"
          ]
        },
        {
          "output_type": "stream",
          "name": "stderr",
          "text": [
            "\r 72%|███████▏  | 1751/2424 [21:10<43:18,  3.86s/it]"
          ]
        },
        {
          "output_type": "stream",
          "name": "stdout",
          "text": [
            "Val loss:  3.63715576171875\n"
          ]
        },
        {
          "output_type": "stream",
          "name": "stderr",
          "text": [
            " 74%|███████▍  | 1800/2424 [21:35<05:51,  1.78it/s]"
          ]
        },
        {
          "output_type": "stream",
          "name": "stdout",
          "text": [
            "Train loss:  3.5112156867980957\n"
          ]
        },
        {
          "output_type": "stream",
          "name": "stderr",
          "text": [
            "\r 74%|███████▍  | 1801/2424 [21:47<40:50,  3.93s/it]"
          ]
        },
        {
          "output_type": "stream",
          "name": "stdout",
          "text": [
            "Val loss:  3.6208322143554685\n"
          ]
        },
        {
          "output_type": "stream",
          "name": "stderr",
          "text": [
            " 76%|███████▋  | 1850/2424 [22:12<05:22,  1.78it/s]"
          ]
        },
        {
          "output_type": "stream",
          "name": "stdout",
          "text": [
            "Train loss:  3.520845890045166\n"
          ]
        },
        {
          "output_type": "stream",
          "name": "stderr",
          "text": [
            "\r 76%|███████▋  | 1851/2424 [22:24<37:23,  3.91s/it]"
          ]
        },
        {
          "output_type": "stream",
          "name": "stdout",
          "text": [
            "Val loss:  3.5996075439453126\n"
          ]
        },
        {
          "output_type": "stream",
          "name": "stderr",
          "text": [
            " 78%|███████▊  | 1900/2424 [22:48<04:28,  1.95it/s]"
          ]
        },
        {
          "output_type": "stream",
          "name": "stdout",
          "text": [
            "Train loss:  3.4363045692443848\n"
          ]
        },
        {
          "output_type": "stream",
          "name": "stderr",
          "text": [
            "\r 78%|███████▊  | 1901/2424 [23:00<34:20,  3.94s/it]"
          ]
        },
        {
          "output_type": "stream",
          "name": "stdout",
          "text": [
            "Val loss:  3.5794049072265626\n"
          ]
        },
        {
          "output_type": "stream",
          "name": "stderr",
          "text": [
            " 80%|████████  | 1950/2424 [23:24<03:57,  1.99it/s]"
          ]
        },
        {
          "output_type": "stream",
          "name": "stdout",
          "text": [
            "Train loss:  3.467211961746216\n"
          ]
        },
        {
          "output_type": "stream",
          "name": "stderr",
          "text": [
            "\r 80%|████████  | 1951/2424 [23:36<30:40,  3.89s/it]"
          ]
        },
        {
          "output_type": "stream",
          "name": "stdout",
          "text": [
            "Val loss:  3.560893859863281\n"
          ]
        },
        {
          "output_type": "stream",
          "name": "stderr",
          "text": [
            " 83%|████████▎ | 2000/2424 [24:00<03:12,  2.21it/s]"
          ]
        },
        {
          "output_type": "stream",
          "name": "stdout",
          "text": [
            "Train loss:  3.590475082397461\n"
          ]
        },
        {
          "output_type": "stream",
          "name": "stderr",
          "text": [
            "\r 83%|████████▎ | 2001/2424 [24:11<27:20,  3.88s/it]"
          ]
        },
        {
          "output_type": "stream",
          "name": "stdout",
          "text": [
            "Val loss:  3.545363464355469\n"
          ]
        },
        {
          "output_type": "stream",
          "name": "stderr",
          "text": [
            " 85%|████████▍ | 2050/2424 [24:35<02:52,  2.17it/s]"
          ]
        },
        {
          "output_type": "stream",
          "name": "stdout",
          "text": [
            "Train loss:  3.5121541023254395\n"
          ]
        },
        {
          "output_type": "stream",
          "name": "stderr",
          "text": [
            "\r 85%|████████▍ | 2051/2424 [24:47<24:08,  3.88s/it]"
          ]
        },
        {
          "output_type": "stream",
          "name": "stdout",
          "text": [
            "Val loss:  3.5304360961914063\n"
          ]
        },
        {
          "output_type": "stream",
          "name": "stderr",
          "text": [
            " 87%|████████▋ | 2100/2424 [25:11<02:32,  2.12it/s]"
          ]
        },
        {
          "output_type": "stream",
          "name": "stdout",
          "text": [
            "Train loss:  3.355043411254883\n"
          ]
        },
        {
          "output_type": "stream",
          "name": "stderr",
          "text": [
            "\r 87%|████████▋ | 2101/2424 [25:23<20:49,  3.87s/it]"
          ]
        },
        {
          "output_type": "stream",
          "name": "stdout",
          "text": [
            "Val loss:  3.511560974121094\n"
          ]
        },
        {
          "output_type": "stream",
          "name": "stderr",
          "text": [
            " 89%|████████▊ | 2150/2424 [25:47<02:27,  1.86it/s]"
          ]
        },
        {
          "output_type": "stream",
          "name": "stdout",
          "text": [
            "Train loss:  3.6981332302093506\n"
          ]
        },
        {
          "output_type": "stream",
          "name": "stderr",
          "text": [
            "\r 89%|████████▊ | 2151/2424 [25:59<17:42,  3.89s/it]"
          ]
        },
        {
          "output_type": "stream",
          "name": "stdout",
          "text": [
            "Val loss:  3.500782775878906\n"
          ]
        },
        {
          "output_type": "stream",
          "name": "stderr",
          "text": [
            " 91%|█████████ | 2200/2424 [26:24<02:07,  1.76it/s]"
          ]
        },
        {
          "output_type": "stream",
          "name": "stdout",
          "text": [
            "Train loss:  3.564709424972534\n"
          ]
        },
        {
          "output_type": "stream",
          "name": "stderr",
          "text": [
            "\r 91%|█████████ | 2201/2424 [26:36<14:43,  3.96s/it]"
          ]
        },
        {
          "output_type": "stream",
          "name": "stdout",
          "text": [
            "Val loss:  3.4825894165039064\n"
          ]
        },
        {
          "output_type": "stream",
          "name": "stderr",
          "text": [
            " 93%|█████████▎| 2250/2424 [26:59<01:23,  2.08it/s]"
          ]
        },
        {
          "output_type": "stream",
          "name": "stdout",
          "text": [
            "Train loss:  3.3869268894195557\n"
          ]
        },
        {
          "output_type": "stream",
          "name": "stderr",
          "text": [
            "\r 93%|█████████▎| 2251/2424 [27:11<11:14,  3.90s/it]"
          ]
        },
        {
          "output_type": "stream",
          "name": "stdout",
          "text": [
            "Val loss:  3.4651730346679686\n"
          ]
        },
        {
          "output_type": "stream",
          "name": "stderr",
          "text": [
            " 95%|█████████▍| 2300/2424 [27:36<01:03,  1.95it/s]"
          ]
        },
        {
          "output_type": "stream",
          "name": "stdout",
          "text": [
            "Train loss:  3.4624550342559814\n"
          ]
        },
        {
          "output_type": "stream",
          "name": "stderr",
          "text": [
            "\r 95%|█████████▍| 2301/2424 [27:48<07:57,  3.88s/it]"
          ]
        },
        {
          "output_type": "stream",
          "name": "stdout",
          "text": [
            "Val loss:  3.4530157470703124\n"
          ]
        },
        {
          "output_type": "stream",
          "name": "stderr",
          "text": [
            " 97%|█████████▋| 2350/2424 [28:11<00:34,  2.12it/s]"
          ]
        },
        {
          "output_type": "stream",
          "name": "stdout",
          "text": [
            "Train loss:  3.3708746433258057\n"
          ]
        },
        {
          "output_type": "stream",
          "name": "stderr",
          "text": [
            "\r 97%|█████████▋| 2351/2424 [28:23<04:45,  3.91s/it]"
          ]
        },
        {
          "output_type": "stream",
          "name": "stdout",
          "text": [
            "Val loss:  3.4382275390625\n"
          ]
        },
        {
          "output_type": "stream",
          "name": "stderr",
          "text": [
            " 99%|█████████▉| 2400/2424 [28:48<00:12,  1.85it/s]"
          ]
        },
        {
          "output_type": "stream",
          "name": "stdout",
          "text": [
            "Train loss:  3.2362136840820312\n"
          ]
        },
        {
          "output_type": "stream",
          "name": "stderr",
          "text": [
            "\r 99%|█████████▉| 2401/2424 [29:00<01:29,  3.91s/it]"
          ]
        },
        {
          "output_type": "stream",
          "name": "stdout",
          "text": [
            "Val loss:  3.4281646728515627\n"
          ]
        },
        {
          "output_type": "stream",
          "name": "stderr",
          "text": [
            "100%|██████████| 2424/2424 [29:11<00:00,  1.38it/s]\n"
          ]
        }
      ]
    },
    {
      "cell_type": "code",
      "metadata": {
        "id": "vhAI7GenSCrM"
      },
      "source": [
        "torch.save(model, \"model.pt\")"
      ],
      "execution_count": null,
      "outputs": []
    },
    {
      "cell_type": "code",
      "metadata": {
        "id": "iQjZCTkKrlsq",
        "colab": {
          "base_uri": "https://localhost:8080/"
        },
        "outputId": "cbe0cd0b-fb96-465e-9411-9ea360abacdb"
      },
      "source": [
        "model = torch.load(\"model.pt\").to(device)\n",
        "model.eval()"
      ],
      "execution_count": null,
      "outputs": [
        {
          "output_type": "execute_result",
          "data": {
            "text/plain": [
              "PG(\n",
              "  (encoder): Encoder(\n",
              "    (embedding): Embedding(30522, 384)\n",
              "    (gru): GRU(384, 384, bidirectional=True)\n",
              "    (out_last): Linear(in_features=768, out_features=384, bias=True)\n",
              "  )\n",
              "  (decoder): Decoder(\n",
              "    (embedding): Embedding(30522, 384)\n",
              "    (query): Linear(in_features=768, out_features=384, bias=True)\n",
              "    (v): Linear(in_features=384, out_features=1, bias=True)\n",
              "    (gru_cell): GRUCell(1152, 384)\n",
              "    (out): Linear(in_features=384, out_features=30522, bias=True)\n",
              "  )\n",
              "  (criterion): NLLLoss()\n",
              "  (keys): Linear(in_features=768, out_features=384, bias=True)\n",
              ")"
            ]
          },
          "metadata": {},
          "execution_count": 60
        }
      ]
    },
    {
      "cell_type": "code",
      "metadata": {
        "colab": {
          "base_uri": "https://localhost:8080/"
        },
        "id": "OHjT9Pxj5s06",
        "outputId": "4e881d6d-2912-4fa7-a255-6132692a501b"
      },
      "source": [
        "device = torch.device(\"cuda\" if torch.cuda.is_available() else \"cpu\")\n",
        "\n",
        "for src, tar in val_loader:\n",
        "      gen = model(src[0].unsqueeze(0).to(device))\n",
        "\n",
        "      src = src[0].tolist()\n",
        "      tar = tar[0].tolist()\n",
        "\n",
        "      src_str = tokenizer.decode(src[1:src.index(EOS_id)])\n",
        "      tar_str = tokenizer.decode(tar[1:tar.index(EOS_id)])\n",
        "      gen_str = tokenizer.decode(gen[1:gen.index(EOS_id)])\n",
        "\n",
        "      print(f\"[SRC] {src_str}\")\n",
        "      print(f\"[TAR] {tar_str}\")\n",
        "      print(f\"[OUT] {gen_str}\")\n",
        "\n",
        "      break"
      ],
      "execution_count": null,
      "outputs": [
        {
          "output_type": "stream",
          "name": "stdout",
          "text": [
            "[SRC] nine african - american employees of southern california edison co. accused the electric utility of race discrimination in a class - action lawsuit filed in federal court in los angeles.\n",
            "[TAR] black employees suit accuses edison of bias\n",
            "[OUT] california employees sues # # # employees of race in los angeles court\n"
          ]
        }
      ]
    },
    {
      "cell_type": "code",
      "source": [
        "from nltk.translate.bleu_score import corpus_bleu\n",
        "from rouge import Rouge\n",
        "\n",
        "def calc_scores(references, predictions, metric=\"all\"):\n",
        "    print(\"Tar:\", references[0])\n",
        "    print(\"Pred:\", predictions[0])\n",
        "\n",
        "    if metric in (\"bleu\", \"all\"):\n",
        "        print(\"BLEU: \", corpus_bleu([[r.split()] for r in references], [p.split() for p in predictions]))\n",
        "    if metric in (\"rouge\", \"all\"):\n",
        "        rouge = Rouge()\n",
        "        scores = rouge.get_scores(predictions, references, avg=True)\n",
        "        print(\"ROUGE: \", scores)"
      ],
      "metadata": {
        "id": "tpsFDO1Trihw"
      },
      "execution_count": null,
      "outputs": []
    },
    {
      "cell_type": "code",
      "source": [
        "from nltk.translate.bleu_score import sentence_bleu\n",
        "\n",
        "device = torch.device(\"cuda\" if torch.cuda.is_available() else \"cpu\")\n",
        "\n",
        "references = []\n",
        "predictions = []\n",
        "model.eval()\n",
        "\n",
        "\n",
        "for src, tar in tqdm(val_loader):      \n",
        "      batch_size = src.size(0)\n",
        "\n",
        "      for i in range(batch_size):\n",
        "        gen = model(src[i].unsqueeze(0).to(device))\n",
        "        \n",
        "        ref = src[i].tolist()\n",
        "        target = tar[i].tolist()\n",
        "\n",
        "        src_str = tokenizer.decode(ref[1:ref.index(EOS_id)])\n",
        "        tar_str = tokenizer.decode(target[1:target.index(EOS_id)])\n",
        "        if EOS_id in gen:\n",
        "          gen_str = tokenizer.decode(gen[1:gen.index(EOS_id)])\n",
        "        else:\n",
        "          gen_str = tokenizer.decode(gen[1:])\n",
        "\n",
        "        #print(gen_str)\n",
        "        \n",
        "        references.append(tar_str.lower())\n",
        "        predictions.append(gen_str.lower())\n",
        "\n",
        "calc_scores(references, predictions)"
      ],
      "metadata": {
        "colab": {
          "base_uri": "https://localhost:8080/"
        },
        "id": "M3VU63nHrduu",
        "outputId": "2f8533a7-5376-4fe6-898d-39548bbfc1cd"
      },
      "execution_count": null,
      "outputs": [
        {
          "output_type": "stream",
          "name": "stderr",
          "text": [
            "100%|██████████| 50/50 [02:04<00:00,  2.50s/it]\n"
          ]
        },
        {
          "output_type": "stream",
          "name": "stdout",
          "text": [
            "Tar: mccain obama turn to missouri\n",
            "Pred: democrats look to the gop presidential candidates\n",
            "BLEU:  0.10665420158188844\n",
            "ROUGE:  {'rouge-1': {'f': 0.3311842587449247, 'p': 0.38167750933962047, 'r': 0.30866243417019656}, 'rouge-2': {'f': 0.14921874237609037, 'p': 0.16955758629391393, 'r': 0.1415467600368662}, 'rouge-l': {'f': 0.2985554722204343, 'p': 0.36461407689532827, 'r': 0.2948386304319299}}\n"
          ]
        }
      ]
    },
    {
      "cell_type": "markdown",
      "metadata": {
        "id": "mcCDYCaiLw13"
      },
      "source": [
        "# Задание 1, Pointer Generator\n",
        "\n",
        "Добавьте вычисление метрик BLEU и ROUGE из прошлого семинара. Добавте указатели в модель выше, как в статье https://arxiv.org/pdf/1704.04368.pdf (кроме attention coverage - его не нужно). Обучите новую модель, сравните результаты."
      ]
    },
    {
      "cell_type": "code",
      "source": [
        "from torch import nn\n",
        "import torch.nn.functional as F\n",
        "\n",
        "class Encoder(nn.Module):\n",
        "    def __init__(\n",
        "        self\n",
        "        , vocab_size\n",
        "        , hidden_size\n",
        "    ):\n",
        "        super(Encoder, self).__init__()\n",
        "        self.hidden_size = hidden_size\n",
        "\n",
        "        self.embedding = nn.Embedding(vocab_size, hidden_size)\n",
        "\n",
        "        self.gru = nn.GRU(\n",
        "            hidden_size\n",
        "            , hidden_size\n",
        "            , bidirectional=True\n",
        "        )\n",
        "\n",
        "        self.out_last = nn.Linear(hidden_size * 2, hidden_size)\n",
        "\n",
        "    def forward(self, x):\n",
        "        batch_size = x.size(0)\n",
        "        x = self.embedding(x)\n",
        "\n",
        "        out, h = self.gru(x.transpose(0, 1))\n",
        "        \n",
        "        out = out.transpose(0, 1)\n",
        "\n",
        "        out_last = self.out_last(torch.cat((h[0], h[1]), dim=-1))\n",
        "\n",
        "        return out_last, out\n",
        "\n",
        "class Decoder(nn.Module):\n",
        "    def __init__(\n",
        "        self\n",
        "        , vocab_size\n",
        "        , hidden_size\n",
        "    ):\n",
        "        super(Decoder, self).__init__()\n",
        "\n",
        "        self.embedding = nn.Embedding(vocab_size, hidden_size)\n",
        "\n",
        "        self.query = nn.Linear(hidden_size * 2, hidden_size)\n",
        "        self.v = nn.Linear(hidden_size, 1)\n",
        "        self.p_h = nn.Linear(2*hidden_size, 1)\n",
        "        self.p_s = nn.Linear(hidden_size, 1)\n",
        "        self.p_x = nn.Linear(hidden_size, 1)\n",
        "\n",
        "        self.gru_cell = nn.GRUCell(hidden_size * 3, hidden_size)\n",
        "        self.out = nn.Linear(hidden_size, vocab_size)\n",
        "\n",
        "\n",
        "    def forward(\n",
        "        self\n",
        "        , last\n",
        "        , hidden\n",
        "        , keys\n",
        "        , memory # B, L, H\n",
        "        , word_mask\n",
        "    ):\n",
        "        batch_size = last.size(0)\n",
        "\n",
        "        device = torch.device(\"cuda\" if torch.cuda.is_available() else \"cpu\")\n",
        "        idx = last\n",
        "\n",
        "        last = self.embedding(last).to(device) # B, H x_t\n",
        "\n",
        "        query = self.query(torch.cat((hidden, last), dim=-1)).unsqueeze(1) # B, 1, H\n",
        "\n",
        "        energies = self.v((query + keys).tanh()) # B, L, 1\n",
        "        weights = energies.softmax(dim=1) # B, L, 1\n",
        "\n",
        "        attn = (memory * weights).sum(dim=1).squeeze(-1) # (B, H)\n",
        "\n",
        "        context = torch.cat((last, attn), dim=-1)\n",
        "\n",
        "        hidden = self.gru_cell(context, hidden) # B, H\n",
        "\n",
        "\n",
        "        p_gen = ((self.p_h(attn)+self.p_x(last)+self.p_s(hidden)).sigmoid())\n",
        "\n",
        "        out = self.out(hidden) # B, H\n",
        "\n",
        "        log_probs = F.softmax(out, dim=1) # B, V\n",
        "\n",
        "        a_sum = (weights.squeeze()*word_mask).sum(dim=1).unsqueeze(1)\n",
        "\n",
        "        log_probs = p_gen*log_probs\n",
        "        final_dist = log_probs.scatter_add(1, idx.view(-1, 1), (1-p_gen)*a_sum)\n",
        "\n",
        "        return torch.log(final_dist), hidden\n",
        "\n",
        "class PG(nn.Module):\n",
        "    def __init__(self\n",
        "        , vocab_size\n",
        "        , hidden_size\n",
        "    ):\n",
        "        super(PG, self).__init__()\n",
        "        self.hidden_size = hidden_size\n",
        "\n",
        "        self.encoder = Encoder(vocab_size, hidden_size)\n",
        "\n",
        "        self.decoder = Decoder(vocab_size, hidden_size)\n",
        "\n",
        "        self.criterion = nn.NLLLoss(reduction='none')\n",
        "\n",
        "        self.keys = nn.Linear(hidden_size * 2, hidden_size)\n",
        "\n",
        "    def forward(\n",
        "        self\n",
        "        , src_tensor\n",
        "        , tar_tensor=None # B, L\n",
        "    ):\n",
        "        batch_size = src_tensor.size(0)\n",
        "\n",
        "        device = torch.device(\"cuda\" if torch.cuda.is_available() else \"cpu\")\n",
        "\n",
        "        h, memory = self.encoder(src_tensor)\n",
        "\n",
        "        keys = self.keys(memory) #\n",
        "\n",
        "        if self.training:\n",
        "            loss = 0.0\n",
        "\n",
        "            log_probs = []\n",
        "\n",
        "            for iter in range(tar_tensor.size(1)-1):\n",
        "\n",
        "                last = tar_tensor[:, iter]\n",
        "                mask = torch.ones(src_tensor.shape).to(device)\n",
        "                mask *= last.unsqueeze(1)\n",
        "\n",
        "                mask = (mask == src_tensor)\n",
        "                mask *= (src_tensor != PAD_id)\n",
        "                mask *= (src_tensor != EOS_id)\n",
        "                \n",
        "                if iter == 0:\n",
        "                  mask = torch.zeros(src_tensor.shape).to(device)\n",
        "                mask = torch.tensor(mask, dtype=torch.float)\n",
        "\n",
        "                lp, h = self.decoder(last, h, keys, memory, mask) # B, vocab_size\n",
        "\n",
        "                log_probs.append(lp.unsqueeze(2)) # B, vocab_size, 1\n",
        "\n",
        "            log_probs = torch.cat(log_probs, dim=-1) # B, vocab_size, L\n",
        "\n",
        "            loss = self.criterion(log_probs, tar_tensor[:, 1:])[tar_tensor[:, 1:] != PAD_id].mean()\n",
        "\n",
        "            return loss\n",
        "\n",
        "        else:\n",
        "            with torch.no_grad():\n",
        "                generated = [SOS_id]\n",
        "\n",
        "                for iter in range(100):\n",
        "                  \n",
        "                    last = torch.tensor([generated[-1]]).to(device)\n",
        "                    mask = torch.ones(src_tensor.shape).to(device)\n",
        "                    mask *= last.unsqueeze(1)\n",
        "\n",
        "                    mask = (mask == src_tensor)\n",
        "                    mask *= (src_tensor != PAD_id)\n",
        "                    mask *= (src_tensor != EOS_id)\n",
        "\n",
        "                    if iter == 0:\n",
        "                        mask = torch.zeros(src_tensor.shape).to(device)\n",
        "                    mask = torch.tensor(mask, dtype=torch.float)\n",
        "\n",
        "                    lp, h = self.decoder(last, h, keys, memory, mask) # 1, vocab_size\n",
        "\n",
        "                    gen_id = lp[0].argmax().item()\n",
        "\n",
        "                    generated.append(gen_id)\n",
        "\n",
        "                    if gen_id == EOS_id:\n",
        "                      break\n",
        "                \n",
        "                return generated"
      ],
      "metadata": {
        "id": "oWR6alMnxc7z"
      },
      "execution_count": null,
      "outputs": []
    },
    {
      "cell_type": "code",
      "source": [
        "def train(model, train_loader, val_loader, epochs):\n",
        "  device = torch.device(\"cuda\" if torch.cuda.is_available() else \"cpu\")\n",
        "  lr = 1e-3\n",
        "  optimizer = torch.optim.Adam(model.parameters(), lr=lr)\n",
        "  for epoch in range(1, epochs+1):\n",
        "    n = 0\n",
        "    for src, tar in tqdm(train_loader):\n",
        "        src = src.to(device)\n",
        "        tar = tar.to(device)\n",
        "\n",
        "        optimizer.zero_grad()\n",
        "\n",
        "        loss = model(src, tar)\n",
        "\n",
        "        loss.backward()\n",
        "        grad_norm = torch.nn.utils.clip_grad_norm_(model.parameters(), 0.5)\n",
        "\n",
        "        optimizer.step()\n",
        "\n",
        "        if n % 50 == 0 and n !=0: \n",
        "          print(\"Train loss: \", loss.item())\n",
        "\n",
        "          with torch.no_grad():\n",
        "            val_loss_sum = 0.0\n",
        "            for val_src, val_tar in val_loader:\n",
        "              val_src = val_src.to(device)\n",
        "              val_tar = val_tar.to(device)\n",
        "\n",
        "              val_loss_sum += model(val_src, val_tar)\n",
        "\n",
        "            print(\"Val loss: \", val_loss_sum.item() / len(val_loader))\n",
        "\n",
        "        n += 1\n",
        "      \n",
        "  return model"
      ],
      "metadata": {
        "id": "vKtCpYY-0Y-5"
      },
      "execution_count": null,
      "outputs": []
    },
    {
      "cell_type": "code",
      "source": [
        "from tqdm import tqdm\n",
        "\n",
        "train_loader = DataLoader(\n",
        "    train_dataset\n",
        "    , batch_size=256\n",
        "    , shuffle=True\n",
        "    , collate_fn=partial(collate_fn_cnn, PAD_id)\n",
        ")\n",
        "\n",
        "val_loader = DataLoader(\n",
        "    val_dataset\n",
        "    , batch_size=256\n",
        "    , shuffle=True\n",
        "    , collate_fn=partial(collate_fn_cnn, PAD_id)\n",
        "    , drop_last=True\n",
        ")\n",
        "\n",
        "vocab_size = tokenizer.vocab_size\n",
        "hidden_size = 384\n",
        "epochs = 1\n",
        "\n",
        "device = torch.device(\"cuda\" if torch.cuda.is_available() else \"cpu\")\n",
        "\n",
        "model = PG(vocab_size, hidden_size).to(device)\n",
        "\n",
        "model = train(model, train_loader, val_loader, epochs)"
      ],
      "metadata": {
        "colab": {
          "base_uri": "https://localhost:8080/"
        },
        "id": "kxXFSZea0dl8",
        "outputId": "75bb6c38-c391-4962-d322-c13b21da7655"
      },
      "execution_count": null,
      "outputs": [
        {
          "output_type": "stream",
          "name": "stderr",
          "text": [
            "\r  0%|          | 0/2427 [00:00<?, ?it/s]<ipython-input-15-5c0286ee0320>:141: UserWarning: To copy construct from a tensor, it is recommended to use sourceTensor.clone().detach() or sourceTensor.clone().detach().requires_grad_(True), rather than torch.tensor(sourceTensor).\n",
            "  mask = torch.tensor(mask, dtype=torch.float)\n",
            "  2%|▏         | 50/2427 [00:30<20:34,  1.93it/s]"
          ]
        },
        {
          "output_type": "stream",
          "name": "stdout",
          "text": [
            "Train loss:  6.894338607788086\n"
          ]
        },
        {
          "output_type": "stream",
          "name": "stderr",
          "text": [
            "\r  2%|▏         | 51/2427 [00:43<2:53:52,  4.39s/it]"
          ]
        },
        {
          "output_type": "stream",
          "name": "stdout",
          "text": [
            "Val loss:  6.76822584502551\n"
          ]
        },
        {
          "output_type": "stream",
          "name": "stderr",
          "text": [
            "  4%|▍         | 100/2427 [01:10<23:13,  1.67it/s]"
          ]
        },
        {
          "output_type": "stream",
          "name": "stdout",
          "text": [
            "Train loss:  6.152415752410889\n"
          ]
        },
        {
          "output_type": "stream",
          "name": "stderr",
          "text": [
            "\r  4%|▍         | 101/2427 [01:23<2:48:58,  4.36s/it]"
          ]
        },
        {
          "output_type": "stream",
          "name": "stdout",
          "text": [
            "Val loss:  6.295524130062181\n"
          ]
        },
        {
          "output_type": "stream",
          "name": "stderr",
          "text": [
            "  6%|▌         | 150/2427 [01:51<21:41,  1.75it/s]"
          ]
        },
        {
          "output_type": "stream",
          "name": "stdout",
          "text": [
            "Train loss:  5.908389091491699\n"
          ]
        },
        {
          "output_type": "stream",
          "name": "stderr",
          "text": [
            "\r  6%|▌         | 151/2427 [02:04<2:45:52,  4.37s/it]"
          ]
        },
        {
          "output_type": "stream",
          "name": "stdout",
          "text": [
            "Val loss:  5.930314667370855\n"
          ]
        },
        {
          "output_type": "stream",
          "name": "stderr",
          "text": [
            "  8%|▊         | 200/2427 [02:33<23:03,  1.61it/s]"
          ]
        },
        {
          "output_type": "stream",
          "name": "stdout",
          "text": [
            "Train loss:  5.726965427398682\n"
          ]
        },
        {
          "output_type": "stream",
          "name": "stderr",
          "text": [
            "\r  8%|▊         | 201/2427 [02:46<2:45:24,  4.46s/it]"
          ]
        },
        {
          "output_type": "stream",
          "name": "stdout",
          "text": [
            "Val loss:  5.664063745615434\n"
          ]
        },
        {
          "output_type": "stream",
          "name": "stderr",
          "text": [
            " 10%|█         | 250/2427 [03:14<21:56,  1.65it/s]"
          ]
        },
        {
          "output_type": "stream",
          "name": "stdout",
          "text": [
            "Train loss:  5.595208644866943\n"
          ]
        },
        {
          "output_type": "stream",
          "name": "stderr",
          "text": [
            "\r 10%|█         | 251/2427 [03:27<2:39:08,  4.39s/it]"
          ]
        },
        {
          "output_type": "stream",
          "name": "stdout",
          "text": [
            "Val loss:  5.463504090601084\n"
          ]
        },
        {
          "output_type": "stream",
          "name": "stderr",
          "text": [
            " 12%|█▏        | 300/2427 [03:54<19:23,  1.83it/s]"
          ]
        },
        {
          "output_type": "stream",
          "name": "stdout",
          "text": [
            "Train loss:  5.27194881439209\n"
          ]
        },
        {
          "output_type": "stream",
          "name": "stderr",
          "text": [
            "\r 12%|█▏        | 301/2427 [04:07<2:36:05,  4.41s/it]"
          ]
        },
        {
          "output_type": "stream",
          "name": "stdout",
          "text": [
            "Val loss:  5.2878928671077805\n"
          ]
        },
        {
          "output_type": "stream",
          "name": "stderr",
          "text": [
            " 14%|█▍        | 350/2427 [04:35<18:54,  1.83it/s]"
          ]
        },
        {
          "output_type": "stream",
          "name": "stdout",
          "text": [
            "Train loss:  5.063031196594238\n"
          ]
        },
        {
          "output_type": "stream",
          "name": "stderr",
          "text": [
            "\r 14%|█▍        | 351/2427 [04:48<2:32:45,  4.42s/it]"
          ]
        },
        {
          "output_type": "stream",
          "name": "stdout",
          "text": [
            "Val loss:  5.142532037228954\n"
          ]
        },
        {
          "output_type": "stream",
          "name": "stderr",
          "text": [
            " 16%|█▋        | 400/2427 [05:16<19:04,  1.77it/s]"
          ]
        },
        {
          "output_type": "stream",
          "name": "stdout",
          "text": [
            "Train loss:  5.074766159057617\n"
          ]
        },
        {
          "output_type": "stream",
          "name": "stderr",
          "text": [
            "\r 17%|█▋        | 401/2427 [05:29<2:27:34,  4.37s/it]"
          ]
        },
        {
          "output_type": "stream",
          "name": "stdout",
          "text": [
            "Val loss:  5.006742204938616\n"
          ]
        },
        {
          "output_type": "stream",
          "name": "stderr",
          "text": [
            " 19%|█▊        | 450/2427 [05:57<18:05,  1.82it/s]"
          ]
        },
        {
          "output_type": "stream",
          "name": "stdout",
          "text": [
            "Train loss:  4.925650596618652\n"
          ]
        },
        {
          "output_type": "stream",
          "name": "stderr",
          "text": [
            "\r 19%|█▊        | 451/2427 [06:11<2:27:01,  4.46s/it]"
          ]
        },
        {
          "output_type": "stream",
          "name": "stdout",
          "text": [
            "Val loss:  4.894536232461735\n"
          ]
        },
        {
          "output_type": "stream",
          "name": "stderr",
          "text": [
            " 21%|██        | 500/2427 [06:39<17:41,  1.81it/s]"
          ]
        },
        {
          "output_type": "stream",
          "name": "stdout",
          "text": [
            "Train loss:  4.719696521759033\n"
          ]
        },
        {
          "output_type": "stream",
          "name": "stderr",
          "text": [
            "\r 21%|██        | 501/2427 [06:52<2:21:27,  4.41s/it]"
          ]
        },
        {
          "output_type": "stream",
          "name": "stdout",
          "text": [
            "Val loss:  4.790775221221301\n"
          ]
        },
        {
          "output_type": "stream",
          "name": "stderr",
          "text": [
            " 23%|██▎       | 550/2427 [07:20<16:26,  1.90it/s]"
          ]
        },
        {
          "output_type": "stream",
          "name": "stdout",
          "text": [
            "Train loss:  4.532028675079346\n"
          ]
        },
        {
          "output_type": "stream",
          "name": "stderr",
          "text": [
            "\r 23%|██▎       | 551/2427 [07:33<2:18:10,  4.42s/it]"
          ]
        },
        {
          "output_type": "stream",
          "name": "stdout",
          "text": [
            "Val loss:  4.694109235491071\n"
          ]
        },
        {
          "output_type": "stream",
          "name": "stderr",
          "text": [
            " 25%|██▍       | 600/2427 [08:01<16:08,  1.89it/s]"
          ]
        },
        {
          "output_type": "stream",
          "name": "stdout",
          "text": [
            "Train loss:  4.6994829177856445\n"
          ]
        },
        {
          "output_type": "stream",
          "name": "stderr",
          "text": [
            "\r 25%|██▍       | 601/2427 [08:14<2:15:04,  4.44s/it]"
          ]
        },
        {
          "output_type": "stream",
          "name": "stdout",
          "text": [
            "Val loss:  4.607993301080198\n"
          ]
        },
        {
          "output_type": "stream",
          "name": "stderr",
          "text": [
            " 27%|██▋       | 650/2427 [08:42<15:01,  1.97it/s]"
          ]
        },
        {
          "output_type": "stream",
          "name": "stdout",
          "text": [
            "Train loss:  4.546996593475342\n"
          ]
        },
        {
          "output_type": "stream",
          "name": "stderr",
          "text": [
            "\r 27%|██▋       | 651/2427 [08:55<2:10:22,  4.40s/it]"
          ]
        },
        {
          "output_type": "stream",
          "name": "stdout",
          "text": [
            "Val loss:  4.532347698600924\n"
          ]
        },
        {
          "output_type": "stream",
          "name": "stderr",
          "text": [
            " 29%|██▉       | 700/2427 [09:23<16:54,  1.70it/s]"
          ]
        },
        {
          "output_type": "stream",
          "name": "stdout",
          "text": [
            "Train loss:  4.417944431304932\n"
          ]
        },
        {
          "output_type": "stream",
          "name": "stderr",
          "text": [
            "\r 29%|██▉       | 701/2427 [09:37<2:07:16,  4.42s/it]"
          ]
        },
        {
          "output_type": "stream",
          "name": "stdout",
          "text": [
            "Val loss:  4.466679787149235\n"
          ]
        },
        {
          "output_type": "stream",
          "name": "stderr",
          "text": [
            " 31%|███       | 750/2427 [10:04<15:11,  1.84it/s]"
          ]
        },
        {
          "output_type": "stream",
          "name": "stdout",
          "text": [
            "Train loss:  4.22928524017334\n"
          ]
        },
        {
          "output_type": "stream",
          "name": "stderr",
          "text": [
            "\r 31%|███       | 751/2427 [10:17<2:01:56,  4.37s/it]"
          ]
        },
        {
          "output_type": "stream",
          "name": "stdout",
          "text": [
            "Val loss:  4.39481089066486\n"
          ]
        },
        {
          "output_type": "stream",
          "name": "stderr",
          "text": [
            " 33%|███▎      | 800/2427 [10:44<14:35,  1.86it/s]"
          ]
        },
        {
          "output_type": "stream",
          "name": "stdout",
          "text": [
            "Train loss:  4.366095066070557\n"
          ]
        },
        {
          "output_type": "stream",
          "name": "stderr",
          "text": [
            "\r 33%|███▎      | 801/2427 [10:57<1:59:49,  4.42s/it]"
          ]
        },
        {
          "output_type": "stream",
          "name": "stdout",
          "text": [
            "Val loss:  4.329957300302934\n"
          ]
        },
        {
          "output_type": "stream",
          "name": "stderr",
          "text": [
            " 35%|███▌      | 850/2427 [11:25<14:02,  1.87it/s]"
          ]
        },
        {
          "output_type": "stream",
          "name": "stdout",
          "text": [
            "Train loss:  4.233218669891357\n"
          ]
        },
        {
          "output_type": "stream",
          "name": "stderr",
          "text": [
            "\r 35%|███▌      | 851/2427 [11:38<1:56:52,  4.45s/it]"
          ]
        },
        {
          "output_type": "stream",
          "name": "stdout",
          "text": [
            "Val loss:  4.277319771902902\n"
          ]
        },
        {
          "output_type": "stream",
          "name": "stderr",
          "text": [
            " 37%|███▋      | 900/2427 [12:07<17:36,  1.44it/s]"
          ]
        },
        {
          "output_type": "stream",
          "name": "stdout",
          "text": [
            "Train loss:  4.323821544647217\n"
          ]
        },
        {
          "output_type": "stream",
          "name": "stderr",
          "text": [
            "\r 37%|███▋      | 901/2427 [12:21<1:54:52,  4.52s/it]"
          ]
        },
        {
          "output_type": "stream",
          "name": "stdout",
          "text": [
            "Val loss:  4.22028958067602\n"
          ]
        },
        {
          "output_type": "stream",
          "name": "stderr",
          "text": [
            " 39%|███▉      | 950/2427 [12:48<14:16,  1.72it/s]"
          ]
        },
        {
          "output_type": "stream",
          "name": "stdout",
          "text": [
            "Train loss:  4.27608060836792\n"
          ]
        },
        {
          "output_type": "stream",
          "name": "stderr",
          "text": [
            "\r 39%|███▉      | 951/2427 [13:02<1:51:28,  4.53s/it]"
          ]
        },
        {
          "output_type": "stream",
          "name": "stdout",
          "text": [
            "Val loss:  4.167993662308674\n"
          ]
        },
        {
          "output_type": "stream",
          "name": "stderr",
          "text": [
            " 41%|████      | 1000/2427 [13:29<14:17,  1.66it/s]"
          ]
        },
        {
          "output_type": "stream",
          "name": "stdout",
          "text": [
            "Train loss:  4.141929626464844\n"
          ]
        },
        {
          "output_type": "stream",
          "name": "stderr",
          "text": [
            "\r 41%|████      | 1001/2427 [13:43<1:46:16,  4.47s/it]"
          ]
        },
        {
          "output_type": "stream",
          "name": "stdout",
          "text": [
            "Val loss:  4.120339841258769\n"
          ]
        },
        {
          "output_type": "stream",
          "name": "stderr",
          "text": [
            " 43%|████▎     | 1050/2427 [14:11<13:14,  1.73it/s]"
          ]
        },
        {
          "output_type": "stream",
          "name": "stdout",
          "text": [
            "Train loss:  3.9964993000030518\n"
          ]
        },
        {
          "output_type": "stream",
          "name": "stderr",
          "text": [
            "\r 43%|████▎     | 1051/2427 [14:24<1:42:24,  4.47s/it]"
          ]
        },
        {
          "output_type": "stream",
          "name": "stdout",
          "text": [
            "Val loss:  4.0770058145328445\n"
          ]
        },
        {
          "output_type": "stream",
          "name": "stderr",
          "text": [
            " 45%|████▌     | 1100/2427 [14:53<12:58,  1.70it/s]"
          ]
        },
        {
          "output_type": "stream",
          "name": "stdout",
          "text": [
            "Train loss:  4.081568241119385\n"
          ]
        },
        {
          "output_type": "stream",
          "name": "stderr",
          "text": [
            "\r 45%|████▌     | 1101/2427 [15:06<1:39:38,  4.51s/it]"
          ]
        },
        {
          "output_type": "stream",
          "name": "stdout",
          "text": [
            "Val loss:  4.034944495376275\n"
          ]
        },
        {
          "output_type": "stream",
          "name": "stderr",
          "text": [
            " 47%|████▋     | 1150/2427 [15:35<12:31,  1.70it/s]"
          ]
        },
        {
          "output_type": "stream",
          "name": "stdout",
          "text": [
            "Train loss:  3.917933225631714\n"
          ]
        },
        {
          "output_type": "stream",
          "name": "stderr",
          "text": [
            "\r 47%|████▋     | 1151/2427 [15:48<1:36:30,  4.54s/it]"
          ]
        },
        {
          "output_type": "stream",
          "name": "stdout",
          "text": [
            "Val loss:  3.991861460160236\n"
          ]
        },
        {
          "output_type": "stream",
          "name": "stderr",
          "text": [
            " 49%|████▉     | 1200/2427 [16:16<11:27,  1.78it/s]"
          ]
        },
        {
          "output_type": "stream",
          "name": "stdout",
          "text": [
            "Train loss:  3.937711477279663\n"
          ]
        },
        {
          "output_type": "stream",
          "name": "stderr",
          "text": [
            "\r 49%|████▉     | 1201/2427 [16:30<1:30:44,  4.44s/it]"
          ]
        },
        {
          "output_type": "stream",
          "name": "stdout",
          "text": [
            "Val loss:  3.9581429617745534\n"
          ]
        },
        {
          "output_type": "stream",
          "name": "stderr",
          "text": [
            " 52%|█████▏    | 1250/2427 [16:57<10:38,  1.84it/s]"
          ]
        },
        {
          "output_type": "stream",
          "name": "stdout",
          "text": [
            "Train loss:  3.93521785736084\n"
          ]
        },
        {
          "output_type": "stream",
          "name": "stderr",
          "text": [
            "\r 52%|█████▏    | 1251/2427 [17:11<1:25:47,  4.38s/it]"
          ]
        },
        {
          "output_type": "stream",
          "name": "stdout",
          "text": [
            "Val loss:  3.921541486467634\n"
          ]
        },
        {
          "output_type": "stream",
          "name": "stderr",
          "text": [
            " 54%|█████▎    | 1300/2427 [17:39<09:53,  1.90it/s]"
          ]
        },
        {
          "output_type": "stream",
          "name": "stdout",
          "text": [
            "Train loss:  3.941976308822632\n"
          ]
        },
        {
          "output_type": "stream",
          "name": "stderr",
          "text": [
            "\r 54%|█████▎    | 1301/2427 [17:53<1:24:50,  4.52s/it]"
          ]
        },
        {
          "output_type": "stream",
          "name": "stdout",
          "text": [
            "Val loss:  3.891096776845504\n"
          ]
        },
        {
          "output_type": "stream",
          "name": "stderr",
          "text": [
            " 56%|█████▌    | 1350/2427 [18:20<09:39,  1.86it/s]"
          ]
        },
        {
          "output_type": "stream",
          "name": "stdout",
          "text": [
            "Train loss:  3.8155109882354736\n"
          ]
        },
        {
          "output_type": "stream",
          "name": "stderr",
          "text": [
            "\r 56%|█████▌    | 1351/2427 [18:34<1:20:22,  4.48s/it]"
          ]
        },
        {
          "output_type": "stream",
          "name": "stdout",
          "text": [
            "Val loss:  3.856553992446588\n"
          ]
        },
        {
          "output_type": "stream",
          "name": "stderr",
          "text": [
            " 58%|█████▊    | 1400/2427 [19:02<09:29,  1.80it/s]"
          ]
        },
        {
          "output_type": "stream",
          "name": "stdout",
          "text": [
            "Train loss:  3.741917610168457\n"
          ]
        },
        {
          "output_type": "stream",
          "name": "stderr",
          "text": [
            "\r 58%|█████▊    | 1401/2427 [19:15<1:15:29,  4.42s/it]"
          ]
        },
        {
          "output_type": "stream",
          "name": "stdout",
          "text": [
            "Val loss:  3.8231129548987566\n"
          ]
        },
        {
          "output_type": "stream",
          "name": "stderr",
          "text": [
            " 60%|█████▉    | 1450/2427 [19:42<09:09,  1.78it/s]"
          ]
        },
        {
          "output_type": "stream",
          "name": "stdout",
          "text": [
            "Train loss:  3.8499836921691895\n"
          ]
        },
        {
          "output_type": "stream",
          "name": "stderr",
          "text": [
            "\r 60%|█████▉    | 1451/2427 [19:55<1:11:08,  4.37s/it]"
          ]
        },
        {
          "output_type": "stream",
          "name": "stdout",
          "text": [
            "Val loss:  3.7974850401586417\n"
          ]
        },
        {
          "output_type": "stream",
          "name": "stderr",
          "text": [
            " 62%|██████▏   | 1500/2427 [20:22<09:52,  1.57it/s]"
          ]
        },
        {
          "output_type": "stream",
          "name": "stdout",
          "text": [
            "Train loss:  3.635035991668701\n"
          ]
        },
        {
          "output_type": "stream",
          "name": "stderr",
          "text": [
            "\r 62%|██████▏   | 1501/2427 [20:36<1:09:37,  4.51s/it]"
          ]
        },
        {
          "output_type": "stream",
          "name": "stdout",
          "text": [
            "Val loss:  3.7685690120774873\n"
          ]
        },
        {
          "output_type": "stream",
          "name": "stderr",
          "text": [
            " 64%|██████▍   | 1550/2427 [21:03<09:06,  1.61it/s]"
          ]
        },
        {
          "output_type": "stream",
          "name": "stdout",
          "text": [
            "Train loss:  3.8514344692230225\n"
          ]
        },
        {
          "output_type": "stream",
          "name": "stderr",
          "text": [
            "\r 64%|██████▍   | 1551/2427 [21:16<1:06:15,  4.54s/it]"
          ]
        },
        {
          "output_type": "stream",
          "name": "stdout",
          "text": [
            "Val loss:  3.7465119653818557\n"
          ]
        },
        {
          "output_type": "stream",
          "name": "stderr",
          "text": [
            " 66%|██████▌   | 1600/2427 [21:45<07:45,  1.78it/s]"
          ]
        },
        {
          "output_type": "stream",
          "name": "stdout",
          "text": [
            "Train loss:  3.6977174282073975\n"
          ]
        },
        {
          "output_type": "stream",
          "name": "stderr",
          "text": [
            "\r 66%|██████▌   | 1601/2427 [21:59<1:01:36,  4.48s/it]"
          ]
        },
        {
          "output_type": "stream",
          "name": "stdout",
          "text": [
            "Val loss:  3.72287672393176\n"
          ]
        },
        {
          "output_type": "stream",
          "name": "stderr",
          "text": [
            " 68%|██████▊   | 1650/2427 [22:26<07:13,  1.79it/s]"
          ]
        },
        {
          "output_type": "stream",
          "name": "stdout",
          "text": [
            "Train loss:  3.630427837371826\n"
          ]
        },
        {
          "output_type": "stream",
          "name": "stderr",
          "text": [
            "\r 68%|██████▊   | 1651/2427 [22:39<56:36,  4.38s/it]"
          ]
        },
        {
          "output_type": "stream",
          "name": "stdout",
          "text": [
            "Val loss:  3.6972980110012754\n"
          ]
        },
        {
          "output_type": "stream",
          "name": "stderr",
          "text": [
            " 70%|███████   | 1700/2427 [23:06<06:49,  1.78it/s]"
          ]
        },
        {
          "output_type": "stream",
          "name": "stdout",
          "text": [
            "Train loss:  3.738434076309204\n"
          ]
        },
        {
          "output_type": "stream",
          "name": "stderr",
          "text": [
            "\r 70%|███████   | 1701/2427 [23:20<53:56,  4.46s/it]"
          ]
        },
        {
          "output_type": "stream",
          "name": "stdout",
          "text": [
            "Val loss:  3.673622598453444\n"
          ]
        },
        {
          "output_type": "stream",
          "name": "stderr",
          "text": [
            " 72%|███████▏  | 1750/2427 [23:47<06:43,  1.68it/s]"
          ]
        },
        {
          "output_type": "stream",
          "name": "stdout",
          "text": [
            "Train loss:  3.626826047897339\n"
          ]
        },
        {
          "output_type": "stream",
          "name": "stderr",
          "text": [
            "\r 72%|███████▏  | 1751/2427 [24:00<50:23,  4.47s/it]"
          ]
        },
        {
          "output_type": "stream",
          "name": "stdout",
          "text": [
            "Val loss:  3.6547244324976083\n"
          ]
        },
        {
          "output_type": "stream",
          "name": "stderr",
          "text": [
            " 74%|███████▍  | 1800/2427 [24:28<06:28,  1.61it/s]"
          ]
        },
        {
          "output_type": "stream",
          "name": "stdout",
          "text": [
            "Train loss:  3.8062727451324463\n"
          ]
        },
        {
          "output_type": "stream",
          "name": "stderr",
          "text": [
            "\r 74%|███████▍  | 1801/2427 [24:41<46:17,  4.44s/it]"
          ]
        },
        {
          "output_type": "stream",
          "name": "stdout",
          "text": [
            "Val loss:  3.6316114153180803\n"
          ]
        },
        {
          "output_type": "stream",
          "name": "stderr",
          "text": [
            " 76%|███████▌  | 1850/2427 [25:08<05:22,  1.79it/s]"
          ]
        },
        {
          "output_type": "stream",
          "name": "stdout",
          "text": [
            "Train loss:  3.653621196746826\n"
          ]
        },
        {
          "output_type": "stream",
          "name": "stderr",
          "text": [
            "\r 76%|███████▋  | 1851/2427 [25:22<42:22,  4.41s/it]"
          ]
        },
        {
          "output_type": "stream",
          "name": "stdout",
          "text": [
            "Val loss:  3.6150195063376915\n"
          ]
        },
        {
          "output_type": "stream",
          "name": "stderr",
          "text": [
            " 78%|███████▊  | 1900/2427 [25:49<04:42,  1.87it/s]"
          ]
        },
        {
          "output_type": "stream",
          "name": "stdout",
          "text": [
            "Train loss:  3.583273410797119\n"
          ]
        },
        {
          "output_type": "stream",
          "name": "stderr",
          "text": [
            "\r 78%|███████▊  | 1901/2427 [26:03<38:55,  4.44s/it]"
          ]
        },
        {
          "output_type": "stream",
          "name": "stdout",
          "text": [
            "Val loss:  3.5944269919882017\n"
          ]
        },
        {
          "output_type": "stream",
          "name": "stderr",
          "text": [
            " 80%|████████  | 1950/2427 [26:30<03:55,  2.03it/s]"
          ]
        },
        {
          "output_type": "stream",
          "name": "stdout",
          "text": [
            "Train loss:  3.682793378829956\n"
          ]
        },
        {
          "output_type": "stream",
          "name": "stderr",
          "text": [
            "\r 80%|████████  | 1951/2427 [26:44<35:29,  4.47s/it]"
          ]
        },
        {
          "output_type": "stream",
          "name": "stdout",
          "text": [
            "Val loss:  3.5787253866390305\n"
          ]
        },
        {
          "output_type": "stream",
          "name": "stderr",
          "text": [
            " 82%|████████▏ | 2000/2427 [27:11<03:58,  1.79it/s]"
          ]
        },
        {
          "output_type": "stream",
          "name": "stdout",
          "text": [
            "Train loss:  3.43830943107605\n"
          ]
        },
        {
          "output_type": "stream",
          "name": "stderr",
          "text": [
            "\r 82%|████████▏ | 2001/2427 [27:24<31:29,  4.44s/it]"
          ]
        },
        {
          "output_type": "stream",
          "name": "stdout",
          "text": [
            "Val loss:  3.559031583824936\n"
          ]
        },
        {
          "output_type": "stream",
          "name": "stderr",
          "text": [
            " 84%|████████▍ | 2050/2427 [27:52<04:23,  1.43it/s]"
          ]
        },
        {
          "output_type": "stream",
          "name": "stdout",
          "text": [
            "Train loss:  3.6161084175109863\n"
          ]
        },
        {
          "output_type": "stream",
          "name": "stderr",
          "text": [
            "\r 85%|████████▍ | 2051/2427 [28:06<28:56,  4.62s/it]"
          ]
        },
        {
          "output_type": "stream",
          "name": "stdout",
          "text": [
            "Val loss:  3.5396473164461097\n"
          ]
        },
        {
          "output_type": "stream",
          "name": "stderr",
          "text": [
            " 87%|████████▋ | 2100/2427 [28:33<03:00,  1.81it/s]"
          ]
        },
        {
          "output_type": "stream",
          "name": "stdout",
          "text": [
            "Train loss:  3.387911558151245\n"
          ]
        },
        {
          "output_type": "stream",
          "name": "stderr",
          "text": [
            "\r 87%|████████▋ | 2101/2427 [28:47<23:41,  4.36s/it]"
          ]
        },
        {
          "output_type": "stream",
          "name": "stdout",
          "text": [
            "Val loss:  3.5307523766342475\n"
          ]
        },
        {
          "output_type": "stream",
          "name": "stderr",
          "text": [
            " 89%|████████▊ | 2150/2427 [29:13<02:32,  1.81it/s]"
          ]
        },
        {
          "output_type": "stream",
          "name": "stdout",
          "text": [
            "Train loss:  3.515516996383667\n"
          ]
        },
        {
          "output_type": "stream",
          "name": "stderr",
          "text": [
            "\r 89%|████████▊ | 2151/2427 [29:27<20:52,  4.54s/it]"
          ]
        },
        {
          "output_type": "stream",
          "name": "stdout",
          "text": [
            "Val loss:  3.51118126694037\n"
          ]
        },
        {
          "output_type": "stream",
          "name": "stderr",
          "text": [
            " 91%|█████████ | 2200/2427 [29:55<02:18,  1.64it/s]"
          ]
        },
        {
          "output_type": "stream",
          "name": "stdout",
          "text": [
            "Train loss:  3.4042117595672607\n"
          ]
        },
        {
          "output_type": "stream",
          "name": "stderr",
          "text": [
            "\r 91%|█████████ | 2201/2427 [30:08<16:25,  4.36s/it]"
          ]
        },
        {
          "output_type": "stream",
          "name": "stdout",
          "text": [
            "Val loss:  3.4919972322425066\n"
          ]
        },
        {
          "output_type": "stream",
          "name": "stderr",
          "text": [
            " 93%|█████████▎| 2250/2427 [30:35<01:34,  1.86it/s]"
          ]
        },
        {
          "output_type": "stream",
          "name": "stdout",
          "text": [
            "Train loss:  3.4189445972442627\n"
          ]
        },
        {
          "output_type": "stream",
          "name": "stderr",
          "text": [
            "\r 93%|█████████▎| 2251/2427 [30:49<13:17,  4.53s/it]"
          ]
        },
        {
          "output_type": "stream",
          "name": "stdout",
          "text": [
            "Val loss:  3.479723871970663\n"
          ]
        },
        {
          "output_type": "stream",
          "name": "stderr",
          "text": [
            " 95%|█████████▍| 2300/2427 [31:16<01:14,  1.70it/s]"
          ]
        },
        {
          "output_type": "stream",
          "name": "stdout",
          "text": [
            "Train loss:  3.4350578784942627\n"
          ]
        },
        {
          "output_type": "stream",
          "name": "stderr",
          "text": [
            "\r 95%|█████████▍| 2301/2427 [31:30<09:28,  4.51s/it]"
          ]
        },
        {
          "output_type": "stream",
          "name": "stdout",
          "text": [
            "Val loss:  3.4635050248126595\n"
          ]
        },
        {
          "output_type": "stream",
          "name": "stderr",
          "text": [
            " 97%|█████████▋| 2350/2427 [31:57<00:43,  1.75it/s]"
          ]
        },
        {
          "output_type": "stream",
          "name": "stdout",
          "text": [
            "Train loss:  3.4732792377471924\n"
          ]
        },
        {
          "output_type": "stream",
          "name": "stderr",
          "text": [
            "\r 97%|█████████▋| 2351/2427 [32:11<05:34,  4.40s/it]"
          ]
        },
        {
          "output_type": "stream",
          "name": "stdout",
          "text": [
            "Val loss:  3.4487332713847256\n"
          ]
        },
        {
          "output_type": "stream",
          "name": "stderr",
          "text": [
            " 99%|█████████▉| 2400/2427 [32:39<00:16,  1.68it/s]"
          ]
        },
        {
          "output_type": "stream",
          "name": "stdout",
          "text": [
            "Train loss:  3.579683542251587\n"
          ]
        },
        {
          "output_type": "stream",
          "name": "stderr",
          "text": [
            "\r 99%|█████████▉| 2401/2427 [32:52<01:56,  4.48s/it]"
          ]
        },
        {
          "output_type": "stream",
          "name": "stdout",
          "text": [
            "Val loss:  3.439330120475925\n"
          ]
        },
        {
          "output_type": "stream",
          "name": "stderr",
          "text": [
            "100%|██████████| 2427/2427 [33:06<00:00,  1.22it/s]\n"
          ]
        }
      ]
    },
    {
      "cell_type": "code",
      "source": [
        "torch.save(model.state_dict(), 'PG_model.pth')"
      ],
      "metadata": {
        "id": "X9rKLJmacsBz"
      },
      "execution_count": null,
      "outputs": []
    },
    {
      "cell_type": "code",
      "source": [
        "from tqdm import tqdm\n",
        "\n",
        "train_loader = DataLoader(\n",
        "    train_dataset\n",
        "    , batch_size=256\n",
        "    , shuffle=True\n",
        "    , collate_fn=partial(collate_fn_cnn, PAD_id)\n",
        ")\n",
        "\n",
        "val_loader = DataLoader(\n",
        "    val_dataset\n",
        "    , batch_size=256\n",
        "    , shuffle=True\n",
        "    , collate_fn=partial(collate_fn_cnn, PAD_id)\n",
        "    , drop_last=True\n",
        ")\n",
        "\n",
        "vocab_size = tokenizer.vocab_size\n",
        "hidden_size = 384\n",
        "\n",
        "device = torch.device(\"cuda\" if torch.cuda.is_available() else \"cpu\")\n",
        "\n",
        "model = PG(vocab_size, hidden_size).to(device)\n",
        "model.load_state_dict(torch.load('PG_model.pth'))\n",
        "model.eval()"
      ],
      "metadata": {
        "colab": {
          "base_uri": "https://localhost:8080/"
        },
        "id": "Ez6aV-pbc0K0",
        "outputId": "2bee72b8-4f7b-434c-c60f-e71416e1d339"
      },
      "execution_count": null,
      "outputs": [
        {
          "output_type": "execute_result",
          "data": {
            "text/plain": [
              "PG(\n",
              "  (encoder): Encoder(\n",
              "    (embedding): Embedding(30522, 384)\n",
              "    (gru): GRU(384, 384, bidirectional=True)\n",
              "    (out_last): Linear(in_features=768, out_features=384, bias=True)\n",
              "  )\n",
              "  (decoder): Decoder(\n",
              "    (embedding): Embedding(30522, 384)\n",
              "    (query): Linear(in_features=768, out_features=384, bias=True)\n",
              "    (v): Linear(in_features=384, out_features=1, bias=True)\n",
              "    (p_h): Linear(in_features=768, out_features=1, bias=True)\n",
              "    (p_s): Linear(in_features=384, out_features=1, bias=True)\n",
              "    (p_x): Linear(in_features=384, out_features=1, bias=True)\n",
              "    (gru_cell): GRUCell(1152, 384)\n",
              "    (out): Linear(in_features=384, out_features=30522, bias=True)\n",
              "  )\n",
              "  (criterion): NLLLoss()\n",
              "  (keys): Linear(in_features=768, out_features=384, bias=True)\n",
              ")"
            ]
          },
          "metadata": {},
          "execution_count": 19
        }
      ]
    },
    {
      "cell_type": "code",
      "source": [
        "!pip install --upgrade nltk rouge==0.3.1"
      ],
      "metadata": {
        "id": "m4syjd_xW6uS",
        "colab": {
          "base_uri": "https://localhost:8080/"
        },
        "outputId": "1181c750-0264-4565-fc46-de49d9405d66"
      },
      "execution_count": null,
      "outputs": [
        {
          "output_type": "stream",
          "name": "stdout",
          "text": [
            "Looking in indexes: https://pypi.org/simple, https://us-python.pkg.dev/colab-wheels/public/simple/\n",
            "Requirement already satisfied: nltk in /usr/local/lib/python3.10/dist-packages (3.8.1)\n",
            "Collecting rouge==0.3.1\n",
            "  Downloading rouge-0.3.1-py3-none-any.whl (7.4 kB)\n",
            "Requirement already satisfied: regex>=2021.8.3 in /usr/local/lib/python3.10/dist-packages (from nltk) (2022.10.31)\n",
            "Requirement already satisfied: joblib in /usr/local/lib/python3.10/dist-packages (from nltk) (1.2.0)\n",
            "Requirement already satisfied: tqdm in /usr/local/lib/python3.10/dist-packages (from nltk) (4.65.0)\n",
            "Requirement already satisfied: click in /usr/local/lib/python3.10/dist-packages (from nltk) (8.1.3)\n",
            "Installing collected packages: rouge\n",
            "Successfully installed rouge-0.3.1\n"
          ]
        }
      ]
    },
    {
      "cell_type": "code",
      "source": [
        "from nltk.translate.bleu_score import corpus_bleu\n",
        "from rouge import Rouge\n",
        "\n",
        "def calc_scores(references, predictions, metric=\"all\"):\n",
        "    print(\"Tar:\", references[0])\n",
        "    print(\"Pred:\", predictions[0])\n",
        "\n",
        "    if metric in (\"bleu\", \"all\"):\n",
        "        print(\"BLEU: \", corpus_bleu([[r.split()] for r in references], [p.split() for p in predictions]))\n",
        "    if metric in (\"rouge\", \"all\"):\n",
        "        rouge = Rouge()\n",
        "        scores = rouge.get_scores(predictions, references, avg=True)\n",
        "        print(\"ROUGE: \", scores)"
      ],
      "metadata": {
        "id": "ZwhwH6_zWlTa"
      },
      "execution_count": null,
      "outputs": []
    },
    {
      "cell_type": "code",
      "source": [
        "device = torch.device(\"cuda\" if torch.cuda.is_available() else \"cpu\")\n",
        "model.eval()\n",
        "for src, tar in val_loader:\n",
        "      gen = model(src[0].unsqueeze(0).to(device))\n",
        "\n",
        "      src = src[0].tolist()\n",
        "      tar = tar[0].tolist()\n",
        "\n",
        "      src_str = tokenizer.decode(src[1:src.index(EOS_id)])\n",
        "      tar_str = tokenizer.decode(tar[1:tar.index(EOS_id)])\n",
        "      gen_str = tokenizer.decode(gen[1:gen.index(EOS_id)])\n",
        "\n",
        "      print(f\"[SRC] {src_str}\")\n",
        "      print(f\"[TAR] {tar_str}\")\n",
        "      print(f\"[OUT] {gen_str}\")\n",
        "\n",
        "      break"
      ],
      "metadata": {
        "colab": {
          "base_uri": "https://localhost:8080/"
        },
        "id": "u0m1WbDIhTIz",
        "outputId": "d743c682-d4e1-444d-990f-755eccc0e70a"
      },
      "execution_count": null,
      "outputs": [
        {
          "output_type": "stream",
          "name": "stderr",
          "text": [
            "<ipython-input-15-5c0286ee0320>:169: UserWarning: To copy construct from a tensor, it is recommended to use sourceTensor.clone().detach() or sourceTensor.clone().detach().requires_grad_(True), rather than torch.tensor(sourceTensor).\n",
            "  mask = torch.tensor(mask, dtype=torch.float)\n"
          ]
        },
        {
          "output_type": "stream",
          "name": "stdout",
          "text": [
            "[SRC] legislation to enact president barack obama's top domestic goal, remaking us health care, was expected to clear a new senate procedural hurdle tuesday and stay on track for christmas passage.\n",
            "[TAR] obama health overhaul on track for christmas passage\n",
            "[OUT] us health care bill to be new senate\n"
          ]
        }
      ]
    },
    {
      "cell_type": "code",
      "source": [
        "from nltk.translate.bleu_score import sentence_bleu\n",
        "\n",
        "device = torch.device(\"cuda\" if torch.cuda.is_available() else \"cpu\")\n",
        "\n",
        "references = []\n",
        "predictions = []\n",
        "model.eval()\n",
        "\n",
        "\n",
        "for src, tar in tqdm(val_loader):      \n",
        "      batch_size = src.size(0)\n",
        "\n",
        "      for i in range(batch_size):\n",
        "        gen = model(src[i].unsqueeze(0).to(device))\n",
        "        \n",
        "        ref = src[i].tolist()\n",
        "        target = tar[i].tolist()\n",
        "\n",
        "        src_str = tokenizer.decode(ref[1:ref.index(EOS_id)])\n",
        "        tar_str = tokenizer.decode(target[1:target.index(EOS_id)])\n",
        "        if EOS_id in gen:\n",
        "          gen_str = tokenizer.decode(gen[1:gen.index(EOS_id)])\n",
        "        else:\n",
        "          gen_str = tokenizer.decode(gen[1:])\n",
        "        \n",
        "        references.append(tar_str.lower())\n",
        "        predictions.append(gen_str.lower())"
      ],
      "metadata": {
        "id": "7K9viO8G1aXy",
        "colab": {
          "base_uri": "https://localhost:8080/"
        },
        "outputId": "ee649ed6-26d6-4f98-a5b7-8919feac1996"
      },
      "execution_count": null,
      "outputs": [
        {
          "output_type": "stream",
          "name": "stderr",
          "text": [
            "\r  0%|          | 0/49 [00:00<?, ?it/s]<ipython-input-15-5c0286ee0320>:169: UserWarning: To copy construct from a tensor, it is recommended to use sourceTensor.clone().detach() or sourceTensor.clone().detach().requires_grad_(True), rather than torch.tensor(sourceTensor).\n",
            "  mask = torch.tensor(mask, dtype=torch.float)\n",
            "100%|██████████| 49/49 [03:23<00:00,  4.15s/it]\n"
          ]
        }
      ]
    },
    {
      "cell_type": "code",
      "source": [
        "predictions.index('....................................................................................................',)"
      ],
      "metadata": {
        "colab": {
          "base_uri": "https://localhost:8080/"
        },
        "id": "U_TD1SNZ81Gk",
        "outputId": "745d79ca-a59d-4b6d-ed41-1ff28f831d2c"
      },
      "execution_count": null,
      "outputs": [
        {
          "output_type": "execute_result",
          "data": {
            "text/plain": [
              "10594"
            ]
          },
          "metadata": {},
          "execution_count": 68
        }
      ]
    },
    {
      "cell_type": "code",
      "source": [
        "predictions[10594] = 'nothing.'"
      ],
      "metadata": {
        "id": "_LaT4bjj9ojX"
      },
      "execution_count": null,
      "outputs": []
    },
    {
      "cell_type": "code",
      "source": [
        "calc_scores(references, predictions)"
      ],
      "metadata": {
        "colab": {
          "base_uri": "https://localhost:8080/"
        },
        "id": "ABTsPc7X4056",
        "outputId": "3b9f10f6-7887-4f32-b518-9bd2b8b7889b"
      },
      "execution_count": null,
      "outputs": [
        {
          "output_type": "stream",
          "name": "stdout",
          "text": [
            "Tar: nba strikes satellite radio deal\n",
            "Pred: nba games to be built in next month\n",
            "BLEU:  0.10794665354483139\n",
            "ROUGE:  {'rouge-1': {'f': 0.33192455977576973, 'p': 0.3797496816091373, 'r': 0.3106829405193504}, 'rouge-2': {'f': 0.15052118667150294, 'p': 0.16925826624616253, 'r': 0.14370407786762548}, 'rouge-l': {'f': 0.3005322029447938, 'p': 0.36308657483920753, 'r': 0.29711538452429326}}\n"
          ]
        }
      ]
    },
    {
      "cell_type": "markdown",
      "metadata": {
        "id": "8K3Ie2d8ACZb"
      },
      "source": [
        "# Задание 2, BERT\n",
        "\n",
        "Допишите модель выше (без поинтеров), заменив обучаемый с нуля GRU на предобученный DistilBERT. Статья https://arxiv.org/pdf/1908.08345.pdf. Поэкспериментируйте с гиперпараметрами (lr для берта и тд), сравните результаты."
      ]
    },
    {
      "cell_type": "code",
      "metadata": {
        "id": "k3qs3hcSAES7",
        "colab": {
          "base_uri": "https://localhost:8080/"
        },
        "outputId": "2f63644a-7b96-4288-9280-7b17309e34e9"
      },
      "source": [
        "from transformers import DistilBertTokenizer, DistilBertModel\n",
        "import torch\n",
        "\n",
        "device = torch.device(\"cuda\" if torch.cuda.is_available() else \"cpu\")\n",
        "\n",
        "bert = DistilBertModel.from_pretrained('distilbert-base-uncased').to(device)\n",
        "\n",
        "#bert.eval()\n",
        "\n",
        "pass"
      ],
      "execution_count": null,
      "outputs": [
        {
          "output_type": "stream",
          "name": "stderr",
          "text": [
            "Some weights of the model checkpoint at distilbert-base-uncased were not used when initializing DistilBertModel: ['vocab_layer_norm.bias', 'vocab_projector.weight', 'vocab_layer_norm.weight', 'vocab_transform.weight', 'vocab_projector.bias', 'vocab_transform.bias']\n",
            "- This IS expected if you are initializing DistilBertModel from the checkpoint of a model trained on another task or with another architecture (e.g. initializing a BertForSequenceClassification model from a BertForPreTraining model).\n",
            "- This IS NOT expected if you are initializing DistilBertModel from the checkpoint of a model that you expect to be exactly identical (initializing a BertForSequenceClassification model from a BertForSequenceClassification model).\n"
          ]
        }
      ]
    },
    {
      "cell_type": "code",
      "metadata": {
        "colab": {
          "base_uri": "https://localhost:8080/"
        },
        "id": "gDEjcjUlA2zH",
        "outputId": "a2ca336f-e7db-43a9-a0c0-a4f5d5060f74"
      },
      "source": [
        "x = torch.tensor(train_dataset[0][0]).unsqueeze(0).to(device)\n",
        "\n",
        "print(x.size())\n",
        "\n",
        "h = bert(x).last_hidden_state\n",
        "\n",
        "h.size()"
      ],
      "execution_count": null,
      "outputs": [
        {
          "output_type": "stream",
          "name": "stdout",
          "text": [
            "torch.Size([1, 31])\n"
          ]
        },
        {
          "output_type": "execute_result",
          "data": {
            "text/plain": [
              "torch.Size([1, 31, 768])"
            ]
          },
          "metadata": {},
          "execution_count": 24
        }
      ]
    },
    {
      "cell_type": "code",
      "source": [
        "from torch import nn\n",
        "import torch.nn.functional as F\n",
        "\n",
        "class Encoder(nn.Module):\n",
        "    def __init__(\n",
        "        self\n",
        "        , vocab_size\n",
        "        , hidden_size\n",
        "    ):\n",
        "        super(Encoder, self).__init__()\n",
        "        self.hidden_size = hidden_size\n",
        "\n",
        "        self.bert = DistilBertModel.from_pretrained('distilbert-base-uncased')\n",
        "        for p in self.bert.parameters():\n",
        "          p.requires_grad = False\n",
        "        self.bert.eval()\n",
        "\n",
        "        self.out_last = nn.Linear(768, hidden_size)\n",
        "\n",
        "    def forward(self, x):\n",
        "        h = bert(x).last_hidden_state\n",
        "        h = self.out_last(h)\n",
        "\n",
        "        return h[:,-1,:], h\n",
        "\n",
        "class Decoder(nn.Module):\n",
        "    def __init__(\n",
        "        self\n",
        "        , vocab_size\n",
        "        , hidden_size\n",
        "    ):\n",
        "        super(Decoder, self).__init__()\n",
        "\n",
        "        self.embedding = nn.Embedding(vocab_size, hidden_size)\n",
        "\n",
        "        self.query = nn.Linear(hidden_size * 2, hidden_size)\n",
        "        self.v = nn.Linear(hidden_size, 1)\n",
        "\n",
        "        self.gru_cell = nn.GRUCell(hidden_size*2, hidden_size)\n",
        "        self.out = nn.Linear(hidden_size, vocab_size)\n",
        "\n",
        "\n",
        "    def forward(\n",
        "        self\n",
        "        , last\n",
        "        , hidden\n",
        "        , keys\n",
        "        , memory # B, L, H\n",
        "    ):\n",
        "        batch_size = last.size(0)\n",
        "\n",
        "        device = torch.device(\"cuda\" if torch.cuda.is_available() else \"cpu\")\n",
        "\n",
        "        last = self.embedding(last).to(device) # B, H\n",
        "\n",
        "        query = self.query(torch.cat((hidden, last), dim=-1)).unsqueeze(1) # B, 1, H\n",
        "\n",
        "        energies = self.v((query + keys).tanh()) # B, L, 1\n",
        "        weights = energies.softmax(dim=1) # B, L, 1\n",
        "\n",
        "        attn = (memory * weights).sum(dim=1).squeeze(-1) # (B, H)\n",
        "\n",
        "        context = torch.cat((last, attn), dim=-1)\n",
        "\n",
        "        hidden = self.gru_cell(context, hidden) # B, H\n",
        "\n",
        "        out = self.out(hidden) # B, H\n",
        "\n",
        "        log_probs = F.log_softmax(out, dim=1) # B, V\n",
        "\n",
        "        return log_probs, hidden\n",
        "\n",
        "class PG(nn.Module):\n",
        "    def __init__(self\n",
        "        , vocab_size\n",
        "        , hidden_size\n",
        "    ):\n",
        "        super(PG, self).__init__()\n",
        "        self.hidden_size = hidden_size\n",
        "\n",
        "        self.encoder = Encoder(vocab_size, hidden_size)\n",
        "\n",
        "        self.decoder = Decoder(vocab_size, hidden_size)\n",
        "\n",
        "        self.criterion = nn.NLLLoss(reduction='none')\n",
        "\n",
        "        self.keys = nn.Linear(hidden_size, hidden_size)\n",
        "\n",
        "    def forward(\n",
        "        self\n",
        "        , src_tensor\n",
        "        , tar_tensor=None # B, L\n",
        "    ):\n",
        "        batch_size = src_tensor.size(0)\n",
        "\n",
        "        device = torch.device(\"cuda\" if torch.cuda.is_available() else \"cpu\")\n",
        "\n",
        "        h, memory = self.encoder(src_tensor)\n",
        "\n",
        "        keys = self.keys(memory)\n",
        "\n",
        "        if self.training:\n",
        "            loss = 0.0\n",
        "\n",
        "            log_probs = []\n",
        "\n",
        "            for iter in range(tar_tensor.size(1)-1):\n",
        "                last = tar_tensor[:, iter]\n",
        "\n",
        "                lp, h = self.decoder(last, h, keys, memory) # B, vocab_size\n",
        "\n",
        "                log_probs.append(lp.unsqueeze(2)) # B, vocab_size, 1\n",
        "\n",
        "            log_probs = torch.cat(log_probs, dim=-1) # B, vocab_size, L\n",
        "\n",
        "            loss = self.criterion(log_probs, tar_tensor[:, 1:])[tar_tensor[:, 1:] != PAD_id].mean()\n",
        "\n",
        "            return loss\n",
        "\n",
        "        else:\n",
        "            with torch.no_grad():\n",
        "                generated = [SOS_id]\n",
        "\n",
        "                for iter in range(100):\n",
        "                    last = torch.tensor([generated[-1]]).to(device)\n",
        "\n",
        "                    lp, h = self.decoder(last, h, keys, memory) # 1, vocab_size\n",
        "\n",
        "                    gen_id = lp[0].argmax().item()\n",
        "\n",
        "                    generated.append(gen_id)\n",
        "\n",
        "                    if gen_id == EOS_id:\n",
        "                      break\n",
        "                \n",
        "                return generated"
      ],
      "metadata": {
        "id": "V1bUiDDNl96b"
      },
      "execution_count": null,
      "outputs": []
    },
    {
      "cell_type": "code",
      "source": [
        "def train(model, train_loader, val_loader, epochs):\n",
        "  device = torch.device(\"cuda\" if torch.cuda.is_available() else \"cpu\")\n",
        "  lr = 1e-3\n",
        "  optimizer = torch.optim.Adam(model.parameters(), lr=lr)\n",
        "  for epoch in range(1, epochs+1):\n",
        "    n = 0\n",
        "    for src, tar in tqdm(train_loader):\n",
        "        src = src.to(device)\n",
        "        tar = tar.to(device)\n",
        "\n",
        "        optimizer.zero_grad()\n",
        "\n",
        "        loss = model(src, tar)\n",
        "\n",
        "        loss.backward()\n",
        "        grad_norm = torch.nn.utils.clip_grad_norm_(model.parameters(), 0.5)\n",
        "\n",
        "        optimizer.step()\n",
        "\n",
        "        if n % 50 == 0 and n !=0: \n",
        "          print(\"Train loss: \", loss.item())\n",
        "\n",
        "          with torch.no_grad():\n",
        "            val_loss_sum = 0.0\n",
        "            for val_src, val_tar in val_loader:\n",
        "              val_src = val_src.to(device)\n",
        "              val_tar = val_tar.to(device)\n",
        "\n",
        "              val_loss_sum += model(val_src, val_tar)\n",
        "\n",
        "            print(\"Val loss: \", val_loss_sum.item() / len(val_loader))\n",
        "\n",
        "        n += 1\n",
        "      \n",
        "  return model"
      ],
      "metadata": {
        "id": "q1uzWbc4JkS8"
      },
      "execution_count": null,
      "outputs": []
    },
    {
      "cell_type": "code",
      "source": [
        "from tqdm import tqdm\n",
        "\n",
        "train_loader = DataLoader(\n",
        "    train_dataset\n",
        "    , batch_size=256\n",
        "    , shuffle=True\n",
        "    , collate_fn=partial(collate_fn_cnn, PAD_id)\n",
        ")\n",
        "\n",
        "val_loader = DataLoader(\n",
        "    val_dataset\n",
        "    , batch_size=256\n",
        "    , shuffle=True\n",
        "    , collate_fn=partial(collate_fn_cnn, PAD_id)\n",
        "    , drop_last=True\n",
        ")\n",
        "\n",
        "vocab_size = tokenizer.vocab_size\n",
        "hidden_size = 384\n",
        "epochs = 1\n",
        "\n",
        "device = torch.device(\"cuda\" if torch.cuda.is_available() else \"cpu\")\n",
        "\n",
        "model = PG(vocab_size, hidden_size).to(device)\n",
        "\n",
        "model = train(model, train_loader, val_loader, epochs)"
      ],
      "metadata": {
        "colab": {
          "base_uri": "https://localhost:8080/"
        },
        "id": "58T5sF-lJoTq",
        "outputId": "4c6dbe9e-31d8-479c-b1be-cf3bbd63e97a"
      },
      "execution_count": null,
      "outputs": [
        {
          "metadata": {
            "tags": null
          },
          "name": "stderr",
          "output_type": "stream",
          "text": [
            "Some weights of the model checkpoint at distilbert-base-uncased were not used when initializing DistilBertModel: ['vocab_layer_norm.bias', 'vocab_projector.weight', 'vocab_layer_norm.weight', 'vocab_transform.weight', 'vocab_projector.bias', 'vocab_transform.bias']\n",
            "- This IS expected if you are initializing DistilBertModel from the checkpoint of a model trained on another task or with another architecture (e.g. initializing a BertForSequenceClassification model from a BertForPreTraining model).\n",
            "- This IS NOT expected if you are initializing DistilBertModel from the checkpoint of a model that you expect to be exactly identical (initializing a BertForSequenceClassification model from a BertForSequenceClassification model).\n",
            "  2%|▏         | 50/2426 [01:04<52:16,  1.32s/it]"
          ]
        },
        {
          "metadata": {
            "tags": null
          },
          "name": "stdout",
          "output_type": "stream",
          "text": [
            "Train loss:  6.917790412902832\n"
          ]
        },
        {
          "metadata": {
            "tags": null
          },
          "name": "stderr",
          "output_type": "stream",
          "text": [
            "\r  2%|▏         | 51/2426 [01:31<6:00:29,  9.11s/it]"
          ]
        },
        {
          "metadata": {
            "tags": null
          },
          "name": "stdout",
          "output_type": "stream",
          "text": [
            "Val loss:  6.872062215999681\n"
          ]
        },
        {
          "metadata": {
            "tags": null
          },
          "name": "stderr",
          "output_type": "stream",
          "text": [
            "  4%|▍         | 100/2426 [02:33<48:36,  1.25s/it]"
          ]
        },
        {
          "metadata": {
            "tags": null
          },
          "name": "stdout",
          "output_type": "stream",
          "text": [
            "Train loss:  6.520463466644287\n"
          ]
        },
        {
          "metadata": {
            "tags": null
          },
          "name": "stderr",
          "output_type": "stream",
          "text": [
            "\r  4%|▍         | 101/2426 [03:00<5:47:29,  8.97s/it]"
          ]
        },
        {
          "metadata": {
            "tags": null
          },
          "name": "stdout",
          "output_type": "stream",
          "text": [
            "Val loss:  6.4755653848453445\n"
          ]
        },
        {
          "metadata": {
            "tags": null
          },
          "name": "stderr",
          "output_type": "stream",
          "text": [
            "  6%|▌         | 150/2426 [04:03<49:00,  1.29s/it]"
          ]
        },
        {
          "metadata": {
            "tags": null
          },
          "name": "stdout",
          "output_type": "stream",
          "text": [
            "Train loss:  6.114749431610107\n"
          ]
        },
        {
          "metadata": {
            "tags": null
          },
          "name": "stderr",
          "output_type": "stream",
          "text": [
            "\r  6%|▌         | 151/2426 [04:30<5:39:42,  8.96s/it]"
          ]
        },
        {
          "metadata": {
            "tags": null
          },
          "name": "stdout",
          "output_type": "stream",
          "text": [
            "Val loss:  6.134902642697704\n"
          ]
        },
        {
          "metadata": {
            "tags": null
          },
          "name": "stderr",
          "output_type": "stream",
          "text": [
            "  8%|▊         | 200/2426 [05:33<47:05,  1.27s/it]"
          ]
        },
        {
          "metadata": {
            "tags": null
          },
          "name": "stdout",
          "output_type": "stream",
          "text": [
            "Train loss:  5.776949405670166\n"
          ]
        },
        {
          "metadata": {
            "tags": null
          },
          "name": "stderr",
          "output_type": "stream",
          "text": [
            "\r  8%|▊         | 201/2426 [06:00<5:33:14,  8.99s/it]"
          ]
        },
        {
          "metadata": {
            "tags": null
          },
          "name": "stdout",
          "output_type": "stream",
          "text": [
            "Val loss:  5.837726826570472\n"
          ]
        },
        {
          "metadata": {
            "tags": null
          },
          "name": "stderr",
          "output_type": "stream",
          "text": [
            " 10%|█         | 250/2426 [07:02<45:41,  1.26s/it]"
          ]
        },
        {
          "metadata": {
            "tags": null
          },
          "name": "stdout",
          "output_type": "stream",
          "text": [
            "Train loss:  5.688899993896484\n"
          ]
        },
        {
          "metadata": {
            "tags": null
          },
          "name": "stderr",
          "output_type": "stream",
          "text": [
            "\r 10%|█         | 251/2426 [07:29<5:24:26,  8.95s/it]"
          ]
        },
        {
          "metadata": {
            "tags": null
          },
          "name": "stdout",
          "output_type": "stream",
          "text": [
            "Val loss:  5.582783601721939\n"
          ]
        },
        {
          "metadata": {
            "tags": null
          },
          "name": "stderr",
          "output_type": "stream",
          "text": [
            " 12%|█▏        | 300/2426 [08:33<45:15,  1.28s/it]"
          ]
        },
        {
          "metadata": {
            "tags": null
          },
          "name": "stdout",
          "output_type": "stream",
          "text": [
            "Train loss:  5.327716827392578\n"
          ]
        },
        {
          "metadata": {
            "tags": null
          },
          "name": "stderr",
          "output_type": "stream",
          "text": [
            "\r 12%|█▏        | 301/2426 [08:59<5:15:41,  8.91s/it]"
          ]
        },
        {
          "metadata": {
            "tags": null
          },
          "name": "stdout",
          "output_type": "stream",
          "text": [
            "Val loss:  5.364663883131378\n"
          ]
        },
        {
          "metadata": {
            "tags": null
          },
          "name": "stderr",
          "output_type": "stream",
          "text": [
            " 14%|█▍        | 350/2426 [10:04<43:59,  1.27s/it]"
          ]
        },
        {
          "metadata": {
            "tags": null
          },
          "name": "stdout",
          "output_type": "stream",
          "text": [
            "Train loss:  5.180903911590576\n"
          ]
        },
        {
          "metadata": {
            "tags": null
          },
          "name": "stderr",
          "output_type": "stream",
          "text": [
            "\r 14%|█▍        | 351/2426 [10:30<5:05:17,  8.83s/it]"
          ]
        },
        {
          "metadata": {
            "tags": null
          },
          "name": "stdout",
          "output_type": "stream",
          "text": [
            "Val loss:  5.176387553312341\n"
          ]
        },
        {
          "metadata": {
            "tags": null
          },
          "name": "stderr",
          "output_type": "stream",
          "text": [
            " 16%|█▋        | 400/2426 [11:34<42:30,  1.26s/it]"
          ]
        },
        {
          "metadata": {
            "tags": null
          },
          "name": "stdout",
          "output_type": "stream",
          "text": [
            "Train loss:  4.992581367492676\n"
          ]
        },
        {
          "metadata": {
            "tags": null
          },
          "name": "stderr",
          "output_type": "stream",
          "text": [
            "\r 17%|█▋        | 401/2426 [12:01<5:03:45,  9.00s/it]"
          ]
        },
        {
          "metadata": {
            "tags": null
          },
          "name": "stdout",
          "output_type": "stream",
          "text": [
            "Val loss:  5.0181638756576845\n"
          ]
        },
        {
          "metadata": {
            "tags": null
          },
          "name": "stderr",
          "output_type": "stream",
          "text": [
            " 19%|█▊        | 450/2426 [13:03<43:05,  1.31s/it]"
          ]
        },
        {
          "metadata": {
            "tags": null
          },
          "name": "stdout",
          "output_type": "stream",
          "text": [
            "Train loss:  4.836447715759277\n"
          ]
        },
        {
          "metadata": {
            "tags": null
          },
          "name": "stderr",
          "output_type": "stream",
          "text": [
            "\r 19%|█▊        | 451/2426 [13:30<4:57:20,  9.03s/it]"
          ]
        },
        {
          "metadata": {
            "tags": null
          },
          "name": "stdout",
          "output_type": "stream",
          "text": [
            "Val loss:  4.871029912209024\n"
          ]
        },
        {
          "metadata": {
            "tags": null
          },
          "name": "stderr",
          "output_type": "stream",
          "text": [
            " 21%|██        | 500/2426 [14:33<41:03,  1.28s/it]"
          ]
        },
        {
          "metadata": {
            "tags": null
          },
          "name": "stdout",
          "output_type": "stream",
          "text": [
            "Train loss:  4.721156597137451\n"
          ]
        },
        {
          "metadata": {
            "tags": null
          },
          "name": "stderr",
          "output_type": "stream",
          "text": [
            "\r 21%|██        | 501/2426 [15:00<4:47:50,  8.97s/it]"
          ]
        },
        {
          "metadata": {
            "tags": null
          },
          "name": "stdout",
          "output_type": "stream",
          "text": [
            "Val loss:  4.750098715023118\n"
          ]
        },
        {
          "metadata": {
            "tags": null
          },
          "name": "stderr",
          "output_type": "stream",
          "text": [
            " 23%|██▎       | 550/2426 [16:03<39:19,  1.26s/it]"
          ]
        },
        {
          "metadata": {
            "tags": null
          },
          "name": "stdout",
          "output_type": "stream",
          "text": [
            "Train loss:  4.548104286193848\n"
          ]
        },
        {
          "metadata": {
            "tags": null
          },
          "name": "stderr",
          "output_type": "stream",
          "text": [
            "\r 23%|██▎       | 551/2426 [16:30<4:40:50,  8.99s/it]"
          ]
        },
        {
          "metadata": {
            "tags": null
          },
          "name": "stdout",
          "output_type": "stream",
          "text": [
            "Val loss:  4.639262919523278\n"
          ]
        },
        {
          "metadata": {
            "tags": null
          },
          "name": "stderr",
          "output_type": "stream",
          "text": [
            " 25%|██▍       | 600/2426 [17:32<39:26,  1.30s/it]"
          ]
        },
        {
          "metadata": {
            "tags": null
          },
          "name": "stdout",
          "output_type": "stream",
          "text": [
            "Train loss:  4.582674026489258\n"
          ]
        },
        {
          "metadata": {
            "tags": null
          },
          "name": "stderr",
          "output_type": "stream",
          "text": [
            "\r 25%|██▍       | 601/2426 [17:59<4:31:57,  8.94s/it]"
          ]
        },
        {
          "metadata": {
            "tags": null
          },
          "name": "stdout",
          "output_type": "stream",
          "text": [
            "Val loss:  4.54410475127551\n"
          ]
        },
        {
          "metadata": {
            "tags": null
          },
          "name": "stderr",
          "output_type": "stream",
          "text": [
            " 27%|██▋       | 650/2426 [19:03<42:15,  1.43s/it]"
          ]
        },
        {
          "metadata": {
            "tags": null
          },
          "name": "stdout",
          "output_type": "stream",
          "text": [
            "Train loss:  4.348988056182861\n"
          ]
        },
        {
          "metadata": {
            "tags": null
          },
          "name": "stderr",
          "output_type": "stream",
          "text": [
            "\r 27%|██▋       | 651/2426 [19:30<4:29:38,  9.11s/it]"
          ]
        },
        {
          "metadata": {
            "tags": null
          },
          "name": "stdout",
          "output_type": "stream",
          "text": [
            "Val loss:  4.459470165019133\n"
          ]
        },
        {
          "metadata": {
            "tags": null
          },
          "name": "stderr",
          "output_type": "stream",
          "text": [
            " 29%|██▉       | 700/2426 [20:33<36:39,  1.27s/it]"
          ]
        },
        {
          "metadata": {
            "tags": null
          },
          "name": "stdout",
          "output_type": "stream",
          "text": [
            "Train loss:  4.384246826171875\n"
          ]
        },
        {
          "metadata": {
            "tags": null
          },
          "name": "stderr",
          "output_type": "stream",
          "text": [
            "\r 29%|██▉       | 701/2426 [21:00<4:18:18,  8.98s/it]"
          ]
        },
        {
          "metadata": {
            "tags": null
          },
          "name": "stdout",
          "output_type": "stream",
          "text": [
            "Val loss:  4.3874212771045915\n"
          ]
        },
        {
          "metadata": {
            "tags": null
          },
          "name": "stderr",
          "output_type": "stream",
          "text": [
            " 31%|███       | 750/2426 [22:03<35:46,  1.28s/it]"
          ]
        },
        {
          "metadata": {
            "tags": null
          },
          "name": "stdout",
          "output_type": "stream",
          "text": [
            "Train loss:  4.271976947784424\n"
          ]
        },
        {
          "metadata": {
            "tags": null
          },
          "name": "stderr",
          "output_type": "stream",
          "text": [
            "\r 31%|███       | 751/2426 [22:30<4:12:27,  9.04s/it]"
          ]
        },
        {
          "metadata": {
            "tags": null
          },
          "name": "stdout",
          "output_type": "stream",
          "text": [
            "Val loss:  4.309621071328922\n"
          ]
        },
        {
          "metadata": {
            "tags": null
          },
          "name": "stderr",
          "output_type": "stream",
          "text": [
            " 33%|███▎      | 800/2426 [23:34<35:21,  1.30s/it]"
          ]
        },
        {
          "metadata": {
            "tags": null
          },
          "name": "stdout",
          "output_type": "stream",
          "text": [
            "Train loss:  4.17240571975708\n"
          ]
        },
        {
          "metadata": {
            "tags": null
          },
          "name": "stderr",
          "output_type": "stream",
          "text": [
            "\r 33%|███▎      | 801/2426 [24:01<4:04:51,  9.04s/it]"
          ]
        },
        {
          "metadata": {
            "tags": null
          },
          "name": "stdout",
          "output_type": "stream",
          "text": [
            "Val loss:  4.249377192283164\n"
          ]
        },
        {
          "metadata": {
            "tags": null
          },
          "name": "stderr",
          "output_type": "stream",
          "text": [
            " 35%|███▌      | 850/2426 [25:04<35:01,  1.33s/it]"
          ]
        },
        {
          "metadata": {
            "tags": null
          },
          "name": "stdout",
          "output_type": "stream",
          "text": [
            "Train loss:  4.1525397300720215\n"
          ]
        },
        {
          "metadata": {
            "tags": null
          },
          "name": "stderr",
          "output_type": "stream",
          "text": [
            "\r 35%|███▌      | 851/2426 [25:31<3:56:42,  9.02s/it]"
          ]
        },
        {
          "metadata": {
            "tags": null
          },
          "name": "stdout",
          "output_type": "stream",
          "text": [
            "Val loss:  4.189031484175701\n"
          ]
        },
        {
          "metadata": {
            "tags": null
          },
          "name": "stderr",
          "output_type": "stream",
          "text": [
            " 37%|███▋      | 900/2426 [26:34<31:48,  1.25s/it]"
          ]
        },
        {
          "metadata": {
            "tags": null
          },
          "name": "stdout",
          "output_type": "stream",
          "text": [
            "Train loss:  4.079731464385986\n"
          ]
        },
        {
          "metadata": {
            "tags": null
          },
          "name": "stderr",
          "output_type": "stream",
          "text": [
            "\r 37%|███▋      | 901/2426 [27:01<3:47:28,  8.95s/it]"
          ]
        },
        {
          "metadata": {
            "tags": null
          },
          "name": "stdout",
          "output_type": "stream",
          "text": [
            "Val loss:  4.134484738719706\n"
          ]
        },
        {
          "metadata": {
            "tags": null
          },
          "name": "stderr",
          "output_type": "stream",
          "text": [
            " 39%|███▉      | 950/2426 [28:05<34:18,  1.39s/it]"
          ]
        },
        {
          "metadata": {
            "tags": null
          },
          "name": "stdout",
          "output_type": "stream",
          "text": [
            "Train loss:  4.0322160720825195\n"
          ]
        },
        {
          "metadata": {
            "tags": null
          },
          "name": "stderr",
          "output_type": "stream",
          "text": [
            "\r 39%|███▉      | 951/2426 [28:31<3:41:37,  9.02s/it]"
          ]
        },
        {
          "metadata": {
            "tags": null
          },
          "name": "stdout",
          "output_type": "stream",
          "text": [
            "Val loss:  4.0885467529296875\n"
          ]
        },
        {
          "metadata": {
            "tags": null
          },
          "name": "stderr",
          "output_type": "stream",
          "text": [
            " 41%|████      | 1000/2426 [29:34<30:58,  1.30s/it]"
          ]
        },
        {
          "metadata": {
            "tags": null
          },
          "name": "stdout",
          "output_type": "stream",
          "text": [
            "Train loss:  3.819437265396118\n"
          ]
        },
        {
          "metadata": {
            "tags": null
          },
          "name": "stderr",
          "output_type": "stream",
          "text": [
            "\r 41%|████▏     | 1001/2426 [30:01<3:32:53,  8.96s/it]"
          ]
        },
        {
          "metadata": {
            "tags": null
          },
          "name": "stdout",
          "output_type": "stream",
          "text": [
            "Val loss:  4.047015754544005\n"
          ]
        },
        {
          "metadata": {
            "tags": null
          },
          "name": "stderr",
          "output_type": "stream",
          "text": [
            " 43%|████▎     | 1050/2426 [31:04<29:19,  1.28s/it]"
          ]
        },
        {
          "metadata": {
            "tags": null
          },
          "name": "stdout",
          "output_type": "stream",
          "text": [
            "Train loss:  3.959669351577759\n"
          ]
        },
        {
          "metadata": {
            "tags": null
          },
          "name": "stderr",
          "output_type": "stream",
          "text": [
            "\r 43%|████▎     | 1051/2426 [31:31<3:27:19,  9.05s/it]"
          ]
        },
        {
          "metadata": {
            "tags": null
          },
          "name": "stdout",
          "output_type": "stream",
          "text": [
            "Val loss:  4.010934323680644\n"
          ]
        },
        {
          "metadata": {
            "tags": null
          },
          "name": "stderr",
          "output_type": "stream",
          "text": [
            " 45%|████▌     | 1100/2426 [32:34<28:55,  1.31s/it]"
          ]
        },
        {
          "metadata": {
            "tags": null
          },
          "name": "stdout",
          "output_type": "stream",
          "text": [
            "Train loss:  3.8623783588409424\n"
          ]
        },
        {
          "metadata": {
            "tags": null
          },
          "name": "stderr",
          "output_type": "stream",
          "text": [
            "\r 45%|████▌     | 1101/2426 [33:00<3:18:32,  8.99s/it]"
          ]
        },
        {
          "metadata": {
            "tags": null
          },
          "name": "stdout",
          "output_type": "stream",
          "text": [
            "Val loss:  3.9661955541493943\n"
          ]
        },
        {
          "metadata": {
            "tags": null
          },
          "name": "stderr",
          "output_type": "stream",
          "text": [
            " 47%|████▋     | 1150/2426 [34:03<27:03,  1.27s/it]"
          ]
        },
        {
          "metadata": {
            "tags": null
          },
          "name": "stdout",
          "output_type": "stream",
          "text": [
            "Train loss:  4.095711708068848\n"
          ]
        },
        {
          "metadata": {
            "tags": null
          },
          "name": "stderr",
          "output_type": "stream",
          "text": [
            "\r 47%|████▋     | 1151/2426 [34:30<3:11:09,  9.00s/it]"
          ]
        },
        {
          "metadata": {
            "tags": null
          },
          "name": "stdout",
          "output_type": "stream",
          "text": [
            "Val loss:  3.9349978699976083\n"
          ]
        },
        {
          "metadata": {
            "tags": null
          },
          "name": "stderr",
          "output_type": "stream",
          "text": [
            " 49%|████▉     | 1200/2426 [35:33<26:03,  1.28s/it]"
          ]
        },
        {
          "metadata": {
            "tags": null
          },
          "name": "stdout",
          "output_type": "stream",
          "text": [
            "Train loss:  3.9026389122009277\n"
          ]
        },
        {
          "metadata": {
            "tags": null
          },
          "name": "stderr",
          "output_type": "stream",
          "text": [
            "\r 50%|████▉     | 1201/2426 [36:00<3:04:24,  9.03s/it]"
          ]
        },
        {
          "metadata": {
            "tags": null
          },
          "name": "stdout",
          "output_type": "stream",
          "text": [
            "Val loss:  3.8979853415975767\n"
          ]
        },
        {
          "output_type": "stream",
          "name": "stderr",
          "text": [
            " 52%|█████▏    | 1250/2426 [37:03<25:15,  1.29s/it]"
          ]
        },
        {
          "output_type": "stream",
          "name": "stdout",
          "text": [
            "Train loss:  3.771066188812256\n"
          ]
        },
        {
          "output_type": "stream",
          "name": "stderr",
          "text": [
            "\r 52%|█████▏    | 1251/2426 [37:30<2:54:48,  8.93s/it]"
          ]
        },
        {
          "output_type": "stream",
          "name": "stdout",
          "text": [
            "Val loss:  3.8685617252272\n"
          ]
        },
        {
          "output_type": "stream",
          "name": "stderr",
          "text": [
            " 54%|█████▎    | 1300/2426 [38:33<23:43,  1.26s/it]"
          ]
        },
        {
          "output_type": "stream",
          "name": "stdout",
          "text": [
            "Train loss:  3.7685341835021973\n"
          ]
        },
        {
          "output_type": "stream",
          "name": "stderr",
          "text": [
            "\r 54%|█████▎    | 1301/2426 [39:00<2:48:39,  9.00s/it]"
          ]
        },
        {
          "output_type": "stream",
          "name": "stdout",
          "text": [
            "Val loss:  3.8364855707908165\n"
          ]
        },
        {
          "output_type": "stream",
          "name": "stderr",
          "text": [
            " 56%|█████▌    | 1350/2426 [40:03<22:37,  1.26s/it]"
          ]
        },
        {
          "output_type": "stream",
          "name": "stdout",
          "text": [
            "Train loss:  3.6774215698242188\n"
          ]
        },
        {
          "output_type": "stream",
          "name": "stderr",
          "text": [
            "\r 56%|█████▌    | 1351/2426 [40:30<2:42:17,  9.06s/it]"
          ]
        },
        {
          "output_type": "stream",
          "name": "stdout",
          "text": [
            "Val loss:  3.8071874501753826\n"
          ]
        },
        {
          "output_type": "stream",
          "name": "stderr",
          "text": [
            " 58%|█████▊    | 1400/2426 [41:33<21:28,  1.26s/it]"
          ]
        },
        {
          "output_type": "stream",
          "name": "stdout",
          "text": [
            "Train loss:  3.8781044483184814\n"
          ]
        },
        {
          "output_type": "stream",
          "name": "stderr",
          "text": [
            "\r 58%|█████▊    | 1401/2426 [42:00<2:32:25,  8.92s/it]"
          ]
        },
        {
          "output_type": "stream",
          "name": "stdout",
          "text": [
            "Val loss:  3.7789020149075254\n"
          ]
        },
        {
          "output_type": "stream",
          "name": "stderr",
          "text": [
            " 60%|█████▉    | 1450/2426 [43:02<20:31,  1.26s/it]"
          ]
        },
        {
          "output_type": "stream",
          "name": "stdout",
          "text": [
            "Train loss:  3.702164888381958\n"
          ]
        },
        {
          "output_type": "stream",
          "name": "stderr",
          "text": [
            "\r 60%|█████▉    | 1451/2426 [43:29<2:25:17,  8.94s/it]"
          ]
        },
        {
          "output_type": "stream",
          "name": "stdout",
          "text": [
            "Val loss:  3.7523710289779975\n"
          ]
        },
        {
          "output_type": "stream",
          "name": "stderr",
          "text": [
            " 62%|██████▏   | 1500/2426 [44:32<20:18,  1.32s/it]"
          ]
        },
        {
          "output_type": "stream",
          "name": "stdout",
          "text": [
            "Train loss:  3.606973171234131\n"
          ]
        },
        {
          "output_type": "stream",
          "name": "stderr",
          "text": [
            "\r 62%|██████▏   | 1501/2426 [44:59<2:18:29,  8.98s/it]"
          ]
        },
        {
          "output_type": "stream",
          "name": "stdout",
          "text": [
            "Val loss:  3.7282742870097256\n"
          ]
        },
        {
          "output_type": "stream",
          "name": "stderr",
          "text": [
            " 64%|██████▍   | 1550/2426 [46:02<18:56,  1.30s/it]"
          ]
        },
        {
          "output_type": "stream",
          "name": "stdout",
          "text": [
            "Train loss:  3.696453809738159\n"
          ]
        },
        {
          "output_type": "stream",
          "name": "stderr",
          "text": [
            "\r 64%|██████▍   | 1551/2426 [46:29<2:10:07,  8.92s/it]"
          ]
        },
        {
          "output_type": "stream",
          "name": "stdout",
          "text": [
            "Val loss:  3.702064358458227\n"
          ]
        },
        {
          "output_type": "stream",
          "name": "stderr",
          "text": [
            " 66%|██████▌   | 1600/2426 [47:31<17:19,  1.26s/it]"
          ]
        },
        {
          "output_type": "stream",
          "name": "stdout",
          "text": [
            "Train loss:  3.8055646419525146\n"
          ]
        },
        {
          "output_type": "stream",
          "name": "stderr",
          "text": [
            "\r 66%|██████▌   | 1601/2426 [47:58<2:03:10,  8.96s/it]"
          ]
        },
        {
          "output_type": "stream",
          "name": "stdout",
          "text": [
            "Val loss:  3.6809978874362246\n"
          ]
        },
        {
          "output_type": "stream",
          "name": "stderr",
          "text": [
            " 68%|██████▊   | 1650/2426 [49:00<16:21,  1.26s/it]"
          ]
        },
        {
          "output_type": "stream",
          "name": "stdout",
          "text": [
            "Train loss:  3.633462905883789\n"
          ]
        },
        {
          "output_type": "stream",
          "name": "stderr",
          "text": [
            "\r 68%|██████▊   | 1651/2426 [49:27<1:56:05,  8.99s/it]"
          ]
        },
        {
          "output_type": "stream",
          "name": "stdout",
          "text": [
            "Val loss:  3.665303132971939\n"
          ]
        },
        {
          "output_type": "stream",
          "name": "stderr",
          "text": [
            " 70%|███████   | 1700/2426 [50:31<15:23,  1.27s/it]"
          ]
        },
        {
          "output_type": "stream",
          "name": "stdout",
          "text": [
            "Train loss:  3.644735097885132\n"
          ]
        },
        {
          "output_type": "stream",
          "name": "stderr",
          "text": [
            "\r 70%|███████   | 1701/2426 [50:58<1:48:54,  9.01s/it]"
          ]
        },
        {
          "output_type": "stream",
          "name": "stdout",
          "text": [
            "Val loss:  3.638141242825255\n"
          ]
        },
        {
          "output_type": "stream",
          "name": "stderr",
          "text": [
            " 72%|███████▏  | 1750/2426 [52:01<14:15,  1.27s/it]"
          ]
        },
        {
          "output_type": "stream",
          "name": "stdout",
          "text": [
            "Train loss:  3.6562247276306152\n"
          ]
        },
        {
          "output_type": "stream",
          "name": "stderr",
          "text": [
            "\r 72%|███████▏  | 1751/2426 [52:28<1:40:36,  8.94s/it]"
          ]
        },
        {
          "output_type": "stream",
          "name": "stdout",
          "text": [
            "Val loss:  3.6176343645368303\n"
          ]
        },
        {
          "output_type": "stream",
          "name": "stderr",
          "text": [
            " 74%|███████▍  | 1800/2426 [53:31<13:31,  1.30s/it]"
          ]
        },
        {
          "output_type": "stream",
          "name": "stdout",
          "text": [
            "Train loss:  3.6932647228240967\n"
          ]
        },
        {
          "output_type": "stream",
          "name": "stderr",
          "text": [
            "\r 74%|███████▍  | 1801/2426 [53:58<1:32:48,  8.91s/it]"
          ]
        },
        {
          "output_type": "stream",
          "name": "stdout",
          "text": [
            "Val loss:  3.5960220025510203\n"
          ]
        },
        {
          "output_type": "stream",
          "name": "stderr",
          "text": [
            " 76%|███████▋  | 1850/2426 [55:02<12:14,  1.28s/it]"
          ]
        },
        {
          "output_type": "stream",
          "name": "stdout",
          "text": [
            "Train loss:  3.666956663131714\n"
          ]
        },
        {
          "output_type": "stream",
          "name": "stderr",
          "text": [
            "\r 76%|███████▋  | 1851/2426 [55:28<1:25:37,  8.93s/it]"
          ]
        },
        {
          "output_type": "stream",
          "name": "stdout",
          "text": [
            "Val loss:  3.577564473054847\n"
          ]
        },
        {
          "output_type": "stream",
          "name": "stderr",
          "text": [
            " 78%|███████▊  | 1900/2426 [56:32<11:04,  1.26s/it]"
          ]
        },
        {
          "output_type": "stream",
          "name": "stdout",
          "text": [
            "Train loss:  3.6433870792388916\n"
          ]
        },
        {
          "output_type": "stream",
          "name": "stderr",
          "text": [
            "\r 78%|███████▊  | 1901/2426 [56:59<1:18:03,  8.92s/it]"
          ]
        },
        {
          "output_type": "stream",
          "name": "stdout",
          "text": [
            "Val loss:  3.556842103296397\n"
          ]
        },
        {
          "output_type": "stream",
          "name": "stderr",
          "text": [
            " 80%|████████  | 1950/2426 [58:02<10:15,  1.29s/it]"
          ]
        },
        {
          "output_type": "stream",
          "name": "stdout",
          "text": [
            "Train loss:  3.7737550735473633\n"
          ]
        },
        {
          "output_type": "stream",
          "name": "stderr",
          "text": [
            "\r 80%|████████  | 1951/2426 [58:29<1:11:03,  8.98s/it]"
          ]
        },
        {
          "output_type": "stream",
          "name": "stdout",
          "text": [
            "Val loss:  3.5491983841876595\n"
          ]
        },
        {
          "output_type": "stream",
          "name": "stderr",
          "text": [
            " 82%|████████▏ | 2000/2426 [59:33<09:11,  1.30s/it]"
          ]
        },
        {
          "output_type": "stream",
          "name": "stdout",
          "text": [
            "Train loss:  3.4486939907073975\n"
          ]
        },
        {
          "output_type": "stream",
          "name": "stderr",
          "text": [
            "\r 82%|████████▏ | 2001/2426 [1:00:00<1:03:56,  9.03s/it]"
          ]
        },
        {
          "output_type": "stream",
          "name": "stdout",
          "text": [
            "Val loss:  3.52617224868463\n"
          ]
        },
        {
          "output_type": "stream",
          "name": "stderr",
          "text": [
            " 85%|████████▍ | 2050/2426 [1:01:04<08:01,  1.28s/it]"
          ]
        },
        {
          "output_type": "stream",
          "name": "stdout",
          "text": [
            "Train loss:  3.4405343532562256\n"
          ]
        },
        {
          "output_type": "stream",
          "name": "stderr",
          "text": [
            "\r 85%|████████▍ | 2051/2426 [1:01:31<56:14,  9.00s/it]"
          ]
        },
        {
          "output_type": "stream",
          "name": "stdout",
          "text": [
            "Val loss:  3.5142096694634883\n"
          ]
        },
        {
          "output_type": "stream",
          "name": "stderr",
          "text": [
            " 87%|████████▋ | 2100/2426 [1:02:34<06:56,  1.28s/it]"
          ]
        },
        {
          "output_type": "stream",
          "name": "stdout",
          "text": [
            "Train loss:  3.514134407043457\n"
          ]
        },
        {
          "output_type": "stream",
          "name": "stderr",
          "text": [
            "\r 87%|████████▋ | 2101/2426 [1:03:00<48:25,  8.94s/it]"
          ]
        },
        {
          "output_type": "stream",
          "name": "stdout",
          "text": [
            "Val loss:  3.4957287846779335\n"
          ]
        },
        {
          "output_type": "stream",
          "name": "stderr",
          "text": [
            " 89%|████████▊ | 2150/2426 [1:04:04<05:56,  1.29s/it]"
          ]
        },
        {
          "output_type": "stream",
          "name": "stdout",
          "text": [
            "Train loss:  3.391336441040039\n"
          ]
        },
        {
          "output_type": "stream",
          "name": "stderr",
          "text": [
            "\r 89%|████████▊ | 2151/2426 [1:04:31<41:26,  9.04s/it]"
          ]
        },
        {
          "output_type": "stream",
          "name": "stdout",
          "text": [
            "Val loss:  3.4822010896643816\n"
          ]
        },
        {
          "output_type": "stream",
          "name": "stderr",
          "text": [
            " 91%|█████████ | 2200/2426 [1:05:35<05:00,  1.33s/it]"
          ]
        },
        {
          "output_type": "stream",
          "name": "stdout",
          "text": [
            "Train loss:  3.341237783432007\n"
          ]
        },
        {
          "output_type": "stream",
          "name": "stderr",
          "text": [
            "\r 91%|█████████ | 2201/2426 [1:06:01<33:32,  8.95s/it]"
          ]
        },
        {
          "output_type": "stream",
          "name": "stdout",
          "text": [
            "Val loss:  3.475293529276945\n"
          ]
        },
        {
          "output_type": "stream",
          "name": "stderr",
          "text": [
            " 93%|█████████▎| 2250/2426 [1:07:05<03:54,  1.33s/it]"
          ]
        },
        {
          "output_type": "stream",
          "name": "stdout",
          "text": [
            "Train loss:  3.5965590476989746\n"
          ]
        },
        {
          "output_type": "stream",
          "name": "stderr",
          "text": [
            "\r 93%|█████████▎| 2251/2426 [1:07:32<26:18,  9.02s/it]"
          ]
        },
        {
          "output_type": "stream",
          "name": "stdout",
          "text": [
            "Val loss:  3.4590911865234375\n"
          ]
        },
        {
          "output_type": "stream",
          "name": "stderr",
          "text": [
            " 95%|█████████▍| 2300/2426 [1:08:36<02:43,  1.30s/it]"
          ]
        },
        {
          "output_type": "stream",
          "name": "stdout",
          "text": [
            "Train loss:  3.5059213638305664\n"
          ]
        },
        {
          "output_type": "stream",
          "name": "stderr",
          "text": [
            "\r 95%|█████████▍| 2301/2426 [1:09:03<18:57,  9.10s/it]"
          ]
        },
        {
          "output_type": "stream",
          "name": "stdout",
          "text": [
            "Val loss:  3.444359915597098\n"
          ]
        },
        {
          "output_type": "stream",
          "name": "stderr",
          "text": [
            " 97%|█████████▋| 2350/2426 [1:10:05<01:41,  1.33s/it]"
          ]
        },
        {
          "output_type": "stream",
          "name": "stdout",
          "text": [
            "Train loss:  3.499225616455078\n"
          ]
        },
        {
          "output_type": "stream",
          "name": "stderr",
          "text": [
            "\r 97%|█████████▋| 2351/2426 [1:10:33<11:21,  9.08s/it]"
          ]
        },
        {
          "output_type": "stream",
          "name": "stdout",
          "text": [
            "Val loss:  3.431516997668208\n"
          ]
        },
        {
          "output_type": "stream",
          "name": "stderr",
          "text": [
            " 99%|█████████▉| 2400/2426 [1:11:36<00:33,  1.29s/it]"
          ]
        },
        {
          "output_type": "stream",
          "name": "stdout",
          "text": [
            "Train loss:  3.384972333908081\n"
          ]
        },
        {
          "output_type": "stream",
          "name": "stderr",
          "text": [
            "\r 99%|█████████▉| 2401/2426 [1:12:03<03:41,  8.86s/it]"
          ]
        },
        {
          "output_type": "stream",
          "name": "stdout",
          "text": [
            "Val loss:  3.4170940165617028\n"
          ]
        },
        {
          "output_type": "stream",
          "name": "stderr",
          "text": [
            "100%|██████████| 2426/2426 [1:12:35<00:00,  1.80s/it]\n"
          ]
        }
      ]
    },
    {
      "cell_type": "code",
      "source": [
        "torch.save(model.state_dict(), 'PG_bert_model.pth')"
      ],
      "metadata": {
        "id": "xyKNEvSjNvtc"
      },
      "execution_count": null,
      "outputs": []
    },
    {
      "cell_type": "code",
      "source": [
        "model = PG(vocab_size, hidden_size).to(device)\n",
        "model.load_state_dict(torch.load('PG_bert_model.pth'))\n",
        "model.eval()"
      ],
      "metadata": {
        "id": "Zr3iJ2W4Rr26",
        "colab": {
          "base_uri": "https://localhost:8080/"
        },
        "outputId": "a9645d85-7d52-496e-80bd-d0f0e18e23b6"
      },
      "execution_count": null,
      "outputs": [
        {
          "output_type": "stream",
          "name": "stderr",
          "text": [
            "Some weights of the model checkpoint at distilbert-base-uncased were not used when initializing DistilBertModel: ['vocab_layer_norm.bias', 'vocab_projector.weight', 'vocab_layer_norm.weight', 'vocab_transform.weight', 'vocab_projector.bias', 'vocab_transform.bias']\n",
            "- This IS expected if you are initializing DistilBertModel from the checkpoint of a model trained on another task or with another architecture (e.g. initializing a BertForSequenceClassification model from a BertForPreTraining model).\n",
            "- This IS NOT expected if you are initializing DistilBertModel from the checkpoint of a model that you expect to be exactly identical (initializing a BertForSequenceClassification model from a BertForSequenceClassification model).\n"
          ]
        },
        {
          "output_type": "execute_result",
          "data": {
            "text/plain": [
              "PG(\n",
              "  (encoder): Encoder(\n",
              "    (bert): DistilBertModel(\n",
              "      (embeddings): Embeddings(\n",
              "        (word_embeddings): Embedding(30522, 768, padding_idx=0)\n",
              "        (position_embeddings): Embedding(512, 768)\n",
              "        (LayerNorm): LayerNorm((768,), eps=1e-12, elementwise_affine=True)\n",
              "        (dropout): Dropout(p=0.1, inplace=False)\n",
              "      )\n",
              "      (transformer): Transformer(\n",
              "        (layer): ModuleList(\n",
              "          (0-5): 6 x TransformerBlock(\n",
              "            (attention): MultiHeadSelfAttention(\n",
              "              (dropout): Dropout(p=0.1, inplace=False)\n",
              "              (q_lin): Linear(in_features=768, out_features=768, bias=True)\n",
              "              (k_lin): Linear(in_features=768, out_features=768, bias=True)\n",
              "              (v_lin): Linear(in_features=768, out_features=768, bias=True)\n",
              "              (out_lin): Linear(in_features=768, out_features=768, bias=True)\n",
              "            )\n",
              "            (sa_layer_norm): LayerNorm((768,), eps=1e-12, elementwise_affine=True)\n",
              "            (ffn): FFN(\n",
              "              (dropout): Dropout(p=0.1, inplace=False)\n",
              "              (lin1): Linear(in_features=768, out_features=3072, bias=True)\n",
              "              (lin2): Linear(in_features=3072, out_features=768, bias=True)\n",
              "              (activation): GELUActivation()\n",
              "            )\n",
              "            (output_layer_norm): LayerNorm((768,), eps=1e-12, elementwise_affine=True)\n",
              "          )\n",
              "        )\n",
              "      )\n",
              "    )\n",
              "    (out_last): Linear(in_features=768, out_features=384, bias=True)\n",
              "  )\n",
              "  (decoder): Decoder(\n",
              "    (embedding): Embedding(30522, 384)\n",
              "    (query): Linear(in_features=768, out_features=384, bias=True)\n",
              "    (v): Linear(in_features=384, out_features=1, bias=True)\n",
              "    (gru_cell): GRUCell(768, 384)\n",
              "    (out): Linear(in_features=384, out_features=30522, bias=True)\n",
              "  )\n",
              "  (criterion): NLLLoss()\n",
              "  (keys): Linear(in_features=384, out_features=384, bias=True)\n",
              ")"
            ]
          },
          "metadata": {},
          "execution_count": 47
        }
      ]
    },
    {
      "cell_type": "code",
      "source": [
        "!pip install --upgrade nltk rouge==0.3.1"
      ],
      "metadata": {
        "id": "VpTOIvSGRx0p",
        "colab": {
          "base_uri": "https://localhost:8080/"
        },
        "outputId": "bb5f483a-9221-4568-8f7b-feea8982c137"
      },
      "execution_count": null,
      "outputs": [
        {
          "output_type": "stream",
          "name": "stdout",
          "text": [
            "Looking in indexes: https://pypi.org/simple, https://us-python.pkg.dev/colab-wheels/public/simple/\n",
            "Requirement already satisfied: nltk in /usr/local/lib/python3.9/dist-packages (3.8.1)\n",
            "Collecting rouge==0.3.1\n",
            "  Downloading rouge-0.3.1-py3-none-any.whl (7.4 kB)\n",
            "Requirement already satisfied: joblib in /usr/local/lib/python3.9/dist-packages (from nltk) (1.2.0)\n",
            "Requirement already satisfied: regex>=2021.8.3 in /usr/local/lib/python3.9/dist-packages (from nltk) (2022.10.31)\n",
            "Requirement already satisfied: tqdm in /usr/local/lib/python3.9/dist-packages (from nltk) (4.65.0)\n",
            "Requirement already satisfied: click in /usr/local/lib/python3.9/dist-packages (from nltk) (8.1.3)\n",
            "Installing collected packages: rouge\n",
            "Successfully installed rouge-0.3.1\n"
          ]
        }
      ]
    },
    {
      "cell_type": "code",
      "source": [
        "from nltk.translate.bleu_score import corpus_bleu\n",
        "from rouge import Rouge\n",
        "\n",
        "def calc_scores(references, predictions, metric=\"all\"):\n",
        "    print(\"Tar:\", references[0])\n",
        "    print(\"Pred:\", predictions[0])\n",
        "\n",
        "    if metric in (\"bleu\", \"all\"):\n",
        "        print(\"BLEU: \", corpus_bleu([[r.split()] for r in references], [p.split() for p in predictions]))\n",
        "    if metric in (\"rouge\", \"all\"):\n",
        "        rouge = Rouge()\n",
        "        scores = rouge.get_scores(predictions, references, avg=True)\n",
        "        print(\"ROUGE: \", scores)"
      ],
      "metadata": {
        "id": "XvTJwUPlR0ma"
      },
      "execution_count": null,
      "outputs": []
    },
    {
      "cell_type": "code",
      "source": [
        "from nltk.translate.bleu_score import sentence_bleu\n",
        "\n",
        "device = torch.device(\"cuda\" if torch.cuda.is_available() else \"cpu\")\n",
        "\n",
        "references = []\n",
        "predictions = []\n",
        "model.eval()\n",
        "\n",
        "\n",
        "for src, tar in tqdm(val_loader):      \n",
        "      batch_size = src.size(0)\n",
        "\n",
        "      for i in range(batch_size):\n",
        "        gen = model(src[i].unsqueeze(0).to(device))\n",
        "        \n",
        "        ref = src[i].tolist()\n",
        "        target = tar[i].tolist()\n",
        "\n",
        "        src_str = tokenizer.decode(ref[1:ref.index(EOS_id)])\n",
        "        tar_str = tokenizer.decode(target[1:target.index(EOS_id)])\n",
        "        if EOS_id in gen:\n",
        "          gen_str = tokenizer.decode(gen[1:gen.index(EOS_id)])\n",
        "        else:\n",
        "          gen_str = tokenizer.decode(gen[1:])\n",
        "        \n",
        "        references.append(tar_str.lower())\n",
        "        predictions.append(gen_str.lower())\n",
        "\n",
        "calc_scores(references, predictions)"
      ],
      "metadata": {
        "id": "DH3u75LCR6cz",
        "colab": {
          "base_uri": "https://localhost:8080/"
        },
        "outputId": "56337729-4def-4909-8092-bc64c4b6887c"
      },
      "execution_count": null,
      "outputs": [
        {
          "output_type": "stream",
          "name": "stderr",
          "text": [
            "100%|██████████| 49/49 [03:08<00:00,  3.85s/it]\n"
          ]
        },
        {
          "output_type": "stream",
          "name": "stdout",
          "text": [
            "Tar: wall street stocks rise\n",
            "Pred: wall street stocks rise as cisco earnings\n",
            "BLEU:  0.09776969846444114\n",
            "ROUGE:  {'rouge-1': {'f': 0.31807861487073513, 'p': 0.36380509437947267, 'r': 0.2980097613343758}, 'rouge-2': {'f': 0.13673264280743505, 'p': 0.15463508344068744, 'r': 0.13032205056103677}, 'rouge-l': {'f': 0.2860846625398033, 'p': 0.34595755762449, 'r': 0.28354346760787913}}\n"
          ]
        }
      ]
    },
    {
      "cell_type": "code",
      "source": [],
      "metadata": {
        "id": "dOWf7UPicgc0"
      },
      "execution_count": null,
      "outputs": []
    }
  ]
}